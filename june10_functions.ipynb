{
 "cells": [
  {
   "cell_type": "code",
   "execution_count": 77,
   "id": "7acaa422-5129-40a9-8138-59dc6e99b368",
   "metadata": {},
   "outputs": [],
   "source": [
    "def show():\n",
    "    print('Hello')\n",
    "    print('ok')\n",
    "    print('Goodbye')"
   ]
  },
  {
   "cell_type": "code",
   "execution_count": 78,
   "id": "991bc2e6-1dbe-4999-b783-5db5d6435483",
   "metadata": {},
   "outputs": [
    {
     "name": "stdout",
     "output_type": "stream",
     "text": [
      "Hello\n",
      "ok\n",
      "Goodbye\n"
     ]
    }
   ],
   "source": [
    "show()"
   ]
  },
  {
   "cell_type": "code",
   "execution_count": 3,
   "id": "c8c4e597-ffe6-46af-817b-1cddd5c52df1",
   "metadata": {},
   "outputs": [
    {
     "name": "stdout",
     "output_type": "stream",
     "text": [
      "Hello\n",
      "ok\n",
      "Goodbye\n",
      "Hello\n",
      "ok\n",
      "Goodbye\n",
      "Hello\n",
      "ok\n",
      "Goodbye\n"
     ]
    }
   ],
   "source": [
    "show()\n",
    "show()\n",
    "show()"
   ]
  },
  {
   "cell_type": "code",
   "execution_count": 4,
   "id": "4fc59453-6a06-4f6a-abad-2a7705996877",
   "metadata": {},
   "outputs": [],
   "source": [
    "# parameterized functions"
   ]
  },
  {
   "cell_type": "code",
   "execution_count": 5,
   "id": "efc030eb-eb68-480e-aa88-7ee8efc444b1",
   "metadata": {},
   "outputs": [],
   "source": [
    "def square(n):\n",
    "    result = n * n\n",
    "    print('square is', result)"
   ]
  },
  {
   "cell_type": "code",
   "execution_count": 6,
   "id": "af651c55-ba32-4909-bd1a-171d8e982fa3",
   "metadata": {},
   "outputs": [
    {
     "name": "stdout",
     "output_type": "stream",
     "text": [
      "square is 100\n"
     ]
    }
   ],
   "source": [
    "square(10)"
   ]
  },
  {
   "cell_type": "code",
   "execution_count": 7,
   "id": "a3b71e7a-c209-4153-bb58-abc69e175e0f",
   "metadata": {},
   "outputs": [
    {
     "name": "stdin",
     "output_type": "stream",
     "text": [
      "enter the number 25\n"
     ]
    },
    {
     "name": "stdout",
     "output_type": "stream",
     "text": [
      "square is 625\n"
     ]
    }
   ],
   "source": [
    "num = int(input('enter the number'))\n",
    "square(num)"
   ]
  },
  {
   "cell_type": "code",
   "execution_count": 8,
   "id": "a01482d9-6205-4e9d-954b-0bbfeb3e5d1b",
   "metadata": {},
   "outputs": [],
   "source": [
    "# multi - parameterized function"
   ]
  },
  {
   "cell_type": "code",
   "execution_count": 9,
   "id": "9fd4689d-0e43-4776-a657-c11f0cb4a3cb",
   "metadata": {},
   "outputs": [],
   "source": [
    "def largest(a,b):\n",
    "    if a > b:\n",
    "        print(a,'is greater')\n",
    "    elif a == b:\n",
    "        print('equal')\n",
    "    else:\n",
    "        print(b,'is greater')"
   ]
  },
  {
   "cell_type": "code",
   "execution_count": 10,
   "id": "5f226773-6d39-4fd5-926c-7b1d9d0298d7",
   "metadata": {},
   "outputs": [
    {
     "name": "stdout",
     "output_type": "stream",
     "text": [
      "78 is greater\n"
     ]
    }
   ],
   "source": [
    "largest(45, 78)"
   ]
  },
  {
   "cell_type": "code",
   "execution_count": 11,
   "id": "62b37285-928d-4723-b60f-474caca2cc77",
   "metadata": {},
   "outputs": [],
   "source": [
    "# write a function which will print a string\n",
    "def dis(name , count):\n",
    "    for i in range(count):\n",
    "        print(name)"
   ]
  },
  {
   "cell_type": "code",
   "execution_count": 12,
   "id": "6641857a-26d0-4324-b116-4c338dbc3b24",
   "metadata": {},
   "outputs": [
    {
     "name": "stdout",
     "output_type": "stream",
     "text": [
      "pune\n",
      "pune\n",
      "pune\n",
      "pune\n",
      "pune\n",
      "pune\n",
      "pune\n"
     ]
    }
   ],
   "source": [
    "dis('pune', 7)"
   ]
  },
  {
   "cell_type": "code",
   "execution_count": 13,
   "id": "dba71feb-0b3e-4481-badd-9604d7dadb0d",
   "metadata": {},
   "outputs": [],
   "source": [
    "# function for factorial\n",
    "def facto(n):\n",
    "    fact = 1\n",
    "    for i in range(1, n+1):\n",
    "        fact = fact * i\n",
    "        print('factorial:', fact)\n",
    "        "
   ]
  },
  {
   "cell_type": "code",
   "execution_count": 14,
   "id": "aa178eb9-62be-4307-bc9e-799668de102e",
   "metadata": {},
   "outputs": [
    {
     "name": "stdout",
     "output_type": "stream",
     "text": [
      "factorial: 1\n",
      "factorial: 2\n",
      "factorial: 6\n",
      "factorial: 24\n",
      "factorial: 120\n"
     ]
    }
   ],
   "source": [
    "facto(5)"
   ]
  },
  {
   "cell_type": "code",
   "execution_count": 15,
   "id": "b475dbe7-8fa4-41e0-b9a1-a2610ca23ff7",
   "metadata": {},
   "outputs": [],
   "source": [
    "# functions returning values"
   ]
  },
  {
   "cell_type": "code",
   "execution_count": 16,
   "id": "61322c9e-e2bb-482e-a99b-a29414b6e188",
   "metadata": {},
   "outputs": [],
   "source": [
    "def square (n):\n",
    "    result = n * n\n",
    "    return result"
   ]
  },
  {
   "cell_type": "code",
   "execution_count": 17,
   "id": "47d73aee-5ae8-4b19-9d27-c6f757149b3c",
   "metadata": {},
   "outputs": [
    {
     "data": {
      "text/plain": [
       "25"
      ]
     },
     "execution_count": 17,
     "metadata": {},
     "output_type": "execute_result"
    }
   ],
   "source": [
    "square(5)"
   ]
  },
  {
   "cell_type": "code",
   "execution_count": 18,
   "id": "c457c773-4d6f-4e50-93ef-6fd18a16d037",
   "metadata": {},
   "outputs": [],
   "source": [
    "# Difference between return and printm"
   ]
  },
  {
   "cell_type": "code",
   "execution_count": 19,
   "id": "4b105024-7d46-49ac-9481-9177bea61c29",
   "metadata": {},
   "outputs": [
    {
     "name": "stdout",
     "output_type": "stream",
     "text": [
      "15\n",
      "None\n",
      "15\n",
      "result None\n"
     ]
    }
   ],
   "source": [
    "def add(a, b):\n",
    "    result = a + b\n",
    "    print(result)\n",
    "print(add(5, 10))\n",
    "op = add(5, 10)\n",
    "print('result', op)"
   ]
  },
  {
   "cell_type": "code",
   "execution_count": 21,
   "id": "1d25f5c2-90e6-4207-a563-1720bcc2aa85",
   "metadata": {},
   "outputs": [
    {
     "name": "stdout",
     "output_type": "stream",
     "text": [
      "15\n",
      "result 15\n"
     ]
    }
   ],
   "source": [
    "def add(a, b):\n",
    "    result = a + b\n",
    "    return result\n",
    "print(add(5, 10))\n",
    "op = add(5, 10)\n",
    "print('result', op)"
   ]
  },
  {
   "cell_type": "code",
   "execution_count": 22,
   "id": "054ee4ab-9590-498f-8723-d56c6554eac6",
   "metadata": {},
   "outputs": [],
   "source": [
    "def largest (a, b):\n",
    "    if a > b:\n",
    "        return a\n",
    "    elif a == b:\n",
    "        return 'Equal'\n",
    "    else:\n",
    "        return b"
   ]
  },
  {
   "cell_type": "code",
   "execution_count": 23,
   "id": "64733fac-ace3-447b-a590-ef405ce730fa",
   "metadata": {},
   "outputs": [
    {
     "data": {
      "text/plain": [
       "'Equal'"
      ]
     },
     "execution_count": 23,
     "metadata": {},
     "output_type": "execute_result"
    }
   ],
   "source": [
    "largest(7,7)"
   ]
  },
  {
   "cell_type": "code",
   "execution_count": 24,
   "id": "73f4c495-f6f1-4ed8-9079-c7983525c7fa",
   "metadata": {},
   "outputs": [],
   "source": [
    "# perm and comb\n",
    "# ncr = n! / r!(n-r)!"
   ]
  },
  {
   "cell_type": "code",
   "execution_count": 29,
   "id": "17251885-69cf-4fa0-85fc-906ff8785d29",
   "metadata": {},
   "outputs": [],
   "source": [
    "def facto(n):\n",
    "    fact = 1\n",
    "    for i in range(1, n+1):\n",
    "        fact = fact * i\n",
    "        return fact"
   ]
  },
  {
   "cell_type": "code",
   "execution_count": 30,
   "id": "45e64056-7b88-4051-9efd-75db4b3c8af9",
   "metadata": {},
   "outputs": [
    {
     "name": "stdin",
     "output_type": "stream",
     "text": [
      "total: 120\n",
      "combinations of: 60\n"
     ]
    },
    {
     "name": "stdout",
     "output_type": "stream",
     "text": [
      "1.0\n"
     ]
    }
   ],
   "source": [
    "n = int(input('total:'))\n",
    "r = int(input('combinations of:'))\n",
    "ncr = facto(n) / (facto(r) * facto(n - r))\n",
    "print(ncr)"
   ]
  },
  {
   "cell_type": "code",
   "execution_count": 31,
   "id": "60e2711e-a8f3-4637-9731-d4a25f4f4066",
   "metadata": {},
   "outputs": [],
   "source": [
    "def calc(n):\n",
    "    sq = n * n\n",
    "    cu = n ** 3\n",
    "    return sq, cu"
   ]
  },
  {
   "cell_type": "code",
   "execution_count": 32,
   "id": "68ac8cd0-45bf-40fa-91c0-7f6063b4cf3f",
   "metadata": {},
   "outputs": [
    {
     "data": {
      "text/plain": [
       "(25, 125)"
      ]
     },
     "execution_count": 32,
     "metadata": {},
     "output_type": "execute_result"
    }
   ],
   "source": [
    "calc(5)"
   ]
  },
  {
   "cell_type": "code",
   "execution_count": 33,
   "id": "c8738fd6-2218-4442-a3bb-dff221f2fec2",
   "metadata": {},
   "outputs": [
    {
     "name": "stdin",
     "output_type": "stream",
     "text": [
      "enter the number 5\n"
     ]
    },
    {
     "name": "stdout",
     "output_type": "stream",
     "text": [
      "square 25\n",
      "cube 125\n"
     ]
    }
   ],
   "source": [
    "n = int(input('enter the number'))\n",
    "x, y = calc(n)\n",
    "print('square', x)\n",
    "print('cube',y)"
   ]
  },
  {
   "cell_type": "code",
   "execution_count": 35,
   "id": "f3076134-1c58-4588-954d-57ae270a6653",
   "metadata": {},
   "outputs": [],
   "source": [
    "# default parameter\n",
    "def add3(a = 5, b = 7, c = 10):\n",
    "    result = a + b + c\n",
    "    return result"
   ]
  },
  {
   "cell_type": "code",
   "execution_count": 36,
   "id": "849ed6bd-f44d-43e8-b626-b37d0388a7b3",
   "metadata": {},
   "outputs": [
    {
     "data": {
      "text/plain": [
       "22"
      ]
     },
     "execution_count": 36,
     "metadata": {},
     "output_type": "execute_result"
    }
   ],
   "source": [
    "add3()"
   ]
  },
  {
   "cell_type": "code",
   "execution_count": 37,
   "id": "e7d54c38-06b1-43f0-8cc8-71a4b1ae55a4",
   "metadata": {},
   "outputs": [
    {
     "data": {
      "text/plain": [
       "27"
      ]
     },
     "execution_count": 37,
     "metadata": {},
     "output_type": "execute_result"
    }
   ],
   "source": [
    "add3(10)"
   ]
  },
  {
   "cell_type": "code",
   "execution_count": 38,
   "id": "47c3bec0-7418-4354-bbbc-6f8d661315dd",
   "metadata": {},
   "outputs": [
    {
     "data": {
      "text/plain": [
       "30"
      ]
     },
     "execution_count": 38,
     "metadata": {},
     "output_type": "execute_result"
    }
   ],
   "source": [
    "add3(10, 10)"
   ]
  },
  {
   "cell_type": "code",
   "execution_count": 39,
   "id": "3b15f7ff-0527-4e91-b20b-2d8cadb20d40",
   "metadata": {},
   "outputs": [
    {
     "data": {
      "text/plain": [
       "37"
      ]
     },
     "execution_count": 39,
     "metadata": {},
     "output_type": "execute_result"
    }
   ],
   "source": [
    "add3(a = 10, c = 20)"
   ]
  },
  {
   "cell_type": "code",
   "execution_count": 40,
   "id": "616d544b-5094-448e-994e-cce3e22759d7",
   "metadata": {},
   "outputs": [],
   "source": [
    "def add3(b,a = 5, c = 10):\n",
    "    result = a + b + c\n",
    "    return result"
   ]
  },
  {
   "cell_type": "code",
   "execution_count": 41,
   "id": "04dced0e-28b5-4405-8b29-927a69421b4b",
   "metadata": {},
   "outputs": [
    {
     "data": {
      "text/plain": [
       "25"
      ]
     },
     "execution_count": 41,
     "metadata": {},
     "output_type": "execute_result"
    }
   ],
   "source": [
    "add3(10)"
   ]
  },
  {
   "cell_type": "code",
   "execution_count": 42,
   "id": "fbddb1fe-dfa6-40df-868d-976a50568aa2",
   "metadata": {},
   "outputs": [],
   "source": [
    "#dynamic or variable length parameter\n",
    "def in1(*args):\n",
    "    for i in args:\n",
    "        print(i)"
   ]
  },
  {
   "cell_type": "code",
   "execution_count": 44,
   "id": "f8bc5827-5789-42a9-a99f-943a98a715ce",
   "metadata": {},
   "outputs": [
    {
     "name": "stdout",
     "output_type": "stream",
     "text": [
      "1\n",
      "2\n",
      "3\n",
      "5\n",
      "6\n",
      "7\n"
     ]
    }
   ],
   "source": [
    "in1(1,2,3,5,6,7)"
   ]
  },
  {
   "cell_type": "code",
   "execution_count": 45,
   "id": "1630e9c6-52e7-49dd-ad2c-45a9614fa10f",
   "metadata": {},
   "outputs": [],
   "source": [
    "# lambda function\n",
    "square = lambda x: x * x"
   ]
  },
  {
   "cell_type": "code",
   "execution_count": 46,
   "id": "6b063a75-c2d6-4502-86b3-ae468134d0c6",
   "metadata": {},
   "outputs": [
    {
     "data": {
      "text/plain": [
       "25"
      ]
     },
     "execution_count": 46,
     "metadata": {},
     "output_type": "execute_result"
    }
   ],
   "source": [
    "square(5)"
   ]
  },
  {
   "cell_type": "code",
   "execution_count": 47,
   "id": "8d3f3d01-20d0-4e37-b351-13706b5c7bdd",
   "metadata": {},
   "outputs": [],
   "source": [
    "ad = lambda x,y : x+y"
   ]
  },
  {
   "cell_type": "code",
   "execution_count": 48,
   "id": "fe2bcea3-e6e6-412a-932d-424754231a46",
   "metadata": {},
   "outputs": [
    {
     "data": {
      "text/plain": [
       "77"
      ]
     },
     "execution_count": 48,
     "metadata": {},
     "output_type": "execute_result"
    }
   ],
   "source": [
    "ad(10,67)"
   ]
  },
  {
   "cell_type": "code",
   "execution_count": 49,
   "id": "a630725e-7135-4e14-8153-24054e13d69f",
   "metadata": {},
   "outputs": [],
   "source": [
    "# filter\n",
    "num = [ 23, 45, 76, 13, 57, 21, 43]"
   ]
  },
  {
   "cell_type": "code",
   "execution_count": 50,
   "id": "5abfba3c-3768-491f-a0db-4b89fd5431a6",
   "metadata": {},
   "outputs": [],
   "source": [
    "new = filter(lambda x: x > 40, num)"
   ]
  },
  {
   "cell_type": "code",
   "execution_count": 51,
   "id": "5af3d94a-c706-4157-979c-38f4f117fd29",
   "metadata": {},
   "outputs": [
    {
     "data": {
      "text/plain": [
       "[45, 76, 57, 43]"
      ]
     },
     "execution_count": 51,
     "metadata": {},
     "output_type": "execute_result"
    }
   ],
   "source": [
    "list(new)"
   ]
  },
  {
   "cell_type": "code",
   "execution_count": 52,
   "id": "19c6576c-ad2d-4569-825e-86922e0fc203",
   "metadata": {},
   "outputs": [],
   "source": [
    "# map\n",
    "new = map(lambda x: x/2, num)"
   ]
  },
  {
   "cell_type": "code",
   "execution_count": 53,
   "id": "9ebf780a-fa52-4c64-aac8-fb95bdb8b20f",
   "metadata": {},
   "outputs": [
    {
     "data": {
      "text/plain": [
       "[11.5, 22.5, 38.0, 6.5, 28.5, 10.5, 21.5]"
      ]
     },
     "execution_count": 53,
     "metadata": {},
     "output_type": "execute_result"
    }
   ],
   "source": [
    "list(new)"
   ]
  },
  {
   "cell_type": "code",
   "execution_count": 54,
   "id": "63c5e0f1-ae76-4cbe-bd99-e1a55e5fb857",
   "metadata": {},
   "outputs": [
    {
     "name": "stdout",
     "output_type": "stream",
     "text": [
      "[False, True, True, False, True, False, True]\n"
     ]
    }
   ],
   "source": [
    "new = map(lambda x: x > 40, num)\n",
    "print(list(new))"
   ]
  },
  {
   "cell_type": "code",
   "execution_count": 55,
   "id": "2b9d8727-6415-40b4-bbf7-3903cf5fc820",
   "metadata": {},
   "outputs": [],
   "source": [
    "# MODULES"
   ]
  },
  {
   "cell_type": "code",
   "execution_count": 57,
   "id": "a6494c17-33ea-450d-9b5d-1591d013ba50",
   "metadata": {},
   "outputs": [],
   "source": [
    "import math"
   ]
  },
  {
   "cell_type": "code",
   "execution_count": 58,
   "id": "ab7f2e07-f58b-42da-9c24-62a5c176c076",
   "metadata": {},
   "outputs": [
    {
     "name": "stdout",
     "output_type": "stream",
     "text": [
      "Help on built-in module math:\n",
      "\n",
      "NAME\n",
      "    math\n",
      "\n",
      "DESCRIPTION\n",
      "    This module provides access to the mathematical functions\n",
      "    defined by the C standard.\n",
      "\n",
      "FUNCTIONS\n",
      "    acos(x, /)\n",
      "        Return the arc cosine (measured in radians) of x.\n",
      "        \n",
      "        The result is between 0 and pi.\n",
      "    \n",
      "    acosh(x, /)\n",
      "        Return the inverse hyperbolic cosine of x.\n",
      "    \n",
      "    asin(x, /)\n",
      "        Return the arc sine (measured in radians) of x.\n",
      "        \n",
      "        The result is between -pi/2 and pi/2.\n",
      "    \n",
      "    asinh(x, /)\n",
      "        Return the inverse hyperbolic sine of x.\n",
      "    \n",
      "    atan(x, /)\n",
      "        Return the arc tangent (measured in radians) of x.\n",
      "        \n",
      "        The result is between -pi/2 and pi/2.\n",
      "    \n",
      "    atan2(y, x, /)\n",
      "        Return the arc tangent (measured in radians) of y/x.\n",
      "        \n",
      "        Unlike atan(y/x), the signs of both x and y are considered.\n",
      "    \n",
      "    atanh(x, /)\n",
      "        Return the inverse hyperbolic tangent of x.\n",
      "    \n",
      "    cbrt(x, /)\n",
      "        Return the cube root of x.\n",
      "    \n",
      "    ceil(x, /)\n",
      "        Return the ceiling of x as an Integral.\n",
      "        \n",
      "        This is the smallest integer >= x.\n",
      "    \n",
      "    comb(n, k, /)\n",
      "        Number of ways to choose k items from n items without repetition and without order.\n",
      "        \n",
      "        Evaluates to n! / (k! * (n - k)!) when k <= n and evaluates\n",
      "        to zero when k > n.\n",
      "        \n",
      "        Also called the binomial coefficient because it is equivalent\n",
      "        to the coefficient of k-th term in polynomial expansion of the\n",
      "        expression (1 + x)**n.\n",
      "        \n",
      "        Raises TypeError if either of the arguments are not integers.\n",
      "        Raises ValueError if either of the arguments are negative.\n",
      "    \n",
      "    copysign(x, y, /)\n",
      "        Return a float with the magnitude (absolute value) of x but the sign of y.\n",
      "        \n",
      "        On platforms that support signed zeros, copysign(1.0, -0.0)\n",
      "        returns -1.0.\n",
      "    \n",
      "    cos(x, /)\n",
      "        Return the cosine of x (measured in radians).\n",
      "    \n",
      "    cosh(x, /)\n",
      "        Return the hyperbolic cosine of x.\n",
      "    \n",
      "    degrees(x, /)\n",
      "        Convert angle x from radians to degrees.\n",
      "    \n",
      "    dist(p, q, /)\n",
      "        Return the Euclidean distance between two points p and q.\n",
      "        \n",
      "        The points should be specified as sequences (or iterables) of\n",
      "        coordinates.  Both inputs must have the same dimension.\n",
      "        \n",
      "        Roughly equivalent to:\n",
      "            sqrt(sum((px - qx) ** 2.0 for px, qx in zip(p, q)))\n",
      "    \n",
      "    erf(x, /)\n",
      "        Error function at x.\n",
      "    \n",
      "    erfc(x, /)\n",
      "        Complementary error function at x.\n",
      "    \n",
      "    exp(x, /)\n",
      "        Return e raised to the power of x.\n",
      "    \n",
      "    exp2(x, /)\n",
      "        Return 2 raised to the power of x.\n",
      "    \n",
      "    expm1(x, /)\n",
      "        Return exp(x)-1.\n",
      "        \n",
      "        This function avoids the loss of precision involved in the direct evaluation of exp(x)-1 for small x.\n",
      "    \n",
      "    fabs(x, /)\n",
      "        Return the absolute value of the float x.\n",
      "    \n",
      "    factorial(n, /)\n",
      "        Find n!.\n",
      "        \n",
      "        Raise a ValueError if x is negative or non-integral.\n",
      "    \n",
      "    floor(x, /)\n",
      "        Return the floor of x as an Integral.\n",
      "        \n",
      "        This is the largest integer <= x.\n",
      "    \n",
      "    fmod(x, y, /)\n",
      "        Return fmod(x, y), according to platform C.\n",
      "        \n",
      "        x % y may differ.\n",
      "    \n",
      "    frexp(x, /)\n",
      "        Return the mantissa and exponent of x, as pair (m, e).\n",
      "        \n",
      "        m is a float and e is an int, such that x = m * 2.**e.\n",
      "        If x is 0, m and e are both 0.  Else 0.5 <= abs(m) < 1.0.\n",
      "    \n",
      "    fsum(seq, /)\n",
      "        Return an accurate floating point sum of values in the iterable seq.\n",
      "        \n",
      "        Assumes IEEE-754 floating point arithmetic.\n",
      "    \n",
      "    gamma(x, /)\n",
      "        Gamma function at x.\n",
      "    \n",
      "    gcd(*integers)\n",
      "        Greatest Common Divisor.\n",
      "    \n",
      "    hypot(...)\n",
      "        hypot(*coordinates) -> value\n",
      "        \n",
      "        Multidimensional Euclidean distance from the origin to a point.\n",
      "        \n",
      "        Roughly equivalent to:\n",
      "            sqrt(sum(x**2 for x in coordinates))\n",
      "        \n",
      "        For a two dimensional point (x, y), gives the hypotenuse\n",
      "        using the Pythagorean theorem:  sqrt(x*x + y*y).\n",
      "        \n",
      "        For example, the hypotenuse of a 3/4/5 right triangle is:\n",
      "        \n",
      "            >>> hypot(3.0, 4.0)\n",
      "            5.0\n",
      "    \n",
      "    isclose(a, b, *, rel_tol=1e-09, abs_tol=0.0)\n",
      "        Determine whether two floating point numbers are close in value.\n",
      "        \n",
      "          rel_tol\n",
      "            maximum difference for being considered \"close\", relative to the\n",
      "            magnitude of the input values\n",
      "          abs_tol\n",
      "            maximum difference for being considered \"close\", regardless of the\n",
      "            magnitude of the input values\n",
      "        \n",
      "        Return True if a is close in value to b, and False otherwise.\n",
      "        \n",
      "        For the values to be considered close, the difference between them\n",
      "        must be smaller than at least one of the tolerances.\n",
      "        \n",
      "        -inf, inf and NaN behave similarly to the IEEE 754 Standard.  That\n",
      "        is, NaN is not close to anything, even itself.  inf and -inf are\n",
      "        only close to themselves.\n",
      "    \n",
      "    isfinite(x, /)\n",
      "        Return True if x is neither an infinity nor a NaN, and False otherwise.\n",
      "    \n",
      "    isinf(x, /)\n",
      "        Return True if x is a positive or negative infinity, and False otherwise.\n",
      "    \n",
      "    isnan(x, /)\n",
      "        Return True if x is a NaN (not a number), and False otherwise.\n",
      "    \n",
      "    isqrt(n, /)\n",
      "        Return the integer part of the square root of the input.\n",
      "    \n",
      "    lcm(*integers)\n",
      "        Least Common Multiple.\n",
      "    \n",
      "    ldexp(x, i, /)\n",
      "        Return x * (2**i).\n",
      "        \n",
      "        This is essentially the inverse of frexp().\n",
      "    \n",
      "    lgamma(x, /)\n",
      "        Natural logarithm of absolute value of Gamma function at x.\n",
      "    \n",
      "    log(...)\n",
      "        log(x, [base=math.e])\n",
      "        Return the logarithm of x to the given base.\n",
      "        \n",
      "        If the base not specified, returns the natural logarithm (base e) of x.\n",
      "    \n",
      "    log10(x, /)\n",
      "        Return the base 10 logarithm of x.\n",
      "    \n",
      "    log1p(x, /)\n",
      "        Return the natural logarithm of 1+x (base e).\n",
      "        \n",
      "        The result is computed in a way which is accurate for x near zero.\n",
      "    \n",
      "    log2(x, /)\n",
      "        Return the base 2 logarithm of x.\n",
      "    \n",
      "    modf(x, /)\n",
      "        Return the fractional and integer parts of x.\n",
      "        \n",
      "        Both results carry the sign of x and are floats.\n",
      "    \n",
      "    nextafter(x, y, /)\n",
      "        Return the next floating-point value after x towards y.\n",
      "    \n",
      "    perm(n, k=None, /)\n",
      "        Number of ways to choose k items from n items without repetition and with order.\n",
      "        \n",
      "        Evaluates to n! / (n - k)! when k <= n and evaluates\n",
      "        to zero when k > n.\n",
      "        \n",
      "        If k is not specified or is None, then k defaults to n\n",
      "        and the function returns n!.\n",
      "        \n",
      "        Raises TypeError if either of the arguments are not integers.\n",
      "        Raises ValueError if either of the arguments are negative.\n",
      "    \n",
      "    pow(x, y, /)\n",
      "        Return x**y (x to the power of y).\n",
      "    \n",
      "    prod(iterable, /, *, start=1)\n",
      "        Calculate the product of all the elements in the input iterable.\n",
      "        \n",
      "        The default start value for the product is 1.\n",
      "        \n",
      "        When the iterable is empty, return the start value.  This function is\n",
      "        intended specifically for use with numeric values and may reject\n",
      "        non-numeric types.\n",
      "    \n",
      "    radians(x, /)\n",
      "        Convert angle x from degrees to radians.\n",
      "    \n",
      "    remainder(x, y, /)\n",
      "        Difference between x and the closest integer multiple of y.\n",
      "        \n",
      "        Return x - n*y where n*y is the closest integer multiple of y.\n",
      "        In the case where x is exactly halfway between two multiples of\n",
      "        y, the nearest even value of n is used. The result is always exact.\n",
      "    \n",
      "    sin(x, /)\n",
      "        Return the sine of x (measured in radians).\n",
      "    \n",
      "    sinh(x, /)\n",
      "        Return the hyperbolic sine of x.\n",
      "    \n",
      "    sqrt(x, /)\n",
      "        Return the square root of x.\n",
      "    \n",
      "    tan(x, /)\n",
      "        Return the tangent of x (measured in radians).\n",
      "    \n",
      "    tanh(x, /)\n",
      "        Return the hyperbolic tangent of x.\n",
      "    \n",
      "    trunc(x, /)\n",
      "        Truncates the Real x to the nearest Integral toward 0.\n",
      "        \n",
      "        Uses the __trunc__ magic method.\n",
      "    \n",
      "    ulp(x, /)\n",
      "        Return the value of the least significant bit of the float x.\n",
      "\n",
      "DATA\n",
      "    e = 2.718281828459045\n",
      "    inf = inf\n",
      "    nan = nan\n",
      "    pi = 3.141592653589793\n",
      "    tau = 6.283185307179586\n",
      "\n",
      "FILE\n",
      "    (built-in)\n",
      "\n",
      "\n"
     ]
    }
   ],
   "source": [
    "help(math)"
   ]
  },
  {
   "cell_type": "code",
   "execution_count": 59,
   "id": "6f527858-9fac-46fb-b4f4-5553d7e9be7f",
   "metadata": {},
   "outputs": [
    {
     "data": {
      "text/plain": [
       "10.0"
      ]
     },
     "execution_count": 59,
     "metadata": {},
     "output_type": "execute_result"
    }
   ],
   "source": [
    "math.sqrt(100)"
   ]
  },
  {
   "cell_type": "code",
   "execution_count": 60,
   "id": "645faea4-ab07-4e41-b52b-9df286e54435",
   "metadata": {},
   "outputs": [
    {
     "data": {
      "text/plain": [
       "-0.9880316240928618"
      ]
     },
     "execution_count": 60,
     "metadata": {},
     "output_type": "execute_result"
    }
   ],
   "source": [
    "math.sin(30)"
   ]
  },
  {
   "cell_type": "code",
   "execution_count": 61,
   "id": "64863161-8035-4125-9981-43f6099df727",
   "metadata": {},
   "outputs": [
    {
     "data": {
      "text/plain": [
       "2.302585092994046"
      ]
     },
     "execution_count": 61,
     "metadata": {},
     "output_type": "execute_result"
    }
   ],
   "source": [
    "math.log(10)"
   ]
  },
  {
   "cell_type": "code",
   "execution_count": 62,
   "id": "4da30677-a1ad-4912-afc6-cdd4a136309a",
   "metadata": {},
   "outputs": [
    {
     "name": "stdin",
     "output_type": "stream",
     "text": [
      "enter the radius 34\n"
     ]
    },
    {
     "name": "stdout",
     "output_type": "stream",
     "text": [
      "area of circle is: 11309.733552923255\n"
     ]
    }
   ],
   "source": [
    "# read aradius and find area\n",
    "radius = float(input('enter the radius'))\n",
    "print('area of circle is:', math.pi * r * r)"
   ]
  },
  {
   "cell_type": "code",
   "execution_count": 63,
   "id": "d668d536-896c-4683-bb30-f106e6eedccf",
   "metadata": {},
   "outputs": [],
   "source": [
    "import time"
   ]
  },
  {
   "cell_type": "code",
   "execution_count": 64,
   "id": "84b00775-1413-4c80-a388-8a9950ea991b",
   "metadata": {},
   "outputs": [
    {
     "data": {
      "text/plain": [
       "'Sat Jun 15 20:31:44 2024'"
      ]
     },
     "execution_count": 64,
     "metadata": {},
     "output_type": "execute_result"
    }
   ],
   "source": [
    "time.asctime()"
   ]
  },
  {
   "cell_type": "code",
   "execution_count": 65,
   "id": "9c142bed-ebc5-452c-b466-a693ecca89d4",
   "metadata": {},
   "outputs": [
    {
     "name": "stdout",
     "output_type": "stream",
     "text": [
      "hello\n",
      "ok\n"
     ]
    }
   ],
   "source": [
    "print('hello')\n",
    "time.sleep(5)\n",
    "print('ok')"
   ]
  },
  {
   "cell_type": "code",
   "execution_count": 82,
   "id": "3146b04a-57d6-4777-9049-9344666ac64e",
   "metadata": {},
   "outputs": [],
   "source": [
    "# giving an alias\n",
    "import math as m"
   ]
  },
  {
   "cell_type": "code",
   "execution_count": 83,
   "id": "301b1ec7-f0d6-40ed-8733-a6a89773d722",
   "metadata": {},
   "outputs": [
    {
     "data": {
      "text/plain": [
       "2.23606797749979"
      ]
     },
     "execution_count": 83,
     "metadata": {},
     "output_type": "execute_result"
    }
   ],
   "source": [
    "m.sqrt(5)"
   ]
  },
  {
   "cell_type": "code",
   "execution_count": 84,
   "id": "fef52678-0c80-4d2a-9f03-02c3d5f1587a",
   "metadata": {},
   "outputs": [],
   "source": [
    "# selective imports\n",
    "from math import sqrt, sin, pi"
   ]
  },
  {
   "cell_type": "code",
   "execution_count": 85,
   "id": "a0f1b001-56a9-4098-9053-39d61a99915a",
   "metadata": {},
   "outputs": [
    {
     "data": {
      "text/plain": [
       "2.23606797749979"
      ]
     },
     "execution_count": 85,
     "metadata": {},
     "output_type": "execute_result"
    }
   ],
   "source": [
    "sqrt(5)"
   ]
  },
  {
   "cell_type": "code",
   "execution_count": 86,
   "id": "60c653a5-8c80-4675-8410-ad9a9c6a20d5",
   "metadata": {},
   "outputs": [
    {
     "data": {
      "text/plain": [
       "3.141592653589793"
      ]
     },
     "execution_count": 86,
     "metadata": {},
     "output_type": "execute_result"
    }
   ],
   "source": [
    "pi"
   ]
  },
  {
   "cell_type": "code",
   "execution_count": 101,
   "id": "1fe48940-91d7-4614-a37b-59d9cd56fdd7",
   "metadata": {},
   "outputs": [],
   "source": [
    "def mod11():\n",
    "    print('hello world')\n",
    "    print('welcome')\n",
    "    print('goodbye!!!')"
   ]
  },
  {
   "cell_type": "code",
   "execution_count": 102,
   "id": "0f03aa4a-14b6-475f-9bc1-0d3dcbff16ee",
   "metadata": {},
   "outputs": [
    {
     "name": "stdout",
     "output_type": "stream",
     "text": [
      "hello world\n",
      "welcome\n",
      "goodbye!!!\n"
     ]
    }
   ],
   "source": [
    "mod11()"
   ]
  },
  {
   "cell_type": "code",
   "execution_count": 105,
   "id": "96b418bf-b0b0-4e2b-a518-8ca10ecba4e5",
   "metadata": {},
   "outputs": [
    {
     "name": "stdout",
     "output_type": "stream",
     "text": [
      "hello world\n",
      "welcome\n",
      "goodbye!!!\n"
     ]
    }
   ],
   "source": [
    "mod11()"
   ]
  },
  {
   "cell_type": "code",
   "execution_count": null,
   "id": "69b845de-ddd3-45cf-bf63-c2d5896bcba4",
   "metadata": {},
   "outputs": [],
   "source": []
  }
 ],
 "metadata": {
  "kernelspec": {
   "display_name": "Python 3 (ipykernel)",
   "language": "python",
   "name": "python3"
  },
  "language_info": {
   "codemirror_mode": {
    "name": "ipython",
    "version": 3
   },
   "file_extension": ".py",
   "mimetype": "text/x-python",
   "name": "python",
   "nbconvert_exporter": "python",
   "pygments_lexer": "ipython3",
   "version": "3.11.7"
  }
 },
 "nbformat": 4,
 "nbformat_minor": 5
}
