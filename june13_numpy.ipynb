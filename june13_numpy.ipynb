{
 "cells": [
  {
   "cell_type": "code",
   "execution_count": 1,
   "id": "fd047854-d069-470c-9fbc-ae8b9ebdb8a2",
   "metadata": {},
   "outputs": [],
   "source": [
    "import numpy as np"
   ]
  },
  {
   "cell_type": "code",
   "execution_count": 14,
   "id": "ccb93bf3-7d81-4905-9600-a670d3cf1060",
   "metadata": {},
   "outputs": [],
   "source": [
    "arr = np.array([12,23,45,56,32])"
   ]
  },
  {
   "cell_type": "code",
   "execution_count": 15,
   "id": "6414bed2-72c7-4c08-a66a-6c9a086f1eff",
   "metadata": {},
   "outputs": [
    {
     "data": {
      "text/plain": [
       "array([12, 23, 45, 56, 32])"
      ]
     },
     "execution_count": 15,
     "metadata": {},
     "output_type": "execute_result"
    }
   ],
   "source": [
    "arr"
   ]
  },
  {
   "cell_type": "code",
   "execution_count": 16,
   "id": "4c8892b8-946e-4ac6-9c8c-73c7f6bde996",
   "metadata": {},
   "outputs": [
    {
     "name": "stdout",
     "output_type": "stream",
     "text": [
      "[12 23 45 56 32]\n"
     ]
    }
   ],
   "source": [
    "print(arr)"
   ]
  },
  {
   "cell_type": "code",
   "execution_count": 17,
   "id": "96a7c4c9-2883-47a5-bf91-0477a893e125",
   "metadata": {},
   "outputs": [
    {
     "data": {
      "text/plain": [
       "numpy.ndarray"
      ]
     },
     "execution_count": 17,
     "metadata": {},
     "output_type": "execute_result"
    }
   ],
   "source": [
    "type(arr)"
   ]
  },
  {
   "cell_type": "code",
   "execution_count": 18,
   "id": "187ef6c7-2d48-40ce-a8ab-76afe119d332",
   "metadata": {},
   "outputs": [
    {
     "data": {
      "text/plain": [
       "dtype('int32')"
      ]
     },
     "execution_count": 18,
     "metadata": {},
     "output_type": "execute_result"
    }
   ],
   "source": [
    "arr.dtype"
   ]
  },
  {
   "cell_type": "code",
   "execution_count": 9,
   "id": "44a57bf6-5dbb-43b9-9487-f406a71a92e9",
   "metadata": {},
   "outputs": [],
   "source": [
    "arr = np.array([12,23,45,56,32,66.32])"
   ]
  },
  {
   "cell_type": "code",
   "execution_count": 10,
   "id": "0758863f-6c02-4038-a9a9-dd04477fc873",
   "metadata": {},
   "outputs": [
    {
     "data": {
      "text/plain": [
       "dtype('float64')"
      ]
     },
     "execution_count": 10,
     "metadata": {},
     "output_type": "execute_result"
    }
   ],
   "source": [
    "arr.dtype"
   ]
  },
  {
   "cell_type": "code",
   "execution_count": 19,
   "id": "36b8e8e6-05ce-4ad9-8900-438d7121a8df",
   "metadata": {},
   "outputs": [
    {
     "data": {
      "text/plain": [
       "array([12, 23, 45, 56, 32])"
      ]
     },
     "execution_count": 19,
     "metadata": {},
     "output_type": "execute_result"
    }
   ],
   "source": [
    "arr"
   ]
  },
  {
   "cell_type": "code",
   "execution_count": 21,
   "id": "71cf4adf-f146-4a74-bfd4-d59436d5d2bf",
   "metadata": {},
   "outputs": [],
   "source": [
    "arr = np.array (['12' ,'23' ,'45' ,'56' ,'32' ,'66.32','pune'], dtype='<U32')"
   ]
  },
  {
   "cell_type": "code",
   "execution_count": 22,
   "id": "a350fcfd-2bf9-49ae-8490-2ab0d6cf3ab9",
   "metadata": {},
   "outputs": [
    {
     "data": {
      "text/plain": [
       "array(['12', '23', '45', '56', '32', '66.32', 'pune'], dtype='<U32')"
      ]
     },
     "execution_count": 22,
     "metadata": {},
     "output_type": "execute_result"
    }
   ],
   "source": [
    "arr"
   ]
  },
  {
   "cell_type": "code",
   "execution_count": 23,
   "id": "1845ffa7-5636-40f1-bb89-4b804233fbad",
   "metadata": {},
   "outputs": [
    {
     "name": "stdout",
     "output_type": "stream",
     "text": [
      "6.55 µs ± 86.9 ns per loop (mean ± std. dev. of 7 runs, 100,000 loops each)\n"
     ]
    }
   ],
   "source": [
    "%%timeit\n",
    "arr = np.array([12, 23, 34, 45, 56, 32, 66.32, 'pune'])"
   ]
  },
  {
   "cell_type": "code",
   "execution_count": 24,
   "id": "76ff64b2-9f3e-43f1-b1eb-dce013713d6f",
   "metadata": {},
   "outputs": [
    {
     "data": {
      "text/plain": [
       "'56'"
      ]
     },
     "execution_count": 24,
     "metadata": {},
     "output_type": "execute_result"
    }
   ],
   "source": [
    "arr[3]"
   ]
  },
  {
   "cell_type": "code",
   "execution_count": 25,
   "id": "10bb0274-f945-49c7-accb-f2f401657907",
   "metadata": {},
   "outputs": [
    {
     "data": {
      "text/plain": [
       "(7,)"
      ]
     },
     "execution_count": 25,
     "metadata": {},
     "output_type": "execute_result"
    }
   ],
   "source": [
    "arr.shape"
   ]
  },
  {
   "cell_type": "code",
   "execution_count": 32,
   "id": "9a2ecfdd-104c-4955-b989-3efb588b3630",
   "metadata": {},
   "outputs": [],
   "source": [
    "arr = np.array([12,23,45,56,32,32])"
   ]
  },
  {
   "cell_type": "code",
   "execution_count": 33,
   "id": "c7c1f53b-ba3e-4098-b7b7-cfb087b804c1",
   "metadata": {},
   "outputs": [
    {
     "data": {
      "text/plain": [
       "array([ 24,  46,  90, 112,  64,  64])"
      ]
     },
     "execution_count": 33,
     "metadata": {},
     "output_type": "execute_result"
    }
   ],
   "source": [
    "arr * 2"
   ]
  },
  {
   "cell_type": "code",
   "execution_count": 35,
   "id": "f609f6c9-1b3c-4a78-ad2f-aa71a7d6f387",
   "metadata": {},
   "outputs": [
    {
     "data": {
      "text/plain": [
       "array([ 0,  1,  2,  3,  4,  5,  6,  7,  8,  9, 10, 11])"
      ]
     },
     "execution_count": 35,
     "metadata": {},
     "output_type": "execute_result"
    }
   ],
   "source": [
    "np.arange(12)"
   ]
  },
  {
   "cell_type": "code",
   "execution_count": 36,
   "id": "f9289e2b-59a5-45d1-9b6c-be94e45deb28",
   "metadata": {},
   "outputs": [
    {
     "data": {
      "text/plain": [
       "array([ 2,  3,  4,  5,  6,  7,  8,  9, 10, 11, 12, 13, 14, 15, 16, 17, 18,\n",
       "       19])"
      ]
     },
     "execution_count": 36,
     "metadata": {},
     "output_type": "execute_result"
    }
   ],
   "source": [
    "np.arange(2,20)"
   ]
  },
  {
   "cell_type": "code",
   "execution_count": 38,
   "id": "7955f5bd-1b77-43b3-beed-39ce2aa0f662",
   "metadata": {},
   "outputs": [
    {
     "data": {
      "text/plain": [
       "array([-5. , -4.5, -4. , -3.5, -3. , -2.5, -2. , -1.5, -1. , -0.5,  0. ,\n",
       "        0.5,  1. ,  1.5,  2. ,  2.5,  3. ,  3.5,  4. ,  4.5])"
      ]
     },
     "execution_count": 38,
     "metadata": {},
     "output_type": "execute_result"
    }
   ],
   "source": [
    "np.arange(-5, 5, 0.5)"
   ]
  },
  {
   "cell_type": "code",
   "execution_count": 39,
   "id": "5c6f42cd-dca4-4e20-bf91-1d953c16a071",
   "metadata": {},
   "outputs": [
    {
     "data": {
      "text/plain": [
       "array([0., 0., 0., 0., 0., 0., 0., 0., 0., 0.])"
      ]
     },
     "execution_count": 39,
     "metadata": {},
     "output_type": "execute_result"
    }
   ],
   "source": [
    "np.zeros(10)"
   ]
  },
  {
   "cell_type": "code",
   "execution_count": 40,
   "id": "77c6b814-d641-477e-981c-e3d5140de738",
   "metadata": {},
   "outputs": [
    {
     "data": {
      "text/plain": [
       "array([1., 1., 1., 1., 1., 1., 1., 1., 1., 1.])"
      ]
     },
     "execution_count": 40,
     "metadata": {},
     "output_type": "execute_result"
    }
   ],
   "source": [
    "np.ones(10)"
   ]
  },
  {
   "cell_type": "code",
   "execution_count": 49,
   "id": "f1b0bb73-acef-4df2-9b39-cf1c65ceea7b",
   "metadata": {},
   "outputs": [],
   "source": [
    "#2d\n",
    "\n",
    "arr1 = np.array([[1,2,3],[4,5,6],[7,8,9],[10,11,12]])"
   ]
  },
  {
   "cell_type": "code",
   "execution_count": 50,
   "id": "ddaee48e-9208-4af1-8d2c-7c22faaa509d",
   "metadata": {},
   "outputs": [
    {
     "data": {
      "text/plain": [
       "array([[ 1,  2,  3],\n",
       "       [ 4,  5,  6],\n",
       "       [ 7,  8,  9],\n",
       "       [10, 11, 12]])"
      ]
     },
     "execution_count": 50,
     "metadata": {},
     "output_type": "execute_result"
    }
   ],
   "source": [
    "arr1"
   ]
  },
  {
   "cell_type": "code",
   "execution_count": 51,
   "id": "be293bd7-3309-4f6a-95f9-5d184c04c99b",
   "metadata": {},
   "outputs": [
    {
     "data": {
      "text/plain": [
       "(4, 3)"
      ]
     },
     "execution_count": 51,
     "metadata": {},
     "output_type": "execute_result"
    }
   ],
   "source": [
    "arr1.shape"
   ]
  },
  {
   "cell_type": "code",
   "execution_count": 46,
   "id": "12696299-c78b-4d6c-82a6-b6ddbe0bef80",
   "metadata": {},
   "outputs": [
    {
     "data": {
      "text/plain": [
       "2"
      ]
     },
     "execution_count": 46,
     "metadata": {},
     "output_type": "execute_result"
    }
   ],
   "source": [
    "arr1.ndim"
   ]
  },
  {
   "cell_type": "code",
   "execution_count": 47,
   "id": "48136f46-8911-41a0-9b7b-54daedaa563f",
   "metadata": {},
   "outputs": [
    {
     "data": {
      "text/plain": [
       "array([ 1,  2,  3,  4,  5,  6,  7,  8,  9, 10, 11, 12])"
      ]
     },
     "execution_count": 47,
     "metadata": {},
     "output_type": "execute_result"
    }
   ],
   "source": [
    "arr1.flatten()"
   ]
  },
  {
   "cell_type": "code",
   "execution_count": 53,
   "id": "12ec8041-4369-4437-b26e-0625e1ff730a",
   "metadata": {},
   "outputs": [
    {
     "data": {
      "text/plain": [
       "array([[ 1,  2,  3,  4],\n",
       "       [ 5,  6,  7,  8],\n",
       "       [ 9, 10, 11, 12]])"
      ]
     },
     "execution_count": 53,
     "metadata": {},
     "output_type": "execute_result"
    }
   ],
   "source": [
    "arr1.reshape(3,4)"
   ]
  },
  {
   "cell_type": "code",
   "execution_count": 54,
   "id": "d6df531e-8a66-4290-9428-d55a10191859",
   "metadata": {},
   "outputs": [
    {
     "data": {
      "text/plain": [
       "12"
      ]
     },
     "execution_count": 54,
     "metadata": {},
     "output_type": "execute_result"
    }
   ],
   "source": [
    "arr1.size"
   ]
  },
  {
   "cell_type": "code",
   "execution_count": 55,
   "id": "030a9d08-02f3-4525-817c-21232cd31a8f",
   "metadata": {},
   "outputs": [
    {
     "data": {
      "text/plain": [
       "array([[ 1,  2],\n",
       "       [ 3,  4],\n",
       "       [ 5,  6],\n",
       "       [ 7,  8],\n",
       "       [ 9, 10],\n",
       "       [11, 12]])"
      ]
     },
     "execution_count": 55,
     "metadata": {},
     "output_type": "execute_result"
    }
   ],
   "source": [
    "arr1.reshape(6,2)"
   ]
  },
  {
   "cell_type": "code",
   "execution_count": 56,
   "id": "5eab95a4-91f0-481b-8d92-ace4deb01bcd",
   "metadata": {},
   "outputs": [
    {
     "data": {
      "text/plain": [
       "array([[ 1,  2],\n",
       "       [ 3,  4],\n",
       "       [ 5,  6],\n",
       "       [ 7,  8],\n",
       "       [ 9, 10],\n",
       "       [11, 12]])"
      ]
     },
     "execution_count": 56,
     "metadata": {},
     "output_type": "execute_result"
    }
   ],
   "source": [
    "arr1.reshape(6,-1)"
   ]
  },
  {
   "cell_type": "code",
   "execution_count": 57,
   "id": "e875eced-3a18-4d38-8ce7-3f6272ae87c4",
   "metadata": {},
   "outputs": [
    {
     "data": {
      "text/plain": [
       "array([[ 1,  2],\n",
       "       [ 3,  4],\n",
       "       [ 5,  6],\n",
       "       [ 7,  8],\n",
       "       [ 9, 10],\n",
       "       [11, 12]])"
      ]
     },
     "execution_count": 57,
     "metadata": {},
     "output_type": "execute_result"
    }
   ],
   "source": [
    "arr1.reshape(-1,2)"
   ]
  },
  {
   "cell_type": "code",
   "execution_count": 58,
   "id": "dc20abab-241c-48cd-ae89-32597ed401d6",
   "metadata": {},
   "outputs": [
    {
     "data": {
      "text/plain": [
       "array([[[ 1,  2],\n",
       "        [ 3,  4]],\n",
       "\n",
       "       [[ 5,  6],\n",
       "        [ 7,  8]],\n",
       "\n",
       "       [[ 9, 10],\n",
       "        [11, 12]]])"
      ]
     },
     "execution_count": 58,
     "metadata": {},
     "output_type": "execute_result"
    }
   ],
   "source": [
    "arr1.reshape(3,2,2)"
   ]
  },
  {
   "cell_type": "code",
   "execution_count": 59,
   "id": "32d899e9-0045-44ae-92d2-20f378b03033",
   "metadata": {},
   "outputs": [
    {
     "data": {
      "text/plain": [
       "array([[[ 1],\n",
       "        [ 2],\n",
       "        [ 3]],\n",
       "\n",
       "       [[ 4],\n",
       "        [ 5],\n",
       "        [ 6]],\n",
       "\n",
       "       [[ 7],\n",
       "        [ 8],\n",
       "        [ 9]],\n",
       "\n",
       "       [[10],\n",
       "        [11],\n",
       "        [12]]])"
      ]
     },
     "execution_count": 59,
     "metadata": {},
     "output_type": "execute_result"
    }
   ],
   "source": [
    "arr1.reshape(4,3,-1)"
   ]
  },
  {
   "cell_type": "code",
   "execution_count": 60,
   "id": "d2270553-1a6b-427b-873a-04f1f8a4ebd4",
   "metadata": {},
   "outputs": [
    {
     "data": {
      "text/plain": [
       "array([[ 1,  2,  3],\n",
       "       [ 4,  5,  6],\n",
       "       [ 7,  8,  9],\n",
       "       [10, 11, 12]])"
      ]
     },
     "execution_count": 60,
     "metadata": {},
     "output_type": "execute_result"
    }
   ],
   "source": [
    "arr1"
   ]
  },
  {
   "cell_type": "code",
   "execution_count": 61,
   "id": "c845e22a-ab0d-4da2-b2e8-208710b23335",
   "metadata": {},
   "outputs": [
    {
     "data": {
      "text/plain": [
       "array([[1, 2],\n",
       "       [4, 5],\n",
       "       [7, 8]])"
      ]
     },
     "execution_count": 61,
     "metadata": {},
     "output_type": "execute_result"
    }
   ],
   "source": [
    "arr1[0:3,0:2]"
   ]
  },
  {
   "cell_type": "code",
   "execution_count": 62,
   "id": "0e7e8ad9-9217-42a0-9dd3-1bfc6b4b0f15",
   "metadata": {},
   "outputs": [
    {
     "data": {
      "text/plain": [
       "array([12, 23, 45, 56, 32, 32])"
      ]
     },
     "execution_count": 62,
     "metadata": {},
     "output_type": "execute_result"
    }
   ],
   "source": [
    "arr"
   ]
  },
  {
   "cell_type": "code",
   "execution_count": 63,
   "id": "b86609d8-1b90-452b-b4cf-024665497337",
   "metadata": {},
   "outputs": [
    {
     "data": {
      "text/plain": [
       "33.333333333333336"
      ]
     },
     "execution_count": 63,
     "metadata": {},
     "output_type": "execute_result"
    }
   ],
   "source": [
    "arr.mean()"
   ]
  },
  {
   "cell_type": "code",
   "execution_count": 64,
   "id": "7fb1c49c-8559-4757-b2bb-fa8d92a76fe1",
   "metadata": {},
   "outputs": [
    {
     "data": {
      "text/plain": [
       "12"
      ]
     },
     "execution_count": 64,
     "metadata": {},
     "output_type": "execute_result"
    }
   ],
   "source": [
    "arr.min()"
   ]
  },
  {
   "cell_type": "code",
   "execution_count": 65,
   "id": "0e95d5df-bcfe-4803-8e81-67606b8389d7",
   "metadata": {},
   "outputs": [],
   "source": [
    "arr = np.array([1,2,3,4,5,6,7,1])"
   ]
  },
  {
   "cell_type": "code",
   "execution_count": 66,
   "id": "03bce645-4b73-4f42-8099-50b8cd913709",
   "metadata": {},
   "outputs": [
    {
     "data": {
      "text/plain": [
       "array([1, 2, 3, 4, 5, 6, 7])"
      ]
     },
     "execution_count": 66,
     "metadata": {},
     "output_type": "execute_result"
    }
   ],
   "source": [
    "np.unique(arr)"
   ]
  },
  {
   "cell_type": "code",
   "execution_count": 68,
   "id": "2a905034-e10e-4937-a668-fb6fbaa91704",
   "metadata": {},
   "outputs": [
    {
     "data": {
      "text/plain": [
       "array([[ 1,  2,  3],\n",
       "       [ 4,  5,  6],\n",
       "       [ 7,  8,  9],\n",
       "       [10, 11, 12]])"
      ]
     },
     "execution_count": 68,
     "metadata": {},
     "output_type": "execute_result"
    }
   ],
   "source": [
    "arr1"
   ]
  },
  {
   "cell_type": "code",
   "execution_count": 72,
   "id": "c699254c-89c8-48a8-821c-4ca02f0e524d",
   "metadata": {},
   "outputs": [
    {
     "data": {
      "text/plain": [
       "array([[1, 2, 3],\n",
       "       [4, 5, 6],\n",
       "       [7, 8, 9]])"
      ]
     },
     "execution_count": 72,
     "metadata": {},
     "output_type": "execute_result"
    }
   ],
   "source": [
    "arr1 = np.array([[1,2,3],[4,5,6],[7,8,9]])\n",
    "arr1"
   ]
  },
  {
   "cell_type": "code",
   "execution_count": 73,
   "id": "0ed1e7b8-8ddf-4390-af68-ddd0d4ff4b62",
   "metadata": {},
   "outputs": [
    {
     "data": {
      "text/plain": [
       "-9.51619735392994e-16"
      ]
     },
     "execution_count": 73,
     "metadata": {},
     "output_type": "execute_result"
    }
   ],
   "source": [
    "np.linalg.det(arr1)"
   ]
  },
  {
   "cell_type": "code",
   "execution_count": 74,
   "id": "f782a1fc-6610-4a0f-922b-ddadd090b2e0",
   "metadata": {},
   "outputs": [
    {
     "data": {
      "text/plain": [
       "array([[ 3.15251974e+15, -6.30503948e+15,  3.15251974e+15],\n",
       "       [-6.30503948e+15,  1.26100790e+16, -6.30503948e+15],\n",
       "       [ 3.15251974e+15, -6.30503948e+15,  3.15251974e+15]])"
      ]
     },
     "execution_count": 74,
     "metadata": {},
     "output_type": "execute_result"
    }
   ],
   "source": [
    "np.linalg.inv(arr1)"
   ]
  },
  {
   "cell_type": "code",
   "execution_count": 77,
   "id": "65e8cafe-dc96-464a-8fc2-c33a4232a10c",
   "metadata": {},
   "outputs": [
    {
     "data": {
      "text/plain": [
       "array([[1, 2, 3],\n",
       "       [4, 5, 6],\n",
       "       [7, 8, 9]])"
      ]
     },
     "execution_count": 77,
     "metadata": {},
     "output_type": "execute_result"
    }
   ],
   "source": [
    "arr2 = np.array([[1,2,3],[4,5,6],[7,8,9]])\n",
    "arr2"
   ]
  },
  {
   "cell_type": "code",
   "execution_count": 78,
   "id": "0a0cbcd6-e126-4cd0-8e6a-572685749a16",
   "metadata": {},
   "outputs": [
    {
     "data": {
      "text/plain": [
       "array([[ 30,  36,  42],\n",
       "       [ 66,  81,  96],\n",
       "       [102, 126, 150]])"
      ]
     },
     "execution_count": 78,
     "metadata": {},
     "output_type": "execute_result"
    }
   ],
   "source": [
    "arr1 @arr2"
   ]
  },
  {
   "cell_type": "code",
   "execution_count": 79,
   "id": "e428508f-4950-4c84-8ef0-cb0eb8bf75ee",
   "metadata": {},
   "outputs": [
    {
     "data": {
      "text/plain": [
       "array([[ 1,  4,  9],\n",
       "       [16, 25, 36],\n",
       "       [49, 64, 81]])"
      ]
     },
     "execution_count": 79,
     "metadata": {},
     "output_type": "execute_result"
    }
   ],
   "source": [
    "arr1 * arr2"
   ]
  },
  {
   "cell_type": "code",
   "execution_count": null,
   "id": "10337ba3-6e47-4ded-85ff-4a293e6d3862",
   "metadata": {},
   "outputs": [],
   "source": []
  }
 ],
 "metadata": {
  "kernelspec": {
   "display_name": "Python 3 (ipykernel)",
   "language": "python",
   "name": "python3"
  },
  "language_info": {
   "codemirror_mode": {
    "name": "ipython",
    "version": 3
   },
   "file_extension": ".py",
   "mimetype": "text/x-python",
   "name": "python",
   "nbconvert_exporter": "python",
   "pygments_lexer": "ipython3",
   "version": "3.11.7"
  }
 },
 "nbformat": 4,
 "nbformat_minor": 5
}
