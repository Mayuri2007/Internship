{
 "cells": [
  {
   "cell_type": "code",
   "execution_count": null,
   "id": "43af046c-7fe4-451a-8ac2-b77d06281c43",
   "metadata": {},
   "outputs": [],
   "source": [
    "# LIST"
   ]
  },
  {
   "cell_type": "code",
   "execution_count": 1,
   "id": "a03f278e-8ae2-49b7-aa94-ce82607bf029",
   "metadata": {},
   "outputs": [],
   "source": [
    "l = [12,23,34,45,17]"
   ]
  },
  {
   "cell_type": "code",
   "execution_count": 2,
   "id": "12d25550-9f65-4ed1-af5e-8d9f19bb0699",
   "metadata": {},
   "outputs": [
    {
     "name": "stdout",
     "output_type": "stream",
     "text": [
      "[12, 23, 34, 45, 17]\n"
     ]
    }
   ],
   "source": [
    "print(l)"
   ]
  },
  {
   "cell_type": "code",
   "execution_count": 3,
   "id": "f04d3c1a-cb8b-4bf6-a392-cb048c00b259",
   "metadata": {},
   "outputs": [
    {
     "data": {
      "text/plain": [
       "int"
      ]
     },
     "execution_count": 3,
     "metadata": {},
     "output_type": "execute_result"
    }
   ],
   "source": [
    "type(1)"
   ]
  },
  {
   "cell_type": "code",
   "execution_count": 4,
   "id": "4d582579-45a7-4925-92b1-df1dbf43b054",
   "metadata": {},
   "outputs": [],
   "source": [
    "l = [12,23,34,45,17,12]"
   ]
  },
  {
   "cell_type": "code",
   "execution_count": 5,
   "id": "f5782359-7429-4e80-92df-374013c76568",
   "metadata": {},
   "outputs": [
    {
     "name": "stdout",
     "output_type": "stream",
     "text": [
      "[12, 23, 34, 45, 17, 12]\n"
     ]
    }
   ],
   "source": [
    "print(l)"
   ]
  },
  {
   "cell_type": "code",
   "execution_count": 6,
   "id": "11c3dc23-3548-4002-9152-b407fc323dc6",
   "metadata": {},
   "outputs": [],
   "source": [
    "l = [12,23,34,45,17,12,'mayu',True]"
   ]
  },
  {
   "cell_type": "code",
   "execution_count": 7,
   "id": "ce6b344b-9cd1-4a80-b0b2-fe98e23fc5ad",
   "metadata": {},
   "outputs": [
    {
     "name": "stdout",
     "output_type": "stream",
     "text": [
      "[12, 23, 34, 45, 17, 12, 'mayu', True]\n"
     ]
    }
   ],
   "source": [
    "print(l)"
   ]
  },
  {
   "cell_type": "code",
   "execution_count": 8,
   "id": "81f2c532-538b-4288-af10-e693ef240da8",
   "metadata": {},
   "outputs": [
    {
     "data": {
      "text/plain": [
       "12"
      ]
     },
     "execution_count": 8,
     "metadata": {},
     "output_type": "execute_result"
    }
   ],
   "source": [
    "# Access data \n",
    "# lists are ordered\n",
    "l[0]"
   ]
  },
  {
   "cell_type": "code",
   "execution_count": 9,
   "id": "f278fc1f-49e2-40b9-a0a6-0580ca5e5211",
   "metadata": {},
   "outputs": [
    {
     "data": {
      "text/plain": [
       "12"
      ]
     },
     "execution_count": 9,
     "metadata": {},
     "output_type": "execute_result"
    }
   ],
   "source": [
    "l[5]"
   ]
  },
  {
   "cell_type": "code",
   "execution_count": 10,
   "id": "744d3cdc-1f5d-4092-af77-e34408a902e3",
   "metadata": {},
   "outputs": [
    {
     "data": {
      "text/plain": [
       "True"
      ]
     },
     "execution_count": 10,
     "metadata": {},
     "output_type": "execute_result"
    }
   ],
   "source": [
    "l[-1]"
   ]
  },
  {
   "cell_type": "code",
   "execution_count": 11,
   "id": "2b07bfd1-1775-44a5-8783-a36259ebe605",
   "metadata": {},
   "outputs": [],
   "source": [
    "l[-1] = 57"
   ]
  },
  {
   "cell_type": "code",
   "execution_count": 12,
   "id": "471bdc07-2222-40bd-88d6-270eef84abd5",
   "metadata": {},
   "outputs": [
    {
     "data": {
      "text/plain": [
       "[12, 23, 34, 45, 17, 12, 'mayu', 57]"
      ]
     },
     "execution_count": 12,
     "metadata": {},
     "output_type": "execute_result"
    }
   ],
   "source": [
    "l"
   ]
  },
  {
   "cell_type": "code",
   "execution_count": 15,
   "id": "43309cbe-e9c9-41ec-ab01-3ae0b25452fc",
   "metadata": {},
   "outputs": [
    {
     "data": {
      "text/plain": [
       "[12, 23, 34, 45, 17, 12, 10, 57]"
      ]
     },
     "execution_count": 15,
     "metadata": {},
     "output_type": "execute_result"
    }
   ],
   "source": [
    "l[-2] = 10\n",
    "l"
   ]
  },
  {
   "cell_type": "code",
   "execution_count": null,
   "id": "c8a27c88-49f8-4d08-b039-1b1a3b4bae28",
   "metadata": {},
   "outputs": [],
   "source": [
    "# list slicing"
   ]
  },
  {
   "cell_type": "code",
   "execution_count": 16,
   "id": "dd2e079d-9819-431e-997f-373b7e128c6b",
   "metadata": {},
   "outputs": [
    {
     "data": {
      "text/plain": [
       "[12, 23, 34, 45, 17, 12, 10, 57]"
      ]
     },
     "execution_count": 16,
     "metadata": {},
     "output_type": "execute_result"
    }
   ],
   "source": [
    "l"
   ]
  },
  {
   "cell_type": "code",
   "execution_count": 17,
   "id": "57fd371a-8848-48e5-ae5c-8b47078b7c8d",
   "metadata": {},
   "outputs": [
    {
     "data": {
      "text/plain": [
       "[34, 45, 17, 12]"
      ]
     },
     "execution_count": 17,
     "metadata": {},
     "output_type": "execute_result"
    }
   ],
   "source": [
    "l[2:6]"
   ]
  },
  {
   "cell_type": "code",
   "execution_count": 19,
   "id": "69551f8a-0a31-4007-9d67-ca83f374049f",
   "metadata": {},
   "outputs": [
    {
     "data": {
      "text/plain": [
       "[34, 45, 17, 12]"
      ]
     },
     "execution_count": 19,
     "metadata": {},
     "output_type": "execute_result"
    }
   ],
   "source": [
    "x = l[2:6]\n",
    "x"
   ]
  },
  {
   "cell_type": "code",
   "execution_count": 20,
   "id": "08af2abf-2dd2-41c3-a97e-8429eb0960a4",
   "metadata": {},
   "outputs": [
    {
     "data": {
      "text/plain": [
       "[34, 45, 17, 12, 10, 57]"
      ]
     },
     "execution_count": 20,
     "metadata": {},
     "output_type": "execute_result"
    }
   ],
   "source": [
    "l[2:]"
   ]
  },
  {
   "cell_type": "code",
   "execution_count": 21,
   "id": "6543e87b-86fe-4cf0-9282-87e6e474ae44",
   "metadata": {},
   "outputs": [
    {
     "data": {
      "text/plain": [
       "[12, 23, 34, 45, 17, 12]"
      ]
     },
     "execution_count": 21,
     "metadata": {},
     "output_type": "execute_result"
    }
   ],
   "source": [
    "l[:-2]"
   ]
  },
  {
   "cell_type": "code",
   "execution_count": 22,
   "id": "44f9c9e2-1bea-4d87-89af-ff9a1f8f1bf1",
   "metadata": {},
   "outputs": [
    {
     "data": {
      "text/plain": [
       "[23, 45]"
      ]
     },
     "execution_count": 22,
     "metadata": {},
     "output_type": "execute_result"
    }
   ],
   "source": [
    "l[1:-3:2]"
   ]
  },
  {
   "cell_type": "code",
   "execution_count": 23,
   "id": "b6da64e2-5ac7-4818-9f8b-7dab54422761",
   "metadata": {},
   "outputs": [
    {
     "data": {
      "text/plain": [
       "[12, 34, 17, 10]"
      ]
     },
     "execution_count": 23,
     "metadata": {},
     "output_type": "execute_result"
    }
   ],
   "source": [
    "l[::2]"
   ]
  },
  {
   "cell_type": "code",
   "execution_count": 24,
   "id": "f5c8c218-bc9b-4643-ab84-4e5ba159824f",
   "metadata": {},
   "outputs": [
    {
     "data": {
      "text/plain": [
       "[12, 23, 34, 45, 17, 12, 10, 57]"
      ]
     },
     "execution_count": 24,
     "metadata": {},
     "output_type": "execute_result"
    }
   ],
   "source": [
    "l"
   ]
  },
  {
   "cell_type": "code",
   "execution_count": 25,
   "id": "9a8e3650-0572-4b6d-80c9-3d71465bff2e",
   "metadata": {},
   "outputs": [],
   "source": [
    "l[1:4] = [45, 67, 82]"
   ]
  },
  {
   "cell_type": "code",
   "execution_count": 26,
   "id": "7259ae55-23a6-4d05-81d5-7aa88fc05f02",
   "metadata": {},
   "outputs": [
    {
     "data": {
      "text/plain": [
       "[12, 45, 67, 82, 17, 12, 10, 57]"
      ]
     },
     "execution_count": 26,
     "metadata": {},
     "output_type": "execute_result"
    }
   ],
   "source": [
    "l"
   ]
  },
  {
   "cell_type": "code",
   "execution_count": null,
   "id": "ef3bba26-7d18-4fb0-a6a2-65ab2bb70500",
   "metadata": {},
   "outputs": [],
   "source": [
    "# delete the data"
   ]
  },
  {
   "cell_type": "code",
   "execution_count": 27,
   "id": "6f5aa1bc-14d2-482d-aa29-1174eb603d79",
   "metadata": {},
   "outputs": [],
   "source": [
    "del l[1]"
   ]
  },
  {
   "cell_type": "code",
   "execution_count": 28,
   "id": "f6983dae-f3bd-4763-9daa-b7d23c1df8ce",
   "metadata": {},
   "outputs": [
    {
     "data": {
      "text/plain": [
       "[12, 67, 82, 17, 12, 10, 57]"
      ]
     },
     "execution_count": 28,
     "metadata": {},
     "output_type": "execute_result"
    }
   ],
   "source": [
    "l"
   ]
  },
  {
   "cell_type": "code",
   "execution_count": null,
   "id": "926ff870-d8b7-43df-a1c0-d63493799ce7",
   "metadata": {},
   "outputs": [],
   "source": [
    "# in operator"
   ]
  },
  {
   "cell_type": "code",
   "execution_count": 33,
   "id": "c231fa68-4086-4904-8f0a-62dd4e82de0c",
   "metadata": {},
   "outputs": [
    {
     "data": {
      "text/plain": [
       "[12, 67, 82, 17, 12, 10, 57]"
      ]
     },
     "execution_count": 33,
     "metadata": {},
     "output_type": "execute_result"
    }
   ],
   "source": [
    "l"
   ]
  },
  {
   "cell_type": "code",
   "execution_count": 34,
   "id": "f0cdb8f8-92be-4119-a8f8-3651047a0923",
   "metadata": {},
   "outputs": [
    {
     "data": {
      "text/plain": [
       "True"
      ]
     },
     "execution_count": 34,
     "metadata": {},
     "output_type": "execute_result"
    }
   ],
   "source": [
    "82 in l"
   ]
  },
  {
   "cell_type": "code",
   "execution_count": 35,
   "id": "813516e8-aad4-4bfe-ad27-36d0e8a542c6",
   "metadata": {},
   "outputs": [
    {
     "data": {
      "text/plain": [
       "False"
      ]
     },
     "execution_count": 35,
     "metadata": {},
     "output_type": "execute_result"
    }
   ],
   "source": [
    "100 in l"
   ]
  },
  {
   "cell_type": "code",
   "execution_count": null,
   "id": "46073111-3d14-436d-b410-be728f0043d9",
   "metadata": {},
   "outputs": [],
   "source": [
    "# Arithmetic operator"
   ]
  },
  {
   "cell_type": "code",
   "execution_count": 36,
   "id": "d00161cc-5420-450a-9250-b451edbbb6d5",
   "metadata": {},
   "outputs": [
    {
     "data": {
      "text/plain": [
       "[12, 67, 82, 17, 12, 10, 57]"
      ]
     },
     "execution_count": 36,
     "metadata": {},
     "output_type": "execute_result"
    }
   ],
   "source": [
    "l"
   ]
  },
  {
   "cell_type": "code",
   "execution_count": 37,
   "id": "7154a99c-0301-4a86-a6ad-d53c243f92b2",
   "metadata": {},
   "outputs": [
    {
     "data": {
      "text/plain": [
       "[12, 67, 82, 17, 12, 10, 57, 12, 67, 82, 17, 12, 10, 57]"
      ]
     },
     "execution_count": 37,
     "metadata": {},
     "output_type": "execute_result"
    }
   ],
   "source": [
    "l * 2"
   ]
  },
  {
   "cell_type": "code",
   "execution_count": 38,
   "id": "8ee7ca8b-7f3f-450a-9471-2d594513105b",
   "metadata": {},
   "outputs": [
    {
     "data": {
      "text/plain": [
       "[12, 67, 82, 17, 12, 10, 57, 12, 56]"
      ]
     },
     "execution_count": 38,
     "metadata": {},
     "output_type": "execute_result"
    }
   ],
   "source": [
    "l + [12, 56]"
   ]
  },
  {
   "cell_type": "code",
   "execution_count": 39,
   "id": "9286073b-4eef-4975-b51c-cf203f13fa2b",
   "metadata": {},
   "outputs": [
    {
     "data": {
      "text/plain": [
       "[12, 67, 82, 17, 12, 10, 57]"
      ]
     },
     "execution_count": 39,
     "metadata": {},
     "output_type": "execute_result"
    }
   ],
   "source": [
    "l"
   ]
  },
  {
   "cell_type": "code",
   "execution_count": 40,
   "id": "33bd522b-a726-4649-a17e-52e78236b0d9",
   "metadata": {},
   "outputs": [],
   "source": [
    "l1 = [56, True, 44.33]"
   ]
  },
  {
   "cell_type": "code",
   "execution_count": 41,
   "id": "8af11f7b-bf8c-4bfd-a086-ae91e1ed3031",
   "metadata": {},
   "outputs": [
    {
     "data": {
      "text/plain": [
       "[12, 67, 82, 17, 12, 10, 57, 56, True, 44.33]"
      ]
     },
     "execution_count": 41,
     "metadata": {},
     "output_type": "execute_result"
    }
   ],
   "source": [
    "l + l1"
   ]
  },
  {
   "cell_type": "code",
   "execution_count": null,
   "id": "e9f317b6-2be3-4ec6-8df2-8f79d55954cd",
   "metadata": {},
   "outputs": [],
   "source": [
    "# Iterating over the list"
   ]
  },
  {
   "cell_type": "code",
   "execution_count": 42,
   "id": "d5ca1106-4757-4d5c-8e0f-4c1d08de4ab5",
   "metadata": {},
   "outputs": [
    {
     "data": {
      "text/plain": [
       "[12, 67, 82, 17, 12, 10, 57]"
      ]
     },
     "execution_count": 42,
     "metadata": {},
     "output_type": "execute_result"
    }
   ],
   "source": [
    "l"
   ]
  },
  {
   "cell_type": "code",
   "execution_count": 44,
   "id": "7d066871-15a4-4e8c-9cc1-d3dac8029bee",
   "metadata": {},
   "outputs": [
    {
     "name": "stdout",
     "output_type": "stream",
     "text": [
      "144 4489 6724 289 144 100 3249 "
     ]
    }
   ],
   "source": [
    "for n in l:\n",
    "    print(n * n, end = ' ')"
   ]
  },
  {
   "cell_type": "code",
   "execution_count": 45,
   "id": "8b81c3b2-e42e-4d7b-8fbc-c58336d4f905",
   "metadata": {},
   "outputs": [
    {
     "name": "stdout",
     "output_type": "stream",
     "text": [
      "67 17 57 "
     ]
    }
   ],
   "source": [
    "# write a program to print odd numbers \n",
    "for n in l:\n",
    "    if n % 2 != 0:\n",
    "        print(n, end = ' ')"
   ]
  },
  {
   "cell_type": "code",
   "execution_count": null,
   "id": "6a71f940-7471-40b5-8d48-8ecde3283362",
   "metadata": {},
   "outputs": [],
   "source": [
    "# list comprehension"
   ]
  },
  {
   "cell_type": "code",
   "execution_count": 46,
   "id": "eaee0efd-60b7-43f7-826c-9ef9f7f5547d",
   "metadata": {},
   "outputs": [
    {
     "data": {
      "text/plain": [
       "[12, 67, 82, 17, 12, 10, 57]"
      ]
     },
     "execution_count": 46,
     "metadata": {},
     "output_type": "execute_result"
    }
   ],
   "source": [
    "l"
   ]
  },
  {
   "cell_type": "code",
   "execution_count": null,
   "id": "d11dac08-490f-4bce-a191-1b29b3568158",
   "metadata": {},
   "outputs": [],
   "source": [
    "# map"
   ]
  },
  {
   "cell_type": "code",
   "execution_count": 47,
   "id": "8aaedbba-a968-4972-9290-b4c069a76333",
   "metadata": {},
   "outputs": [],
   "source": [
    "a = [n/2 for n in l]"
   ]
  },
  {
   "cell_type": "code",
   "execution_count": 48,
   "id": "1ae4b469-e640-418e-bca6-9da8421ce5a3",
   "metadata": {},
   "outputs": [
    {
     "data": {
      "text/plain": [
       "[6.0, 33.5, 41.0, 8.5, 6.0, 5.0, 28.5]"
      ]
     },
     "execution_count": 48,
     "metadata": {},
     "output_type": "execute_result"
    }
   ],
   "source": [
    "a"
   ]
  },
  {
   "cell_type": "code",
   "execution_count": 49,
   "id": "97891ca4-6d61-4c94-a690-b02c9167ce56",
   "metadata": {},
   "outputs": [
    {
     "data": {
      "text/plain": [
       "list"
      ]
     },
     "execution_count": 49,
     "metadata": {},
     "output_type": "execute_result"
    }
   ],
   "source": [
    "type(a)"
   ]
  },
  {
   "cell_type": "code",
   "execution_count": 50,
   "id": "278e86b1-5d34-4c7e-a1a4-c3444947f790",
   "metadata": {},
   "outputs": [
    {
     "data": {
      "text/plain": [
       "[144, 4489, 6724, 289, 144, 100, 3249]"
      ]
     },
     "execution_count": 50,
     "metadata": {},
     "output_type": "execute_result"
    }
   ],
   "source": [
    "[n * n for n in l]"
   ]
  },
  {
   "cell_type": "code",
   "execution_count": 51,
   "id": "4f270f4a-ebed-4306-971a-f1d14d96e550",
   "metadata": {},
   "outputs": [],
   "source": [
    "# filter\n"
   ]
  },
  {
   "cell_type": "code",
   "execution_count": 52,
   "id": "a1e177fe-fcc5-470a-8481-55e5e2235b8b",
   "metadata": {},
   "outputs": [
    {
     "data": {
      "text/plain": [
       "[12, 67, 82, 17, 12, 10, 57]"
      ]
     },
     "execution_count": 52,
     "metadata": {},
     "output_type": "execute_result"
    }
   ],
   "source": [
    "l"
   ]
  },
  {
   "cell_type": "code",
   "execution_count": 53,
   "id": "8d475a8a-baa1-42b7-95b8-aba82d2a66ac",
   "metadata": {},
   "outputs": [],
   "source": [
    "b = [n for n in l if n > 40]"
   ]
  },
  {
   "cell_type": "code",
   "execution_count": 54,
   "id": "8327e880-a8a4-417e-b83b-5e5bd389b7e4",
   "metadata": {},
   "outputs": [
    {
     "data": {
      "text/plain": [
       "[67, 82, 57]"
      ]
     },
     "execution_count": 54,
     "metadata": {},
     "output_type": "execute_result"
    }
   ],
   "source": [
    "b"
   ]
  },
  {
   "cell_type": "code",
   "execution_count": 55,
   "id": "2db8c256-a781-43b2-a3c2-56b4c5f2a5ed",
   "metadata": {},
   "outputs": [
    {
     "data": {
      "text/plain": [
       "[67, 17, 57]"
      ]
     },
     "execution_count": 55,
     "metadata": {},
     "output_type": "execute_result"
    }
   ],
   "source": [
    "[n for n in l if n % 2 == 1]"
   ]
  },
  {
   "cell_type": "code",
   "execution_count": 61,
   "id": "b6140135-926f-4930-9e74-abb9379f3485",
   "metadata": {},
   "outputs": [],
   "source": [
    "names = ['karan','mayuri','prajyot','dyanu','pranav','swara','vaibhu','mai','maya']"
   ]
  },
  {
   "cell_type": "code",
   "execution_count": 62,
   "id": "c717d697-3921-471a-8a3e-dad2e9f15d1d",
   "metadata": {},
   "outputs": [
    {
     "data": {
      "text/plain": [
       "['mayuri', 'mai', 'maya']"
      ]
     },
     "execution_count": 62,
     "metadata": {},
     "output_type": "execute_result"
    }
   ],
   "source": [
    "# list containing names which starts with M\n",
    "[n for n in names if n.startswith('m')]"
   ]
  },
  {
   "cell_type": "code",
   "execution_count": 63,
   "id": "6b00bc83-7840-4566-a53f-1b1dbe178a75",
   "metadata": {},
   "outputs": [
    {
     "data": {
      "text/plain": [
       "['KARAN',\n",
       " 'MAYURI',\n",
       " 'PRAJYOT',\n",
       " 'DYANU',\n",
       " 'PRANAV',\n",
       " 'SWARA',\n",
       " 'VAIBHU',\n",
       " 'MAI',\n",
       " 'MAYA']"
      ]
     },
     "execution_count": 63,
     "metadata": {},
     "output_type": "execute_result"
    }
   ],
   "source": [
    "# get a new list with all the names in uppercase:\n",
    "[n.upper() for n in names]"
   ]
  },
  {
   "cell_type": "code",
   "execution_count": 64,
   "id": "de5a8c32-d068-45bb-81ab-c5480358c2fc",
   "metadata": {},
   "outputs": [],
   "source": [
    "# empty list"
   ]
  },
  {
   "cell_type": "code",
   "execution_count": 65,
   "id": "5f89243e-d7a9-4cc1-a7e3-5e1bd972abf9",
   "metadata": {},
   "outputs": [],
   "source": [
    "e = []"
   ]
  },
  {
   "cell_type": "code",
   "execution_count": 66,
   "id": "166061dd-c19a-4f63-9bb5-71cea3a1ffd9",
   "metadata": {},
   "outputs": [
    {
     "data": {
      "text/plain": [
       "list"
      ]
     },
     "execution_count": 66,
     "metadata": {},
     "output_type": "execute_result"
    }
   ],
   "source": [
    "type(e)"
   ]
  },
  {
   "cell_type": "code",
   "execution_count": 67,
   "id": "e81d807b-285a-4b04-b6ef-1f91a48f5e77",
   "metadata": {},
   "outputs": [],
   "source": [
    "e = e = [4]"
   ]
  },
  {
   "cell_type": "code",
   "execution_count": 68,
   "id": "c6afa00b-6170-42cd-b88f-f5b01724f6e1",
   "metadata": {},
   "outputs": [
    {
     "data": {
      "text/plain": [
       "[4]"
      ]
     },
     "execution_count": 68,
     "metadata": {},
     "output_type": "execute_result"
    }
   ],
   "source": [
    "e"
   ]
  },
  {
   "cell_type": "code",
   "execution_count": 69,
   "id": "25881f4d-5fa1-44bc-b9f3-28ac5fbc3e56",
   "metadata": {},
   "outputs": [],
   "source": [
    "# list decomposition"
   ]
  },
  {
   "cell_type": "code",
   "execution_count": 70,
   "id": "4c467588-5933-4422-a2ab-2b55b20340ad",
   "metadata": {},
   "outputs": [],
   "source": [
    "l1 = [34, 56, 78]"
   ]
  },
  {
   "cell_type": "code",
   "execution_count": 71,
   "id": "82095281-caa9-46c9-9c57-960c252fa6ba",
   "metadata": {},
   "outputs": [],
   "source": [
    "x, y, z = l1"
   ]
  },
  {
   "cell_type": "code",
   "execution_count": 72,
   "id": "85a59489-e744-405f-becb-3ce2b2f5abff",
   "metadata": {},
   "outputs": [
    {
     "data": {
      "text/plain": [
       "34"
      ]
     },
     "execution_count": 72,
     "metadata": {},
     "output_type": "execute_result"
    }
   ],
   "source": [
    "x"
   ]
  },
  {
   "cell_type": "code",
   "execution_count": 73,
   "id": "fd1e79af-ed46-423c-93a9-2e0dd3cb13b3",
   "metadata": {},
   "outputs": [
    {
     "data": {
      "text/plain": [
       "56"
      ]
     },
     "execution_count": 73,
     "metadata": {},
     "output_type": "execute_result"
    }
   ],
   "source": [
    "y"
   ]
  },
  {
   "cell_type": "code",
   "execution_count": 74,
   "id": "b7dbf0f5-d621-4dfd-8f9a-20fcc95a70ba",
   "metadata": {},
   "outputs": [
    {
     "data": {
      "text/plain": [
       "78"
      ]
     },
     "execution_count": 74,
     "metadata": {},
     "output_type": "execute_result"
    }
   ],
   "source": [
    "z"
   ]
  },
  {
   "cell_type": "code",
   "execution_count": 75,
   "id": "30c693b7-174e-4ca9-aa73-a75d32653ced",
   "metadata": {},
   "outputs": [],
   "source": [
    "# functions"
   ]
  },
  {
   "cell_type": "code",
   "execution_count": 76,
   "id": "cd30977e-f749-4975-8d3f-90cf99b8e975",
   "metadata": {},
   "outputs": [
    {
     "data": {
      "text/plain": [
       "[12, 67, 82, 17, 12, 10, 57]"
      ]
     },
     "execution_count": 76,
     "metadata": {},
     "output_type": "execute_result"
    }
   ],
   "source": [
    "l"
   ]
  },
  {
   "cell_type": "code",
   "execution_count": 77,
   "id": "800bcbb0-41be-412c-b921-46c3d386e5ea",
   "metadata": {},
   "outputs": [
    {
     "data": {
      "text/plain": [
       "7"
      ]
     },
     "execution_count": 77,
     "metadata": {},
     "output_type": "execute_result"
    }
   ],
   "source": [
    "len(l)"
   ]
  },
  {
   "cell_type": "code",
   "execution_count": 78,
   "id": "3aeb1358-b33d-4d8e-b171-cc27669c8b01",
   "metadata": {},
   "outputs": [
    {
     "data": {
      "text/plain": [
       "82"
      ]
     },
     "execution_count": 78,
     "metadata": {},
     "output_type": "execute_result"
    }
   ],
   "source": [
    "max(l)"
   ]
  },
  {
   "cell_type": "code",
   "execution_count": 79,
   "id": "44d0a968-3f60-4e87-856c-445a4cddc941",
   "metadata": {},
   "outputs": [
    {
     "data": {
      "text/plain": [
       "10"
      ]
     },
     "execution_count": 79,
     "metadata": {},
     "output_type": "execute_result"
    }
   ],
   "source": [
    "min(l)"
   ]
  },
  {
   "cell_type": "code",
   "execution_count": 80,
   "id": "164c786c-87ed-40b4-aee1-6c55d8711fbb",
   "metadata": {},
   "outputs": [
    {
     "data": {
      "text/plain": [
       "257"
      ]
     },
     "execution_count": 80,
     "metadata": {},
     "output_type": "execute_result"
    }
   ],
   "source": [
    "sum(l)"
   ]
  },
  {
   "cell_type": "code",
   "execution_count": 81,
   "id": "a3d3ba9f-e3bc-4ee3-aca9-da354da39217",
   "metadata": {},
   "outputs": [
    {
     "data": {
      "text/plain": [
       "[10, 12, 12, 17, 57, 67, 82]"
      ]
     },
     "execution_count": 81,
     "metadata": {},
     "output_type": "execute_result"
    }
   ],
   "source": [
    "sorted(l)"
   ]
  },
  {
   "cell_type": "code",
   "execution_count": 82,
   "id": "c021a354-9c01-4337-8eea-c1f73710e312",
   "metadata": {},
   "outputs": [
    {
     "data": {
      "text/plain": [
       "[82, 67, 57, 17, 12, 12, 10]"
      ]
     },
     "execution_count": 82,
     "metadata": {},
     "output_type": "execute_result"
    }
   ],
   "source": [
    "sorted(l, reverse=True)"
   ]
  },
  {
   "cell_type": "code",
   "execution_count": 83,
   "id": "d0b388a7-051b-4e1c-9a89-b96b15d6d6c8",
   "metadata": {},
   "outputs": [],
   "source": [
    "name = 'mayuri'"
   ]
  },
  {
   "cell_type": "code",
   "execution_count": 84,
   "id": "c9944190-832a-4008-b742-dd1c4c8b233c",
   "metadata": {},
   "outputs": [
    {
     "data": {
      "text/plain": [
       "['m', 'a', 'y', 'u', 'r', 'i']"
      ]
     },
     "execution_count": 84,
     "metadata": {},
     "output_type": "execute_result"
    }
   ],
   "source": [
    "list(name)"
   ]
  },
  {
   "cell_type": "code",
   "execution_count": 85,
   "id": "2a231d03-89cf-42c5-8c29-fae9bd8cec4b",
   "metadata": {},
   "outputs": [],
   "source": [
    "# methods on list"
   ]
  },
  {
   "cell_type": "code",
   "execution_count": 86,
   "id": "c96c5589-c885-4682-a1ed-2a500cde1111",
   "metadata": {},
   "outputs": [
    {
     "data": {
      "text/plain": [
       "[12, 67, 82, 17, 12, 10, 57]"
      ]
     },
     "execution_count": 86,
     "metadata": {},
     "output_type": "execute_result"
    }
   ],
   "source": [
    "l"
   ]
  },
  {
   "cell_type": "code",
   "execution_count": 87,
   "id": "599bf490-eb63-47ce-b1aa-847f65979252",
   "metadata": {},
   "outputs": [],
   "source": [
    "l.append(100)"
   ]
  },
  {
   "cell_type": "code",
   "execution_count": 88,
   "id": "4bd9b103-374e-4e97-9423-1e05c6b45945",
   "metadata": {},
   "outputs": [
    {
     "data": {
      "text/plain": [
       "[12, 67, 82, 17, 12, 10, 57, 100]"
      ]
     },
     "execution_count": 88,
     "metadata": {},
     "output_type": "execute_result"
    }
   ],
   "source": [
    "l"
   ]
  },
  {
   "cell_type": "code",
   "execution_count": 89,
   "id": "129df742-48b9-4599-bf12-353656802f0d",
   "metadata": {},
   "outputs": [],
   "source": [
    "# append and extend"
   ]
  },
  {
   "cell_type": "code",
   "execution_count": 90,
   "id": "c275a17f-814d-44df-baa7-e9b5c06c75b2",
   "metadata": {},
   "outputs": [],
   "source": [
    "x = [12,23,34]\n",
    "y = [12,23,34]"
   ]
  },
  {
   "cell_type": "code",
   "execution_count": 92,
   "id": "1fbe1fc4-9f6d-4753-b1e7-e131bc29734e",
   "metadata": {},
   "outputs": [],
   "source": [
    "x.append([11,22])\n",
    "y.extend([11,22])"
   ]
  },
  {
   "cell_type": "code",
   "execution_count": 93,
   "id": "33f68374-1cd6-452b-bb05-a2bad3662105",
   "metadata": {},
   "outputs": [
    {
     "name": "stdout",
     "output_type": "stream",
     "text": [
      "[12, 23, 34, [11, 22]]\n",
      "[12, 23, 34, 11, 22]\n"
     ]
    }
   ],
   "source": [
    "print(x)\n",
    "print(y)"
   ]
  },
  {
   "cell_type": "code",
   "execution_count": 94,
   "id": "c9d3c494-7679-42e0-97c5-c083c97255be",
   "metadata": {},
   "outputs": [
    {
     "data": {
      "text/plain": [
       "[11, 22]"
      ]
     },
     "execution_count": 94,
     "metadata": {},
     "output_type": "execute_result"
    }
   ],
   "source": [
    "x[-1]"
   ]
  },
  {
   "cell_type": "code",
   "execution_count": 95,
   "id": "179b4e2d-63dc-4dab-8ec9-f1bb6b95f298",
   "metadata": {},
   "outputs": [
    {
     "data": {
      "text/plain": [
       "22"
      ]
     },
     "execution_count": 95,
     "metadata": {},
     "output_type": "execute_result"
    }
   ],
   "source": [
    "x[-1][1]"
   ]
  },
  {
   "cell_type": "code",
   "execution_count": 96,
   "id": "9c5ea0a1-d1a8-4bf4-ae19-cba832c9280f",
   "metadata": {},
   "outputs": [],
   "source": [
    "# insert"
   ]
  },
  {
   "cell_type": "code",
   "execution_count": 97,
   "id": "904ec3bf-6a89-413b-bfab-1b645df14c30",
   "metadata": {},
   "outputs": [
    {
     "data": {
      "text/plain": [
       "[12, 67, 82, 17, 12, 10, 57, 100]"
      ]
     },
     "execution_count": 97,
     "metadata": {},
     "output_type": "execute_result"
    }
   ],
   "source": [
    "l"
   ]
  },
  {
   "cell_type": "code",
   "execution_count": 98,
   "id": "35837cfc-ee11-4872-9479-4af0bbd2c032",
   "metadata": {},
   "outputs": [],
   "source": [
    "l.insert(2,78)"
   ]
  },
  {
   "cell_type": "code",
   "execution_count": 99,
   "id": "6ca2621a-e9c1-43c6-af09-080d42d5829a",
   "metadata": {},
   "outputs": [
    {
     "data": {
      "text/plain": [
       "[12, 67, 78, 82, 17, 12, 10, 57, 100]"
      ]
     },
     "execution_count": 99,
     "metadata": {},
     "output_type": "execute_result"
    }
   ],
   "source": [
    "l"
   ]
  },
  {
   "cell_type": "code",
   "execution_count": 100,
   "id": "99f12448-0dd8-4609-bfc3-60455e8ac1ab",
   "metadata": {},
   "outputs": [],
   "source": [
    "# remove"
   ]
  },
  {
   "cell_type": "code",
   "execution_count": 101,
   "id": "ae0a627d-bac2-4cc6-a59b-3f69bebb7d1d",
   "metadata": {},
   "outputs": [],
   "source": [
    "l.remove(78)"
   ]
  },
  {
   "cell_type": "code",
   "execution_count": 102,
   "id": "05fe7378-afd8-48f0-bbe2-a9a1aa8782df",
   "metadata": {},
   "outputs": [
    {
     "data": {
      "text/plain": [
       "[12, 67, 82, 17, 12, 10, 57, 100]"
      ]
     },
     "execution_count": 102,
     "metadata": {},
     "output_type": "execute_result"
    }
   ],
   "source": [
    "l"
   ]
  },
  {
   "cell_type": "code",
   "execution_count": 103,
   "id": "f1029495-e7f4-4d33-a0a1-30e84be6252d",
   "metadata": {},
   "outputs": [
    {
     "data": {
      "text/plain": [
       "6"
      ]
     },
     "execution_count": 103,
     "metadata": {},
     "output_type": "execute_result"
    }
   ],
   "source": [
    "l.index(57)"
   ]
  },
  {
   "cell_type": "code",
   "execution_count": 104,
   "id": "33a254f6-b3a2-41c5-9266-48b129ec1a61",
   "metadata": {},
   "outputs": [
    {
     "data": {
      "text/plain": [
       "2"
      ]
     },
     "execution_count": 104,
     "metadata": {},
     "output_type": "execute_result"
    }
   ],
   "source": [
    "l.count(12)"
   ]
  },
  {
   "cell_type": "code",
   "execution_count": 105,
   "id": "03784c69-27d3-4e06-99cd-08732925a3bf",
   "metadata": {},
   "outputs": [
    {
     "data": {
      "text/plain": [
       "[12, 67, 82, 17, 12, 10, 57, 100]"
      ]
     },
     "execution_count": 105,
     "metadata": {},
     "output_type": "execute_result"
    }
   ],
   "source": [
    "l"
   ]
  },
  {
   "cell_type": "code",
   "execution_count": 107,
   "id": "3ea8ecd2-e44f-4089-9e23-ec3a0a5094c1",
   "metadata": {},
   "outputs": [],
   "source": [
    "# delete / pop"
   ]
  },
  {
   "cell_type": "code",
   "execution_count": 108,
   "id": "133d1279-8cfb-43aa-8357-5e14c12e3636",
   "metadata": {},
   "outputs": [
    {
     "data": {
      "text/plain": [
       "100"
      ]
     },
     "execution_count": 108,
     "metadata": {},
     "output_type": "execute_result"
    }
   ],
   "source": [
    "l.pop()"
   ]
  },
  {
   "cell_type": "code",
   "execution_count": 109,
   "id": "4da3e451-b6bd-4d56-8582-25172aa2e259",
   "metadata": {},
   "outputs": [
    {
     "data": {
      "text/plain": [
       "[12, 67, 82, 17, 12, 10, 57]"
      ]
     },
     "execution_count": 109,
     "metadata": {},
     "output_type": "execute_result"
    }
   ],
   "source": [
    "l"
   ]
  },
  {
   "cell_type": "code",
   "execution_count": 110,
   "id": "eff20aef-ea1b-4e8d-b7d9-d16dc2f71bb2",
   "metadata": {},
   "outputs": [
    {
     "data": {
      "text/plain": [
       "10"
      ]
     },
     "execution_count": 110,
     "metadata": {},
     "output_type": "execute_result"
    }
   ],
   "source": [
    "l.pop(-2)"
   ]
  },
  {
   "cell_type": "code",
   "execution_count": 111,
   "id": "d6a7120c-750d-4113-80b7-8f6868af8c4f",
   "metadata": {},
   "outputs": [
    {
     "data": {
      "text/plain": [
       "[12, 67, 82, 17, 12, 57]"
      ]
     },
     "execution_count": 111,
     "metadata": {},
     "output_type": "execute_result"
    }
   ],
   "source": [
    "l"
   ]
  },
  {
   "cell_type": "code",
   "execution_count": 112,
   "id": "15ee6066-e77b-4c3b-931b-112ff117a5d2",
   "metadata": {},
   "outputs": [],
   "source": [
    "l.reverse()"
   ]
  },
  {
   "cell_type": "code",
   "execution_count": 113,
   "id": "52928e58-3959-49f5-8c25-d18bead45b17",
   "metadata": {},
   "outputs": [
    {
     "data": {
      "text/plain": [
       "[57, 12, 17, 82, 67, 12]"
      ]
     },
     "execution_count": 113,
     "metadata": {},
     "output_type": "execute_result"
    }
   ],
   "source": [
    "l"
   ]
  },
  {
   "cell_type": "code",
   "execution_count": 114,
   "id": "4eb1fb49-b1ea-4fb2-b97c-ef1c82932754",
   "metadata": {},
   "outputs": [
    {
     "name": "stdout",
     "output_type": "stream",
     "text": [
      "0 57\n",
      "1 12\n",
      "2 17\n",
      "3 82\n",
      "4 67\n",
      "5 12\n"
     ]
    }
   ],
   "source": [
    "i = 0\n",
    "while i <= 5:\n",
    "    print(i, l[i])\n",
    "    i += 1"
   ]
  },
  {
   "cell_type": "code",
   "execution_count": 115,
   "id": "3cd7be51-f114-4303-bb6f-cbf3cea3c96c",
   "metadata": {},
   "outputs": [
    {
     "data": {
      "text/plain": [
       "[57, 12, 17, 82, 67, 12]"
      ]
     },
     "execution_count": 115,
     "metadata": {},
     "output_type": "execute_result"
    }
   ],
   "source": [
    "l"
   ]
  },
  {
   "cell_type": "code",
   "execution_count": 116,
   "id": "e2b1918e-46e9-49e0-9b0d-fd42cf4d5d8f",
   "metadata": {},
   "outputs": [
    {
     "name": "stdout",
     "output_type": "stream",
     "text": [
      "0 57\n",
      "1 12\n",
      "2 17\n",
      "3 82\n",
      "4 67\n",
      "1 12\n"
     ]
    }
   ],
   "source": [
    "for n in l:\n",
    "    print(l.index(n), n)"
   ]
  },
  {
   "cell_type": "code",
   "execution_count": 117,
   "id": "403428db-3be9-422f-a1be-f747ebcf11e8",
   "metadata": {},
   "outputs": [],
   "source": [
    "# enumerate"
   ]
  },
  {
   "cell_type": "code",
   "execution_count": 118,
   "id": "7f413abc-4251-44cb-85f2-06f92abc2c57",
   "metadata": {},
   "outputs": [
    {
     "name": "stdout",
     "output_type": "stream",
     "text": [
      "0 57\n",
      "1 12\n",
      "2 17\n",
      "3 82\n",
      "4 67\n",
      "5 12\n"
     ]
    }
   ],
   "source": [
    "for index, n in enumerate(l):\n",
    "    print(index, n)"
   ]
  },
  {
   "cell_type": "code",
   "execution_count": 119,
   "id": "7c026b50-6076-4974-8887-8306900b62ae",
   "metadata": {},
   "outputs": [],
   "source": [
    "# shallow copy"
   ]
  },
  {
   "cell_type": "code",
   "execution_count": 155,
   "id": "d3f45947-62e5-4e71-bc89-22792f308fc5",
   "metadata": {},
   "outputs": [],
   "source": [
    "l1 = [34,45,56]"
   ]
  },
  {
   "cell_type": "code",
   "execution_count": 156,
   "id": "9face182-fcfa-4cd6-b8d0-7ef395503f24",
   "metadata": {},
   "outputs": [],
   "source": [
    "l2 = l1"
   ]
  },
  {
   "cell_type": "code",
   "execution_count": 157,
   "id": "ed3158f4-77a8-4ec1-a23b-b9625c8b725a",
   "metadata": {},
   "outputs": [
    {
     "data": {
      "text/plain": [
       "[34, 45, 56]"
      ]
     },
     "execution_count": 157,
     "metadata": {},
     "output_type": "execute_result"
    }
   ],
   "source": [
    "l2"
   ]
  },
  {
   "cell_type": "code",
   "execution_count": 158,
   "id": "dddff861-f819-4a8d-9cd4-517de5c47649",
   "metadata": {},
   "outputs": [],
   "source": [
    "l1.append(2)\n"
   ]
  },
  {
   "cell_type": "code",
   "execution_count": 159,
   "id": "0a6d815c-3828-42f8-872f-ad93a19d218f",
   "metadata": {},
   "outputs": [
    {
     "data": {
      "text/plain": [
       "[34, 45, 56, 2]"
      ]
     },
     "execution_count": 159,
     "metadata": {},
     "output_type": "execute_result"
    }
   ],
   "source": [
    "l2"
   ]
  },
  {
   "cell_type": "code",
   "execution_count": 160,
   "id": "029fdd27-8e0b-4f8a-8191-1a26aabdc830",
   "metadata": {},
   "outputs": [],
   "source": [
    "l3 = l1.copy()"
   ]
  },
  {
   "cell_type": "code",
   "execution_count": 161,
   "id": "0b5d1508-9d01-461f-87bd-7f673c4b86c0",
   "metadata": {},
   "outputs": [
    {
     "data": {
      "text/plain": [
       "[34, 45, 56, 2]"
      ]
     },
     "execution_count": 161,
     "metadata": {},
     "output_type": "execute_result"
    }
   ],
   "source": [
    "l3"
   ]
  },
  {
   "cell_type": "code",
   "execution_count": 162,
   "id": "9f51903e-4286-4f9d-8beb-0f0067d13082",
   "metadata": {},
   "outputs": [],
   "source": [
    "l1.append(1000)"
   ]
  },
  {
   "cell_type": "code",
   "execution_count": 163,
   "id": "34ad16da-6d32-45e5-8444-f15366a7bf47",
   "metadata": {},
   "outputs": [
    {
     "data": {
      "text/plain": [
       "[34, 45, 56, 2, 1000]"
      ]
     },
     "execution_count": 163,
     "metadata": {},
     "output_type": "execute_result"
    }
   ],
   "source": [
    "l1"
   ]
  },
  {
   "cell_type": "code",
   "execution_count": 164,
   "id": "bae1d17a-93fb-45df-ad9a-346add41e382",
   "metadata": {},
   "outputs": [
    {
     "data": {
      "text/plain": [
       "[34, 45, 56, 2, 1000]"
      ]
     },
     "execution_count": 164,
     "metadata": {},
     "output_type": "execute_result"
    }
   ],
   "source": [
    "l2"
   ]
  },
  {
   "cell_type": "code",
   "execution_count": 165,
   "id": "f9fba561-22ad-47c7-b533-c9e01df658d4",
   "metadata": {},
   "outputs": [
    {
     "data": {
      "text/plain": [
       "[34, 45, 56, 2]"
      ]
     },
     "execution_count": 165,
     "metadata": {},
     "output_type": "execute_result"
    }
   ],
   "source": [
    "l3"
   ]
  },
  {
   "cell_type": "code",
   "execution_count": 166,
   "id": "e2d1f225-6ced-4352-a74d-940facdb0d19",
   "metadata": {},
   "outputs": [
    {
     "data": {
      "text/plain": [
       "[34, 45, 56, 2, 1000]"
      ]
     },
     "execution_count": 166,
     "metadata": {},
     "output_type": "execute_result"
    }
   ],
   "source": [
    "l1"
   ]
  },
  {
   "cell_type": "code",
   "execution_count": 167,
   "id": "f15451fa-d6e0-447d-b1ad-35798082a515",
   "metadata": {},
   "outputs": [
    {
     "data": {
      "text/plain": [
       "[34, 45, 56, 2, 1000]"
      ]
     },
     "execution_count": 167,
     "metadata": {},
     "output_type": "execute_result"
    }
   ],
   "source": [
    "l2\n"
   ]
  },
  {
   "cell_type": "code",
   "execution_count": 168,
   "id": "c6dbce77-cc9d-41b1-b231-184a77be7cc2",
   "metadata": {},
   "outputs": [
    {
     "data": {
      "text/plain": [
       "[34, 45, 56, 2]"
      ]
     },
     "execution_count": 168,
     "metadata": {},
     "output_type": "execute_result"
    }
   ],
   "source": [
    "l3"
   ]
  },
  {
   "cell_type": "code",
   "execution_count": 169,
   "id": "ef8b3692-f6a3-47c8-b24d-33d0e5276c64",
   "metadata": {},
   "outputs": [
    {
     "data": {
      "text/plain": [
       "[34, 45, 56, 2, 1000]"
      ]
     },
     "execution_count": 169,
     "metadata": {},
     "output_type": "execute_result"
    }
   ],
   "source": [
    "l1"
   ]
  },
  {
   "cell_type": "code",
   "execution_count": 170,
   "id": "100a427d-2f78-479b-beaa-38347b9a2baf",
   "metadata": {},
   "outputs": [
    {
     "data": {
      "text/plain": [
       "[34, 45, 56, 2, 1000]"
      ]
     },
     "execution_count": 170,
     "metadata": {},
     "output_type": "execute_result"
    }
   ],
   "source": [
    "l2"
   ]
  },
  {
   "cell_type": "code",
   "execution_count": 171,
   "id": "79a522cf-da2e-4760-8e64-ae2255954862",
   "metadata": {},
   "outputs": [
    {
     "data": {
      "text/plain": [
       "[34, 45, 56, 2]"
      ]
     },
     "execution_count": 171,
     "metadata": {},
     "output_type": "execute_result"
    }
   ],
   "source": [
    "l3"
   ]
  },
  {
   "cell_type": "code",
   "execution_count": 172,
   "id": "ddbcad6c-1e03-41e4-b67a-e716d11c9e14",
   "metadata": {},
   "outputs": [],
   "source": [
    "l1.append([12,34])"
   ]
  },
  {
   "cell_type": "code",
   "execution_count": 173,
   "id": "856bb0d3-31e7-4e6f-810c-add1cbb7e580",
   "metadata": {},
   "outputs": [
    {
     "data": {
      "text/plain": [
       "[34, 45, 56, 2, 1000, [12, 34]]"
      ]
     },
     "execution_count": 173,
     "metadata": {},
     "output_type": "execute_result"
    }
   ],
   "source": [
    "l1"
   ]
  },
  {
   "cell_type": "code",
   "execution_count": 174,
   "id": "59162734-e269-4332-93a5-d1dd996b16a8",
   "metadata": {},
   "outputs": [],
   "source": [
    "l3 = l1.copy()"
   ]
  },
  {
   "cell_type": "code",
   "execution_count": 175,
   "id": "9d324e66-d3f3-4f4d-9571-12f05ee3e881",
   "metadata": {},
   "outputs": [
    {
     "data": {
      "text/plain": [
       "[34, 45, 56, 2, 1000, [12, 34]]"
      ]
     },
     "execution_count": 175,
     "metadata": {},
     "output_type": "execute_result"
    }
   ],
   "source": [
    "l3"
   ]
  },
  {
   "cell_type": "code",
   "execution_count": 176,
   "id": "5968dd2d-cffa-46f6-9184-e3c9d4c5c7a7",
   "metadata": {},
   "outputs": [],
   "source": [
    "l1.append(200)"
   ]
  },
  {
   "cell_type": "code",
   "execution_count": 177,
   "id": "c577c5ed-2a26-4f21-aeab-4dfabc5f22eb",
   "metadata": {},
   "outputs": [
    {
     "data": {
      "text/plain": [
       "[34, 45, 56, 2, 1000, [12, 34], 200]"
      ]
     },
     "execution_count": 177,
     "metadata": {},
     "output_type": "execute_result"
    }
   ],
   "source": [
    "l1"
   ]
  },
  {
   "cell_type": "code",
   "execution_count": 178,
   "id": "f7d15769-93a5-429a-a6ae-9e854e479468",
   "metadata": {},
   "outputs": [
    {
     "data": {
      "text/plain": [
       "[34, 45, 56, 2, 1000, [12, 34]]"
      ]
     },
     "execution_count": 178,
     "metadata": {},
     "output_type": "execute_result"
    }
   ],
   "source": [
    "l3"
   ]
  },
  {
   "cell_type": "code",
   "execution_count": 179,
   "id": "33e9f7b9-9509-4e69-94bb-e69765607b33",
   "metadata": {},
   "outputs": [],
   "source": [
    "l1[-2].append(1000)"
   ]
  },
  {
   "cell_type": "code",
   "execution_count": 180,
   "id": "fac11682-bae5-4231-a708-e3ccdee2920d",
   "metadata": {},
   "outputs": [
    {
     "data": {
      "text/plain": [
       "[34, 45, 56, 2, 1000, [12, 34, 1000], 200]"
      ]
     },
     "execution_count": 180,
     "metadata": {},
     "output_type": "execute_result"
    }
   ],
   "source": [
    "l1"
   ]
  },
  {
   "cell_type": "code",
   "execution_count": 181,
   "id": "23138011-daee-4374-99af-8eb89cf46654",
   "metadata": {},
   "outputs": [
    {
     "data": {
      "text/plain": [
       "[34, 45, 56, 2, 1000, [12, 34, 1000]]"
      ]
     },
     "execution_count": 181,
     "metadata": {},
     "output_type": "execute_result"
    }
   ],
   "source": [
    "l3"
   ]
  },
  {
   "cell_type": "code",
   "execution_count": 182,
   "id": "e534e87c-4ff3-4f6a-b143-6b0cd796efe2",
   "metadata": {},
   "outputs": [
    {
     "name": "stdout",
     "output_type": "stream",
     "text": [
      "Help on class list in module builtins:\n",
      "\n",
      "class list(object)\n",
      " |  list(iterable=(), /)\n",
      " |  \n",
      " |  Built-in mutable sequence.\n",
      " |  \n",
      " |  If no argument is given, the constructor creates a new empty list.\n",
      " |  The argument must be an iterable if specified.\n",
      " |  \n",
      " |  Methods defined here:\n",
      " |  \n",
      " |  __add__(self, value, /)\n",
      " |      Return self+value.\n",
      " |  \n",
      " |  __contains__(self, key, /)\n",
      " |      Return key in self.\n",
      " |  \n",
      " |  __delitem__(self, key, /)\n",
      " |      Delete self[key].\n",
      " |  \n",
      " |  __eq__(self, value, /)\n",
      " |      Return self==value.\n",
      " |  \n",
      " |  __ge__(self, value, /)\n",
      " |      Return self>=value.\n",
      " |  \n",
      " |  __getattribute__(self, name, /)\n",
      " |      Return getattr(self, name).\n",
      " |  \n",
      " |  __getitem__(...)\n",
      " |      x.__getitem__(y) <==> x[y]\n",
      " |  \n",
      " |  __gt__(self, value, /)\n",
      " |      Return self>value.\n",
      " |  \n",
      " |  __iadd__(self, value, /)\n",
      " |      Implement self+=value.\n",
      " |  \n",
      " |  __imul__(self, value, /)\n",
      " |      Implement self*=value.\n",
      " |  \n",
      " |  __init__(self, /, *args, **kwargs)\n",
      " |      Initialize self.  See help(type(self)) for accurate signature.\n",
      " |  \n",
      " |  __iter__(self, /)\n",
      " |      Implement iter(self).\n",
      " |  \n",
      " |  __le__(self, value, /)\n",
      " |      Return self<=value.\n",
      " |  \n",
      " |  __len__(self, /)\n",
      " |      Return len(self).\n",
      " |  \n",
      " |  __lt__(self, value, /)\n",
      " |      Return self<value.\n",
      " |  \n",
      " |  __mul__(self, value, /)\n",
      " |      Return self*value.\n",
      " |  \n",
      " |  __ne__(self, value, /)\n",
      " |      Return self!=value.\n",
      " |  \n",
      " |  __repr__(self, /)\n",
      " |      Return repr(self).\n",
      " |  \n",
      " |  __reversed__(self, /)\n",
      " |      Return a reverse iterator over the list.\n",
      " |  \n",
      " |  __rmul__(self, value, /)\n",
      " |      Return value*self.\n",
      " |  \n",
      " |  __setitem__(self, key, value, /)\n",
      " |      Set self[key] to value.\n",
      " |  \n",
      " |  __sizeof__(self, /)\n",
      " |      Return the size of the list in memory, in bytes.\n",
      " |  \n",
      " |  append(self, object, /)\n",
      " |      Append object to the end of the list.\n",
      " |  \n",
      " |  clear(self, /)\n",
      " |      Remove all items from list.\n",
      " |  \n",
      " |  copy(self, /)\n",
      " |      Return a shallow copy of the list.\n",
      " |  \n",
      " |  count(self, value, /)\n",
      " |      Return number of occurrences of value.\n",
      " |  \n",
      " |  extend(self, iterable, /)\n",
      " |      Extend list by appending elements from the iterable.\n",
      " |  \n",
      " |  index(self, value, start=0, stop=9223372036854775807, /)\n",
      " |      Return first index of value.\n",
      " |      \n",
      " |      Raises ValueError if the value is not present.\n",
      " |  \n",
      " |  insert(self, index, object, /)\n",
      " |      Insert object before index.\n",
      " |  \n",
      " |  pop(self, index=-1, /)\n",
      " |      Remove and return item at index (default last).\n",
      " |      \n",
      " |      Raises IndexError if list is empty or index is out of range.\n",
      " |  \n",
      " |  remove(self, value, /)\n",
      " |      Remove first occurrence of value.\n",
      " |      \n",
      " |      Raises ValueError if the value is not present.\n",
      " |  \n",
      " |  reverse(self, /)\n",
      " |      Reverse *IN PLACE*.\n",
      " |  \n",
      " |  sort(self, /, *, key=None, reverse=False)\n",
      " |      Sort the list in ascending order and return None.\n",
      " |      \n",
      " |      The sort is in-place (i.e. the list itself is modified) and stable (i.e. the\n",
      " |      order of two equal elements is maintained).\n",
      " |      \n",
      " |      If a key function is given, apply it once to each list item and sort them,\n",
      " |      ascending or descending, according to their function values.\n",
      " |      \n",
      " |      The reverse flag can be set to sort in descending order.\n",
      " |  \n",
      " |  ----------------------------------------------------------------------\n",
      " |  Class methods defined here:\n",
      " |  \n",
      " |  __class_getitem__(...) from builtins.type\n",
      " |      See PEP 585\n",
      " |  \n",
      " |  ----------------------------------------------------------------------\n",
      " |  Static methods defined here:\n",
      " |  \n",
      " |  __new__(*args, **kwargs) from builtins.type\n",
      " |      Create and return a new object.  See help(type) for accurate signature.\n",
      " |  \n",
      " |  ----------------------------------------------------------------------\n",
      " |  Data and other attributes defined here:\n",
      " |  \n",
      " |  __hash__ = None\n",
      "\n"
     ]
    }
   ],
   "source": [
    "help(list)"
   ]
  },
  {
   "cell_type": "code",
   "execution_count": 183,
   "id": "d3d9a1e6-fdbf-44dc-bb87-6769c331d8b3",
   "metadata": {},
   "outputs": [
    {
     "data": {
      "text/plain": [
       "[34, 45, 56, 2, 1000, [12, 34, 1000], 200]"
      ]
     },
     "execution_count": 183,
     "metadata": {},
     "output_type": "execute_result"
    }
   ],
   "source": [
    "l1"
   ]
  },
  {
   "cell_type": "code",
   "execution_count": 184,
   "id": "a25a160f-d45a-4a1d-a9ea-6c5d3d3ba523",
   "metadata": {},
   "outputs": [],
   "source": [
    "l1.clear()"
   ]
  },
  {
   "cell_type": "code",
   "execution_count": 185,
   "id": "2958a106-0bfa-4668-946f-8e8a766c09d3",
   "metadata": {},
   "outputs": [
    {
     "data": {
      "text/plain": [
       "[]"
      ]
     },
     "execution_count": 185,
     "metadata": {},
     "output_type": "execute_result"
    }
   ],
   "source": [
    "l1"
   ]
  },
  {
   "cell_type": "code",
   "execution_count": 187,
   "id": "ba819b50-eea9-444e-83db-a5bf5a0f6cac",
   "metadata": {},
   "outputs": [],
   "source": [
    "# tuple"
   ]
  },
  {
   "cell_type": "code",
   "execution_count": 188,
   "id": "d3935d06-0715-4f6b-b881-2d3765260b9f",
   "metadata": {},
   "outputs": [],
   "source": [
    "t = (23, 45, 67, 12, 78, 23)"
   ]
  },
  {
   "cell_type": "code",
   "execution_count": 189,
   "id": "a2ca8c74-3b03-421a-979d-0478fa3e9003",
   "metadata": {},
   "outputs": [
    {
     "data": {
      "text/plain": [
       "(23, 45, 67, 12, 78, 23)"
      ]
     },
     "execution_count": 189,
     "metadata": {},
     "output_type": "execute_result"
    }
   ],
   "source": [
    "t"
   ]
  },
  {
   "cell_type": "code",
   "execution_count": 190,
   "id": "effb56c0-b367-4c61-9878-171400ecb43b",
   "metadata": {},
   "outputs": [
    {
     "data": {
      "text/plain": [
       "tuple"
      ]
     },
     "execution_count": 190,
     "metadata": {},
     "output_type": "execute_result"
    }
   ],
   "source": [
    "type(t)"
   ]
  },
  {
   "cell_type": "code",
   "execution_count": 191,
   "id": "9a9cb75e-e4b3-42a7-bb20-2a039933bc8b",
   "metadata": {},
   "outputs": [],
   "source": [
    "t1 = (34,56,'ganesh')"
   ]
  },
  {
   "cell_type": "code",
   "execution_count": 192,
   "id": "d379b266-9706-43b3-a4b7-c400d882ea90",
   "metadata": {},
   "outputs": [
    {
     "data": {
      "text/plain": [
       "(34, 56, 'ganesh')"
      ]
     },
     "execution_count": 192,
     "metadata": {},
     "output_type": "execute_result"
    }
   ],
   "source": [
    "t1"
   ]
  },
  {
   "cell_type": "code",
   "execution_count": 193,
   "id": "c0f7ba35-148e-42b5-b643-ac3b8fb26db5",
   "metadata": {},
   "outputs": [
    {
     "data": {
      "text/plain": [
       "45"
      ]
     },
     "execution_count": 193,
     "metadata": {},
     "output_type": "execute_result"
    }
   ],
   "source": [
    "t[1]"
   ]
  },
  {
   "cell_type": "code",
   "execution_count": 194,
   "id": "083bda10-f992-4240-b79d-24e232bcda2b",
   "metadata": {},
   "outputs": [
    {
     "ename": "TypeError",
     "evalue": "'tuple' object does not support item assignment",
     "output_type": "error",
     "traceback": [
      "\u001b[1;31m---------------------------------------------------------------------------\u001b[0m",
      "\u001b[1;31mTypeError\u001b[0m                                 Traceback (most recent call last)",
      "Cell \u001b[1;32mIn[194], line 1\u001b[0m\n\u001b[1;32m----> 1\u001b[0m t[\u001b[38;5;241m1\u001b[39m] \u001b[38;5;241m=\u001b[39m \u001b[38;5;241m30\u001b[39m\n",
      "\u001b[1;31mTypeError\u001b[0m: 'tuple' object does not support item assignment"
     ]
    }
   ],
   "source": [
    "t[1] = 30"
   ]
  },
  {
   "cell_type": "code",
   "execution_count": 195,
   "id": "86541ec3-5b68-48a1-84d1-2fcbd42e4f7e",
   "metadata": {},
   "outputs": [
    {
     "name": "stdout",
     "output_type": "stream",
     "text": [
      "Help on class tuple in module builtins:\n",
      "\n",
      "class tuple(object)\n",
      " |  tuple(iterable=(), /)\n",
      " |  \n",
      " |  Built-in immutable sequence.\n",
      " |  \n",
      " |  If no argument is given, the constructor returns an empty tuple.\n",
      " |  If iterable is specified the tuple is initialized from iterable's items.\n",
      " |  \n",
      " |  If the argument is a tuple, the return value is the same object.\n",
      " |  \n",
      " |  Built-in subclasses:\n",
      " |      asyncgen_hooks\n",
      " |      UnraisableHookArgs\n",
      " |  \n",
      " |  Methods defined here:\n",
      " |  \n",
      " |  __add__(self, value, /)\n",
      " |      Return self+value.\n",
      " |  \n",
      " |  __contains__(self, key, /)\n",
      " |      Return key in self.\n",
      " |  \n",
      " |  __eq__(self, value, /)\n",
      " |      Return self==value.\n",
      " |  \n",
      " |  __ge__(self, value, /)\n",
      " |      Return self>=value.\n",
      " |  \n",
      " |  __getattribute__(self, name, /)\n",
      " |      Return getattr(self, name).\n",
      " |  \n",
      " |  __getitem__(self, key, /)\n",
      " |      Return self[key].\n",
      " |  \n",
      " |  __getnewargs__(self, /)\n",
      " |  \n",
      " |  __gt__(self, value, /)\n",
      " |      Return self>value.\n",
      " |  \n",
      " |  __hash__(self, /)\n",
      " |      Return hash(self).\n",
      " |  \n",
      " |  __iter__(self, /)\n",
      " |      Implement iter(self).\n",
      " |  \n",
      " |  __le__(self, value, /)\n",
      " |      Return self<=value.\n",
      " |  \n",
      " |  __len__(self, /)\n",
      " |      Return len(self).\n",
      " |  \n",
      " |  __lt__(self, value, /)\n",
      " |      Return self<value.\n",
      " |  \n",
      " |  __mul__(self, value, /)\n",
      " |      Return self*value.\n",
      " |  \n",
      " |  __ne__(self, value, /)\n",
      " |      Return self!=value.\n",
      " |  \n",
      " |  __repr__(self, /)\n",
      " |      Return repr(self).\n",
      " |  \n",
      " |  __rmul__(self, value, /)\n",
      " |      Return value*self.\n",
      " |  \n",
      " |  count(self, value, /)\n",
      " |      Return number of occurrences of value.\n",
      " |  \n",
      " |  index(self, value, start=0, stop=9223372036854775807, /)\n",
      " |      Return first index of value.\n",
      " |      \n",
      " |      Raises ValueError if the value is not present.\n",
      " |  \n",
      " |  ----------------------------------------------------------------------\n",
      " |  Class methods defined here:\n",
      " |  \n",
      " |  __class_getitem__(...) from builtins.type\n",
      " |      See PEP 585\n",
      " |  \n",
      " |  ----------------------------------------------------------------------\n",
      " |  Static methods defined here:\n",
      " |  \n",
      " |  __new__(*args, **kwargs) from builtins.type\n",
      " |      Create and return a new object.  See help(type) for accurate signature.\n",
      "\n"
     ]
    }
   ],
   "source": [
    "help(tuple)"
   ]
  },
  {
   "cell_type": "code",
   "execution_count": 196,
   "id": "c767ef46-3813-4361-88af-8b9c35d63714",
   "metadata": {},
   "outputs": [
    {
     "data": {
      "text/plain": [
       "(34, 56, 'ganesh')"
      ]
     },
     "execution_count": 196,
     "metadata": {},
     "output_type": "execute_result"
    }
   ],
   "source": [
    "t1"
   ]
  },
  {
   "cell_type": "code",
   "execution_count": 197,
   "id": "76e6b472-604d-40a4-a76d-fc3a5d9c35fa",
   "metadata": {},
   "outputs": [
    {
     "data": {
      "text/plain": [
       "[34, 56, 'ganesh']"
      ]
     },
     "execution_count": 197,
     "metadata": {},
     "output_type": "execute_result"
    }
   ],
   "source": [
    "m = list(t1)\n",
    "m"
   ]
  },
  {
   "cell_type": "code",
   "execution_count": 198,
   "id": "a97c7b73-e5d5-4f3f-9bf8-6c7fcb187e16",
   "metadata": {},
   "outputs": [
    {
     "data": {
      "text/plain": [
       "(34, 56, 'ganesh')"
      ]
     },
     "execution_count": 198,
     "metadata": {},
     "output_type": "execute_result"
    }
   ],
   "source": [
    "z1 = tuple(m)\n",
    "z1"
   ]
  },
  {
   "cell_type": "code",
   "execution_count": 199,
   "id": "6cb13193-8447-4c17-9a90-56f6468b7c3e",
   "metadata": {},
   "outputs": [
    {
     "ename": "TypeError",
     "evalue": "'tuple' object doesn't support item deletion",
     "output_type": "error",
     "traceback": [
      "\u001b[1;31m---------------------------------------------------------------------------\u001b[0m",
      "\u001b[1;31mTypeError\u001b[0m                                 Traceback (most recent call last)",
      "Cell \u001b[1;32mIn[199], line 1\u001b[0m\n\u001b[1;32m----> 1\u001b[0m \u001b[38;5;28;01mdel\u001b[39;00m z1[\u001b[38;5;241m1\u001b[39m]\n",
      "\u001b[1;31mTypeError\u001b[0m: 'tuple' object doesn't support item deletion"
     ]
    }
   ],
   "source": [
    "del z1[1]"
   ]
  },
  {
   "cell_type": "code",
   "execution_count": 200,
   "id": "6db1524c-7327-49ef-af1b-376ebd0e2cb5",
   "metadata": {},
   "outputs": [],
   "source": [
    "# SET"
   ]
  },
  {
   "cell_type": "code",
   "execution_count": 1,
   "id": "cd701cc5-6f03-48df-aa05-4f52af662079",
   "metadata": {},
   "outputs": [
    {
     "data": {
      "text/plain": [
       "{12, 34, 56, 78}"
      ]
     },
     "execution_count": 1,
     "metadata": {},
     "output_type": "execute_result"
    }
   ],
   "source": [
    "s = {12, 34, 56, 78, 34}\n",
    "s # duplicates not allowed"
   ]
  },
  {
   "cell_type": "code",
   "execution_count": 2,
   "id": "ba738095-3b4f-4791-811a-8b65f8c9f0af",
   "metadata": {},
   "outputs": [
    {
     "data": {
      "text/plain": [
       "set"
      ]
     },
     "execution_count": 2,
     "metadata": {},
     "output_type": "execute_result"
    }
   ],
   "source": [
    "type(s)"
   ]
  },
  {
   "cell_type": "code",
   "execution_count": 204,
   "id": "a73465df-ab49-4443-b4fd-5ff5425e0ea5",
   "metadata": {},
   "outputs": [],
   "source": [
    "s.add('A')"
   ]
  },
  {
   "cell_type": "code",
   "execution_count": 205,
   "id": "3fc6829d-3daa-448e-806e-134c8c1eaca4",
   "metadata": {},
   "outputs": [
    {
     "data": {
      "text/plain": [
       "{12, 34, 56, 78, 'A'}"
      ]
     },
     "execution_count": 205,
     "metadata": {},
     "output_type": "execute_result"
    }
   ],
   "source": [
    "s"
   ]
  },
  {
   "cell_type": "code",
   "execution_count": 4,
   "id": "17c71ebd-ada6-46cd-a4ba-63b8e7170a92",
   "metadata": {},
   "outputs": [],
   "source": [
    "s1 = frozenset(s)"
   ]
  },
  {
   "cell_type": "code",
   "execution_count": 5,
   "id": "222e580e-d66f-42de-a381-7ac7027534da",
   "metadata": {},
   "outputs": [
    {
     "data": {
      "text/plain": [
       "frozenset({12, 34, 56, 78})"
      ]
     },
     "execution_count": 5,
     "metadata": {},
     "output_type": "execute_result"
    }
   ],
   "source": [
    "s1"
   ]
  },
  {
   "cell_type": "code",
   "execution_count": 209,
   "id": "407f6627-3a85-4366-8925-a548b1f6ccee",
   "metadata": {},
   "outputs": [],
   "source": [
    "# Dictionary"
   ]
  },
  {
   "cell_type": "code",
   "execution_count": 210,
   "id": "72800cc8-84c6-4f08-8f32-fd7ff592f3f1",
   "metadata": {},
   "outputs": [],
   "source": [
    "d = {1: 67, 2: 89, 3: 75, 4: 72, 7: 67}"
   ]
  },
  {
   "cell_type": "code",
   "execution_count": 211,
   "id": "6f51defc-3d03-467c-9292-3be1b420ca63",
   "metadata": {},
   "outputs": [
    {
     "data": {
      "text/plain": [
       "{1: 67, 2: 89, 3: 75, 4: 72, 7: 67}"
      ]
     },
     "execution_count": 211,
     "metadata": {},
     "output_type": "execute_result"
    }
   ],
   "source": [
    "d"
   ]
  },
  {
   "cell_type": "code",
   "execution_count": 212,
   "id": "9577b7f3-7c5d-48f8-8f41-d8e249135d06",
   "metadata": {},
   "outputs": [],
   "source": [
    "d1 = {1: 67, 2: 89, 3: 75, 4: 72, 7: 67, 1:37}"
   ]
  },
  {
   "cell_type": "code",
   "execution_count": 213,
   "id": "1e015ba6-c402-4792-b009-115898f78b9c",
   "metadata": {},
   "outputs": [
    {
     "data": {
      "text/plain": [
       "{1: 37, 2: 89, 3: 75, 4: 72, 7: 67}"
      ]
     },
     "execution_count": 213,
     "metadata": {},
     "output_type": "execute_result"
    }
   ],
   "source": [
    "d1"
   ]
  },
  {
   "cell_type": "code",
   "execution_count": 214,
   "id": "a22a5475-bda5-43d7-b2a4-9bbcf8f670d2",
   "metadata": {},
   "outputs": [],
   "source": [
    "d[3] = 100"
   ]
  },
  {
   "cell_type": "code",
   "execution_count": 215,
   "id": "18e35ed7-5fe3-4b1f-a7bd-59fb96c3a1f2",
   "metadata": {},
   "outputs": [
    {
     "data": {
      "text/plain": [
       "{1: 67, 2: 89, 3: 100, 4: 72, 7: 67}"
      ]
     },
     "execution_count": 215,
     "metadata": {},
     "output_type": "execute_result"
    }
   ],
   "source": [
    "d"
   ]
  },
  {
   "cell_type": "code",
   "execution_count": 216,
   "id": "44bca599-a817-40f2-b779-044cb50cb203",
   "metadata": {},
   "outputs": [],
   "source": [
    "d[10] = 78"
   ]
  },
  {
   "cell_type": "code",
   "execution_count": 217,
   "id": "973cf786-ec14-4de1-ae60-c9c9a49194d3",
   "metadata": {},
   "outputs": [
    {
     "data": {
      "text/plain": [
       "{1: 67, 2: 89, 3: 100, 4: 72, 7: 67, 10: 78}"
      ]
     },
     "execution_count": 217,
     "metadata": {},
     "output_type": "execute_result"
    }
   ],
   "source": [
    "d"
   ]
  },
  {
   "cell_type": "code",
   "execution_count": 218,
   "id": "57c84911-a9c6-4bb2-abf3-a013869c4b90",
   "metadata": {},
   "outputs": [
    {
     "data": {
      "text/plain": [
       "dict_keys([1, 2, 3, 4, 7, 10])"
      ]
     },
     "execution_count": 218,
     "metadata": {},
     "output_type": "execute_result"
    }
   ],
   "source": [
    "d.keys()"
   ]
  },
  {
   "cell_type": "code",
   "execution_count": 219,
   "id": "66e4fe18-dca9-408c-8022-747b7646f6d2",
   "metadata": {},
   "outputs": [
    {
     "data": {
      "text/plain": [
       "dict_values([67, 89, 100, 72, 67, 78])"
      ]
     },
     "execution_count": 219,
     "metadata": {},
     "output_type": "execute_result"
    }
   ],
   "source": [
    "d.values()"
   ]
  },
  {
   "cell_type": "code",
   "execution_count": null,
   "id": "89b93312-a5d5-4d95-8f19-fc6e27b47896",
   "metadata": {},
   "outputs": [],
   "source": []
  }
 ],
 "metadata": {
  "kernelspec": {
   "display_name": "Python 3 (ipykernel)",
   "language": "python",
   "name": "python3"
  },
  "language_info": {
   "codemirror_mode": {
    "name": "ipython",
    "version": 3
   },
   "file_extension": ".py",
   "mimetype": "text/x-python",
   "name": "python",
   "nbconvert_exporter": "python",
   "pygments_lexer": "ipython3",
   "version": "3.11.7"
  }
 },
 "nbformat": 4,
 "nbformat_minor": 5
}
