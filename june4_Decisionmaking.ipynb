{
 "cells": [
  {
   "cell_type": "code",
   "execution_count": 3,
   "id": "edff06ae-83d5-42ca-8c2b-811f670ff865",
   "metadata": {},
   "outputs": [
    {
     "name": "stdin",
     "output_type": "stream",
     "text": [
      "Enter the number 4\n"
     ]
    }
   ],
   "source": [
    "# check if the number is greater than 50\n",
    "\n",
    "num = int(input('Enter the number'))\n",
    "if num > 50:\n",
    "    print('ok')"
   ]
  },
  {
   "cell_type": "code",
   "execution_count": 4,
   "id": "f9e7f308-0531-449e-ba93-812fe9eb1d7a",
   "metadata": {},
   "outputs": [
    {
     "name": "stdin",
     "output_type": "stream",
     "text": [
      "Enter the number 7\n"
     ]
    },
    {
     "name": "stdout",
     "output_type": "stream",
     "text": [
      "positive\n",
      "ok\n"
     ]
    }
   ],
   "source": [
    "# positive or negative\n",
    "\n",
    "num = int(input('Enter the number'))\n",
    "if num > 0:\n",
    "    print('positive')\n",
    "    print('ok')\n",
    "else:\n",
    "    print('negative')\n",
    "    print('goodbye!!!')"
   ]
  },
  {
   "cell_type": "code",
   "execution_count": 5,
   "id": "f80b4563-239a-468e-8faf-916ce0f3da22",
   "metadata": {},
   "outputs": [
    {
     "name": "stdin",
     "output_type": "stream",
     "text": [
      "Enter the number 0\n"
     ]
    },
    {
     "name": "stdout",
     "output_type": "stream",
     "text": [
      "zero\n"
     ]
    }
   ],
   "source": [
    "num = int(input('Enter the number'))\n",
    "if num > 0:\n",
    "    print('positive')\n",
    "    print('ok')\n",
    "elif num == 0:\n",
    "    print('zero')\n",
    "else:\n",
    "    print('negative')\n",
    "    print('goodbye!!!')"
   ]
  },
  {
   "cell_type": "code",
   "execution_count": 6,
   "id": "4b323bed-9cb0-4e64-b9f7-4bfd9ce1408b",
   "metadata": {},
   "outputs": [
    {
     "name": "stdin",
     "output_type": "stream",
     "text": [
      "Enter the number 5\n"
     ]
    },
    {
     "name": "stdout",
     "output_type": "stream",
     "text": [
      "odd\n"
     ]
    }
   ],
   "source": [
    "# check if the number is odd or even\n",
    "\n",
    "num = int(input('Enter the number'))\n",
    "if num % 2 == 0:\n",
    "    print('even')\n",
    "else:\n",
    "    print('odd')"
   ]
  },
  {
   "cell_type": "code",
   "execution_count": 8,
   "id": "10ba79eb-a713-413d-84e3-322e1839397b",
   "metadata": {},
   "outputs": [
    {
     "data": {
      "text/plain": [
       "1"
      ]
     },
     "execution_count": 8,
     "metadata": {},
     "output_type": "execute_result"
    }
   ],
   "source": [
    "int(True)"
   ]
  },
  {
   "cell_type": "code",
   "execution_count": 9,
   "id": "e33b5651-b6d1-44aa-8537-b7e2905b176e",
   "metadata": {},
   "outputs": [
    {
     "data": {
      "text/plain": [
       "0"
      ]
     },
     "execution_count": 9,
     "metadata": {},
     "output_type": "execute_result"
    }
   ],
   "source": [
    "int(False)"
   ]
  },
  {
   "cell_type": "code",
   "execution_count": 10,
   "id": "d46e6803-4146-4cb1-8ecc-57be366d5e0f",
   "metadata": {},
   "outputs": [
    {
     "data": {
      "text/plain": [
       "2"
      ]
     },
     "execution_count": 10,
     "metadata": {},
     "output_type": "execute_result"
    }
   ],
   "source": [
    "True + True - False"
   ]
  },
  {
   "cell_type": "code",
   "execution_count": 11,
   "id": "cf71bd20-ad0a-410a-9f98-c5d7d70fceb2",
   "metadata": {},
   "outputs": [
    {
     "name": "stdout",
     "output_type": "stream",
     "text": [
      "!!!!!\n"
     ]
    }
   ],
   "source": [
    "a = 12\n",
    "if a:\n",
    "    print('!!!!!')"
   ]
  },
  {
   "cell_type": "code",
   "execution_count": 14,
   "id": "776271ee-6895-438a-895c-e015fce8dbfe",
   "metadata": {},
   "outputs": [
    {
     "name": "stdin",
     "output_type": "stream",
     "text": [
      "Enter the number 5\n"
     ]
    },
    {
     "name": "stdout",
     "output_type": "stream",
     "text": [
      "incorrect\n"
     ]
    }
   ],
   "source": [
    "# check if the number is between 50 and 15\n",
    "num = int(input('Enter the number'))\n",
    "if num > 50:\n",
    "    if num < 150:\n",
    "        print('correct')\n",
    "    else:\n",
    "        print('greater than 150')\n",
    "else:\n",
    "    print('incorrect')"
   ]
  },
  {
   "cell_type": "code",
   "execution_count": 15,
   "id": "d6de68c5-a284-4cb5-b219-d2502ace5f53",
   "metadata": {},
   "outputs": [
    {
     "name": "stdin",
     "output_type": "stream",
     "text": [
      "enter the number 4\n"
     ]
    },
    {
     "name": "stdout",
     "output_type": "stream",
     "text": [
      "incorrect\n"
     ]
    }
   ],
   "source": [
    "num = int(input('enter the number'))\n",
    "if num > 50 and num < 150:\n",
    "    print('correct')\n",
    "else:\n",
    "    print('incorrect')"
   ]
  },
  {
   "cell_type": "code",
   "execution_count": 17,
   "id": "15a46d66-0991-449e-98e9-6464406267d8",
   "metadata": {},
   "outputs": [
    {
     "name": "stdin",
     "output_type": "stream",
     "text": [
      "enter the purchase cost 1000\n",
      "enter the selling cost  500\n"
     ]
    },
    {
     "name": "stdout",
     "output_type": "stream",
     "text": [
      "loss: 500\n"
     ]
    }
   ],
   "source": [
    "# read the selling cost and purchase cost\n",
    "# find profit or loss and how much ?\n",
    "\n",
    "purchase_cost = int(input('enter the purchase cost'))\n",
    "selling_cost = int(input('enter the selling cost '))\n",
    "if selling_cost > purchase_cost:\n",
    "    print('profit:', selling_cost - purchase_cost)\n",
    "else:\n",
    "    print('loss:', purchase_cost - selling_cost)\n"
   ]
  },
  {
   "cell_type": "code",
   "execution_count": 3,
   "id": "cd641ffb-2644-40db-9cf9-e1f7017edbd1",
   "metadata": {},
   "outputs": [
    {
     "name": "stdin",
     "output_type": "stream",
     "text": [
      "enter the 1st number 3\n",
      "enter the 2nd number 2\n",
      "enter the 3rd number 1\n"
     ]
    },
    {
     "name": "stdout",
     "output_type": "stream",
     "text": [
      "largest is num1 3\n"
     ]
    }
   ],
   "source": [
    "# find the largest  of 3 numbers\n",
    "# 'and' 'or' not allowed\n",
    "\n",
    "num1 = int(input('enter the 1st number'))\n",
    "num2 = int(input('enter the 2nd number'))\n",
    "num3 = int(input('enter the 3rd number'))\n",
    "\n",
    "if num1 > num2:\n",
    "    if num1 > num3:\n",
    "        print('largest is num1',num1)\n",
    "    else:\n",
    "        print('largest is num3',num3)\n",
    "\n",
    "else:\n",
    "    if num2 > num3:\n",
    "        print('largest is num2',num2)\n",
    "    else:\n",
    "        print('largest is num3',num3)\n",
    "              "
   ]
  },
  {
   "cell_type": "code",
   "execution_count": 4,
   "id": "bbbd99b3-4a6c-403c-bcc8-39b40edf4bd3",
   "metadata": {},
   "outputs": [
    {
     "name": "stdin",
     "output_type": "stream",
     "text": [
      "enter the year 1800\n"
     ]
    },
    {
     "name": "stdout",
     "output_type": "stream",
     "text": [
      "century but not leap\n"
     ]
    }
   ],
   "source": [
    "# 2020 => leap year\n",
    "# 2018 => not leap\n",
    "# 200 => leap\n",
    "# 1800 => not leap => century year\n",
    "\n",
    "year = int(input('enter the year'))\n",
    "if year % 4 == 0:\n",
    "    if year % 100 == 0:\n",
    "        if year % 400 == 0:\n",
    "            print('leap century year')\n",
    "        else:\n",
    "            print('century but not leap')\n",
    "    else:\n",
    "        print('leap year')\n",
    "else:\n",
    "    print('not leap')\n"
   ]
  },
  {
   "cell_type": "code",
   "execution_count": 6,
   "id": "267dffd7-288f-4201-844e-78cd2d6a6008",
   "metadata": {},
   "outputs": [
    {
     "name": "stdin",
     "output_type": "stream",
     "text": [
      "enter the marks of physics 67\n",
      "enter the marks of chemistry 65\n",
      "enter the marks of biology 47\n",
      "enter the marks of mathematics 89\n",
      "enter the marks of computer 65\n"
     ]
    },
    {
     "name": "stdout",
     "output_type": "stream",
     "text": [
      "grade D\n"
     ]
    }
   ],
   "source": [
    "''' write a python program to input marks to physics , chemistry , biology , mathematics\n",
    "and computer . calculate marks and grade\n",
    "according to following:\n",
    "percentage >= 90% : grade A\n",
    "percentage >= 80% : grade B\n",
    "percentage >= 70% : grade C\n",
    "percentage >= 60% : grade D\n",
    "percentage >= 40% : grade E\n",
    "percentage < 40% : grade F\n",
    "''';\n",
    "phys = float(input('enter the marks of physics'))\n",
    "chem = float(input('enter the marks of chemistry'))\n",
    "bio = float(input('enter the marks of biology'))\n",
    "maths = float(input('enter the marks of mathematics'))\n",
    "comp = float(input('enter the marks of computer'))\n",
    "\n",
    "perc = ((phys + chem + bio + maths + comp)) / 500 * 100\n",
    "if perc >= 90:\n",
    "    print('grade A')\n",
    "elif perc >= 80:\n",
    "    print('grade B')\n",
    "elif perc >= 70:\n",
    "    print('grade C')\n",
    "elif perc >= 60:\n",
    "    print('grade D')\n",
    "elif perc >= 40:\n",
    "    print('grade E')\n",
    "else: \n",
    "    print('fail')"
   ]
  },
  {
   "cell_type": "code",
   "execution_count": 8,
   "id": "ddf86a47-5ee6-4568-9fa2-db757087e138",
   "metadata": {},
   "outputs": [
    {
     "name": "stdin",
     "output_type": "stream",
     "text": [
      "enter the number 5\n"
     ]
    },
    {
     "name": "stdout",
     "output_type": "stream",
     "text": [
      "Menu\n",
      "1.square\n",
      "2.cube\n",
      "3.check positive or negative\n"
     ]
    },
    {
     "name": "stdin",
     "output_type": "stream",
     "text": [
      "enter your choice 2843\n"
     ]
    },
    {
     "name": "stdout",
     "output_type": "stream",
     "text": [
      "oops! you must've forgotten ur sepcs or bra in :\n"
     ]
    }
   ],
   "source": [
    "# MENU DRIVEN\n",
    "'''\n",
    "take anumber and based on the choice perfect 1. square 2. cube 3. check positive or negative\n",
    "''';\n",
    "\n",
    "num = int(input('enter the number'))\n",
    "print(\"Menu\\n1.square\\n2.cube\\n3.check positive or negative\")\n",
    "choice = int(input('enter your choice'))\n",
    "if choice == 1:\n",
    "    print('square is', num * num)\n",
    "elif choice == 2:\n",
    "    print('cube is', num ** 3)\n",
    "elif choice == 3:\n",
    "    if num > 0:\n",
    "        print('positive')\n",
    "    else:\n",
    "        print('negative')\n",
    "else: \n",
    "    print(\"oops! you must've forgotten ur sepcs or bra in :\")"
   ]
  },
  {
   "cell_type": "code",
   "execution_count": null,
   "id": "ec3e75ee-3925-4c19-abf4-5b9b314d0244",
   "metadata": {},
   "outputs": [],
   "source": []
  }
 ],
 "metadata": {
  "kernelspec": {
   "display_name": "Python 3 (ipykernel)",
   "language": "python",
   "name": "python3"
  },
  "language_info": {
   "codemirror_mode": {
    "name": "ipython",
    "version": 3
   },
   "file_extension": ".py",
   "mimetype": "text/x-python",
   "name": "python",
   "nbconvert_exporter": "python",
   "pygments_lexer": "ipython3",
   "version": "3.11.7"
  }
 },
 "nbformat": 4,
 "nbformat_minor": 5
}
