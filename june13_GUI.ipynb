{
 "cells": [
  {
   "cell_type": "code",
   "execution_count": 2,
   "id": "3ce5b525-8a12-4505-a73c-0aab589c192c",
   "metadata": {},
   "outputs": [],
   "source": [
    "import tkinter as tk\n",
    "from tkinter import BooleanVar\n",
    "from tkinter .ttk import *\n",
    "from tkinter import scrolledtext\n",
    "from tkinter import messagebox"
   ]
  },
  {
   "cell_type": "code",
   "execution_count": 3,
   "id": "bf4c896b-2a93-444a-b880-b730fff52cbe",
   "metadata": {},
   "outputs": [
    {
     "ename": "NameError",
     "evalue": "name 'combobox' is not defined",
     "output_type": "error",
     "traceback": [
      "\u001b[1;31m---------------------------------------------------------------------------\u001b[0m",
      "\u001b[1;31mNameError\u001b[0m                                 Traceback (most recent call last)",
      "Cell \u001b[1;32mIn[3], line 13\u001b[0m\n\u001b[0;32m      9\u001b[0m l1 \u001b[38;5;241m=\u001b[39m tk\u001b[38;5;241m.\u001b[39mLabel(top, text \u001b[38;5;241m=\u001b[39m \u001b[38;5;124m'\u001b[39m\u001b[38;5;124mwelcome\u001b[39m\u001b[38;5;124m'\u001b[39m,font \u001b[38;5;241m=\u001b[39m (\u001b[38;5;124m'\u001b[39m\u001b[38;5;124mariel bold\u001b[39m\u001b[38;5;124m'\u001b[39m,\u001b[38;5;241m50\u001b[39m))\u001b[38;5;241m.\u001b[39mgrid(column\u001b[38;5;241m=\u001b[39m\u001b[38;5;241m2\u001b[39m, row\u001b[38;5;241m=\u001b[39m\u001b[38;5;241m3\u001b[39m)\n\u001b[0;32m     11\u001b[0m \u001b[38;5;66;03m# combobox\u001b[39;00m\n\u001b[1;32m---> 13\u001b[0m combo \u001b[38;5;241m=\u001b[39m combobox(top)\n\u001b[0;32m     14\u001b[0m combo[\u001b[38;5;124m'\u001b[39m\u001b[38;5;124mvalues\u001b[39m\u001b[38;5;124m'\u001b[39m] \u001b[38;5;241m=\u001b[39m [\u001b[38;5;241m1\u001b[39m,\u001b[38;5;241m2\u001b[39m,\u001b[38;5;241m3\u001b[39m,\u001b[38;5;241m4\u001b[39m, \u001b[38;5;124m'\u001b[39m\u001b[38;5;124mnext\u001b[39m\u001b[38;5;124m'\u001b[39m]\n\u001b[0;32m     15\u001b[0m combo\u001b[38;5;241m.\u001b[39mcurrent(\u001b[38;5;241m2\u001b[39m)\n",
      "\u001b[1;31mNameError\u001b[0m: name 'combobox' is not defined"
     ]
    }
   ],
   "source": [
    "top = tk.Tk()\n",
    "\n",
    "top.title('my application')\n",
    "top.geometry('500x400')\n",
    "\n",
    "b1 = tk.Button(top, text = 'click me!!!', bg = 'orange').grid(column=0, row=1)\n",
    "e1 = tk.Entry(top).grid(column=1, row=1)\n",
    "t1 = tk.Text(top).grid(column=2, row=2)\n",
    "l1 = tk.Label(top, text = 'welcome',font = ('ariel bold',50)).grid(column=2, row=3)\n",
    "\n",
    "# combobox\n",
    "\n",
    "combo = combobox(top)\n",
    "combo['values'] = [1,2,3,4, 'next']\n",
    "combo.current(2)\n",
    "combo.grid(column=0, row = 0)\n",
    "\n",
    "# checkbutton\n",
    "\n",
    "ch = BooleanVar\n",
    "ch.set(True)\n",
    "cb = Checkbutton(top, text = 'done', var = ch, width = 30).grid(column=0, row = 0)\n",
    "\n",
    "# scrolled text\n",
    "st = scrolledtext.ScrolledText(top, width = 40, height = 10).grid(column=0, row = 0)\n",
    "\n",
    "top.mainloop()"
   ]
  },
  {
   "cell_type": "code",
   "execution_count": 48,
   "id": "87b5bb63-2166-4ab1-9571-39a4906dd7a7",
   "metadata": {},
   "outputs": [],
   "source": [
    "# square of number\n",
    "\n",
    "top = tk.Tk()\n",
    "\n",
    "top.title('square')\n",
    "top.geometry('500x400')\n",
    "\n",
    "a = tk.IntVar()\n",
    "\n",
    "def square():\n",
    "    num = a.get()\n",
    "    sq = num * num\n",
    "   \n",
    "    result = tk.Label(top, text = 'Square is %i' % sq).place(x = 120, y = 200)\n",
    "    messagebox.showinfo(\"result\", \"square is %i\" % sq)\n",
    "    \n",
    "l = tk.Label(top, text = 'INPUT').place(x = 20, y = 100)\n",
    "e = tk.Entry(top, textvariable = a).place(x = 100, y = 100)\n",
    "b = tk.Button(top, text = 'Sumbit', bg = 'Orange', command = square).place(x = 120, y = 150)\n",
    "\n",
    "top.mainloop()"
   ]
  },
  {
   "cell_type": "code",
   "execution_count": null,
   "id": "d8f77165-0803-45c4-bad4-5a811e9dc31a",
   "metadata": {},
   "outputs": [],
   "source": [
    "\n",
    "# addition of 2 numbers :\n",
    "\n",
    "top = tk.Tk()\n",
    "top.title('Calc.')\n",
    "top.geometry('500x400')\n",
    "\n",
    "a1 = tk.IntVar()\n",
    "a2 = tk.IntVar()\n",
    "\n",
    "def add():\n",
    "    ad = a1.get() + a2.get()\n",
    "    messagebox.showinfo(\"result\", \"Addition is %i\" % ad)\n",
    "    \n",
    "l = tk.Label(top, text = 'INPUT').place(x = 20, y = 100)\n",
    "l1 = tk.Label(top, text = 'INPUT').place(x = 20, y = 130)\n",
    "e = tk.Entry(top, textvariable = a1).place(x = 100, y = 100)\n",
    "e1 = tk.Entry(top, textvariable = a2).place(x = 100, y = 130)\n",
    "\n",
    "b = tk.Button(top, text = 'Sumbit', bg = 'Orange', command = add, cursor = 'hand2').place(x = 180, y = 160)\n",
    "\n",
    "top.mainloop()\n"
   ]
  },
  {
   "cell_type": "code",
   "execution_count": 61,
   "id": "d70c9251-bab8-4b73-9042-0488a2177e55",
   "metadata": {},
   "outputs": [],
   "source": [
    "# subtraction of 2 nos.:\n",
    "\n",
    "top = tk.Tk()\n",
    "top.title('Calc.')\n",
    "top.geometry('500x400')\n",
    "\n",
    "a1 = tk.IntVar()\n",
    "a2 = tk.IntVar()\n",
    "\n",
    "def sub():\n",
    "    sub = a1.get() - a2.get()\n",
    "    messagebox.showinfo(\"result\", \"subtraction is %i\" % sub)\n",
    "    \n",
    "l = tk.Label(top, text = 'INPUT').place(x = 20, y = 100)\n",
    "l1 = tk.Label(top, text = 'INPUT').place(x = 20, y = 130)\n",
    "e = tk.Entry(top, textvariable = a1).place(x = 100, y = 100)\n",
    "e1 = tk.Entry(top, textvariable = a2).place(x = 100, y = 130)\n",
    "\n",
    "b = tk.Button(top, text = 'Sumbit', bg = 'Orange', command = sub, cursor = 'hand2').place(x = 180, y = 160)\n",
    "\n",
    "top.mainloop()"
   ]
  },
  {
   "cell_type": "code",
   "execution_count": 62,
   "id": "4f016894-4035-4db7-8588-26287f03ff23",
   "metadata": {},
   "outputs": [],
   "source": [
    "# divsion of 2 nos:\n",
    "\n",
    "top = tk.Tk()\n",
    "top.title('Calc.')\n",
    "top.geometry('500x400')\n",
    "\n",
    "a1 = tk.IntVar()\n",
    "a2 = tk.IntVar()\n",
    "\n",
    "def div():\n",
    "    di = a1.get() / a2.get()\n",
    "    messagebox.showinfo(\"result\", \"division is %i\" % di)\n",
    "    \n",
    "l = tk.Label(top, text = 'INPUT').place(x = 20, y = 100)\n",
    "l1 = tk.Label(top, text = 'INPUT').place(x = 20, y = 130)\n",
    "e = tk.Entry(top, textvariable = a1).place(x = 100, y = 100)\n",
    "e1 = tk.Entry(top, textvariable = a2).place(x = 100, y = 130)\n",
    "\n",
    "b = tk.Button(top, text = 'Sumbit', bg = 'Orange', command = div, cursor = 'hand2').place(x = 180, y = 160)\n",
    "\n",
    "top.mainloop()"
   ]
  },
  {
   "cell_type": "code",
   "execution_count": null,
   "id": "5f4fd92e-1444-47bd-aff7-facf1ae8608b",
   "metadata": {},
   "outputs": [],
   "source": [
    "# create for addition , sub, multi, div of 2 numbers \n",
    "\n",
    "top = Tk()\n",
    "top.title(\"calculator\")\n",
    "\n",
    "def button_click(char):\n",
    "    current = display.get()\n",
    "    display.set(current + char)\n",
    "    \n",
    "def button_clear(char):\n",
    "    display.set(\"0\")\n",
    "    \n",
    "def button_equal():\n",
    "    try:\n",
    "        result = \n",
    "        "
   ]
  }
 ],
 "metadata": {
  "kernelspec": {
   "display_name": "Python 3 (ipykernel)",
   "language": "python",
   "name": "python3"
  },
  "language_info": {
   "codemirror_mode": {
    "name": "ipython",
    "version": 3
   },
   "file_extension": ".py",
   "mimetype": "text/x-python",
   "name": "python",
   "nbconvert_exporter": "python",
   "pygments_lexer": "ipython3",
   "version": "3.11.7"
  }
 },
 "nbformat": 4,
 "nbformat_minor": 5
}
