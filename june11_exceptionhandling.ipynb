{
 "cells": [
  {
   "cell_type": "code",
   "execution_count": 24,
   "id": "582293c7-cb38-47c1-b4b9-aaccb6cfcd30",
   "metadata": {},
   "outputs": [
    {
     "name": "stdout",
     "output_type": "stream",
     "text": [
      "file is not there\n"
     ]
    }
   ],
   "source": [
    "try:\n",
    "    f = open('all.txt')\n",
    "except Exception:\n",
    "    print('file is not there')"
   ]
  },
  {
   "cell_type": "code",
   "execution_count": 25,
   "id": "17df5989-b72a-4881-bea6-60f8cbeffd2c",
   "metadata": {},
   "outputs": [
    {
     "name": "stdout",
     "output_type": "stream",
     "text": [
      "file is not there\n"
     ]
    }
   ],
   "source": [
    "try:\n",
    "    f = open('all.txt')\n",
    "    var = var1\n",
    "except Exception:\n",
    "    print('file is not there')"
   ]
  },
  {
   "cell_type": "code",
   "execution_count": 26,
   "id": "6014f852-a59d-409c-b947-f3f30e7f9cc1",
   "metadata": {},
   "outputs": [
    {
     "name": "stdout",
     "output_type": "stream",
     "text": [
      "file is not there\n"
     ]
    }
   ],
   "source": [
    "try:\n",
    "    f = open('test1.txt')\n",
    "    var = var1\n",
    "except Exception:\n",
    "    print('file is not there')"
   ]
  },
  {
   "cell_type": "code",
   "execution_count": 27,
   "id": "73625aed-1204-4bd4-aedd-3253d8c7bbe2",
   "metadata": {},
   "outputs": [
    {
     "name": "stdout",
     "output_type": "stream",
     "text": [
      "file is not there\n"
     ]
    }
   ],
   "source": [
    "try:\n",
    "    f = open('test1.txt')\n",
    "    var = var\n",
    "except FileNotFoundError:\n",
    "    print('file is not there')"
   ]
  },
  {
   "cell_type": "code",
   "execution_count": 28,
   "id": "bbdd588d-9c71-4230-9632-7fd285d81feb",
   "metadata": {},
   "outputs": [
    {
     "name": "stdout",
     "output_type": "stream",
     "text": [
      "file is not there\n"
     ]
    }
   ],
   "source": [
    "try:\n",
    "    f = open('test1.txt')\n",
    "    var = var\n",
    "except FileNotFoundError:\n",
    "    print('file is not there')\n",
    "except NameError:\n",
    "    print('Something went wrong')"
   ]
  },
  {
   "cell_type": "code",
   "execution_count": 29,
   "id": "53e8e18c-9a9e-4f74-a09e-49c171a3cb5a",
   "metadata": {},
   "outputs": [
    {
     "name": "stdout",
     "output_type": "stream",
     "text": [
      "file is not there\n",
      "finally\n"
     ]
    }
   ],
   "source": [
    "try:\n",
    "    f = open('test1.txt')\n",
    "except FileNotFoundError:\n",
    "    print('file is not there')\n",
    "else:\n",
    "    print('ok')\n",
    "finally:\n",
    "    print('finally')"
   ]
  },
  {
   "cell_type": "code",
   "execution_count": 37,
   "id": "14c6a13b-ad85-4210-9b6c-5bd91e92eb60",
   "metadata": {},
   "outputs": [
    {
     "name": "stdout",
     "output_type": "stream",
     "text": [
      "Something went wrong\n"
     ]
    }
   ],
   "source": [
    "try:\n",
    "    f = open('test1.txt')\n",
    "    var = var\n",
    "except FileNotFoundError:\n",
    "    print('Something went wrong')\n",
    "except NameError:\n",
    "    print('file is not there')"
   ]
  },
  {
   "cell_type": "code",
   "execution_count": 40,
   "id": "b809e217-5d51-40ff-acc2-cecb0395bb47",
   "metadata": {},
   "outputs": [
    {
     "name": "stdout",
     "output_type": "stream",
     "text": [
      "file is not there\n"
     ]
    }
   ],
   "source": [
    "try:\n",
    "    f = open('test1.txt')\n",
    "    var = var\n",
    "except FileNotFoundError:\n",
    "    print('file is not there')\n",
    "except Exception as e:\n",
    "    print(e)"
   ]
  },
  {
   "cell_type": "code",
   "execution_count": 44,
   "id": "4ed87254-ccbb-4d5d-91cc-d214449c4fba",
   "metadata": {},
   "outputs": [
    {
     "name": "stdout",
     "output_type": "stream",
     "text": [
      "file is not there\n"
     ]
    }
   ],
   "source": [
    "try:\n",
    "    f = open('test1.txt')\n",
    "except FileNotFoundError:\n",
    "    print('file is not there')\n",
    "else:\n",
    "    print(f.read())\n",
    "    f.close()"
   ]
  },
  {
   "cell_type": "code",
   "execution_count": 34,
   "id": "07c42004-a853-4e60-a98e-4d303d52bdc0",
   "metadata": {},
   "outputs": [
    {
     "name": "stdout",
     "output_type": "stream",
     "text": [
      "file is not there\n",
      "finally\n"
     ]
    }
   ],
   "source": [
    "try:\n",
    "    f = open('test1.txt')\n",
    "except FileNotFoundError:\n",
    "    print('file is not there')\n",
    "else:\n",
    "    print('ok')\n",
    "finally:\n",
    "    print('finally')"
   ]
  },
  {
   "cell_type": "code",
   "execution_count": null,
   "id": "03522f65-9f3d-4aa0-87b7-3a034a5fbc11",
   "metadata": {},
   "outputs": [],
   "source": []
  }
 ],
 "metadata": {
  "kernelspec": {
   "display_name": "Python 3 (ipykernel)",
   "language": "python",
   "name": "python3"
  },
  "language_info": {
   "codemirror_mode": {
    "name": "ipython",
    "version": 3
   },
   "file_extension": ".py",
   "mimetype": "text/x-python",
   "name": "python",
   "nbconvert_exporter": "python",
   "pygments_lexer": "ipython3",
   "version": "3.11.7"
  }
 },
 "nbformat": 4,
 "nbformat_minor": 5
}
