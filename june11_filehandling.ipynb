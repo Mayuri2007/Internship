{
 "cells": [
  {
   "cell_type": "code",
   "execution_count": 3,
   "id": "d9ad42f2-a2e6-4021-942f-f726253b3ffd",
   "metadata": {},
   "outputs": [],
   "source": [
    "f = open('maha.txt', 'r')"
   ]
  },
  {
   "cell_type": "code",
   "execution_count": 4,
   "id": "e6385715-ec56-4733-93ed-cb36f650801e",
   "metadata": {},
   "outputs": [
    {
     "name": "stdout",
     "output_type": "stream",
     "text": [
      "maha.txt\n"
     ]
    }
   ],
   "source": [
    "print(f.name)"
   ]
  },
  {
   "cell_type": "code",
   "execution_count": 5,
   "id": "22739a95-e0c7-4dc4-a097-82e9cc4d3005",
   "metadata": {},
   "outputs": [
    {
     "name": "stdout",
     "output_type": "stream",
     "text": [
      "Shivaji maharaj was born in the hill-fort of Shivneri, near the city of Junnar, which is now in Pune district. Scholars disagree on his date of birth; the Government of Maharashtra lists 19 February as a holiday commemorating Shivaji's birth (Shivaji Jayanti). Shivaji was named after a local deity, the Goddess Shivai Devi.\n"
     ]
    }
   ],
   "source": [
    "print(f.read())"
   ]
  },
  {
   "cell_type": "code",
   "execution_count": 6,
   "id": "7c4f7d87-73a2-4778-90ce-14d16a70908b",
   "metadata": {},
   "outputs": [
    {
     "name": "stdout",
     "output_type": "stream",
     "text": [
      "r\n"
     ]
    }
   ],
   "source": [
    "print(f.mode)"
   ]
  },
  {
   "cell_type": "code",
   "execution_count": 7,
   "id": "e3497df6-5007-4c55-9cbf-6ff0ad6b0ded",
   "metadata": {},
   "outputs": [],
   "source": [
    "f.close()"
   ]
  },
  {
   "cell_type": "code",
   "execution_count": 9,
   "id": "303c510e-a0fa-41f3-a471-7dd6a40f498e",
   "metadata": {},
   "outputs": [
    {
     "data": {
      "text/plain": [
       "True"
      ]
     },
     "execution_count": 9,
     "metadata": {},
     "output_type": "execute_result"
    }
   ],
   "source": [
    "f.closed"
   ]
  },
  {
   "cell_type": "code",
   "execution_count": 10,
   "id": "39408d8b-32f2-4fd2-8148-efd52a21a48c",
   "metadata": {},
   "outputs": [],
   "source": [
    "# open with context manager"
   ]
  },
  {
   "cell_type": "code",
   "execution_count": 11,
   "id": "026e80cd-2cdb-4473-be81-0146b0f5ec6a",
   "metadata": {},
   "outputs": [],
   "source": [
    "with open('maha.txt','r') as f:\n",
    "    pass"
   ]
  },
  {
   "cell_type": "code",
   "execution_count": 12,
   "id": "99957dcc-c287-4b68-ae55-6c99a89ff68e",
   "metadata": {},
   "outputs": [
    {
     "data": {
      "text/plain": [
       "True"
      ]
     },
     "execution_count": 12,
     "metadata": {},
     "output_type": "execute_result"
    }
   ],
   "source": [
    "f.closed"
   ]
  },
  {
   "cell_type": "code",
   "execution_count": 13,
   "id": "0d9395c1-356f-456d-9f96-684ace09ca32",
   "metadata": {},
   "outputs": [
    {
     "name": "stdout",
     "output_type": "stream",
     "text": [
      "Shivaji maharaj was born in the hill-fort of Shivneri, near the city of Junnar, which is now in Pune district. Scholars disagree on his date of birth; the Government of Maharashtra lists 19 February as a holiday commemorating Shivaji's birth (Shivaji Jayanti). Shivaji was named after a local deity, the Goddess Shivai Devi.\n"
     ]
    }
   ],
   "source": [
    "with open('maha.txt', 'r')as f:\n",
    "    content = f.read()\n",
    "    print(content)"
   ]
  },
  {
   "cell_type": "code",
   "execution_count": 14,
   "id": "e1b415dd-b9da-4bb1-9d95-72575410b464",
   "metadata": {},
   "outputs": [
    {
     "name": "stdout",
     "output_type": "stream",
     "text": [
      "[\"Shivaji maharaj was born in the hill-fort of Shivneri, near the city of Junnar, which is now in Pune district. Scholars disagree on his date of birth; the Government of Maharashtra lists 19 February as a holiday commemorating Shivaji's birth (Shivaji Jayanti). Shivaji was named after a local deity, the Goddess Shivai Devi.\"]\n"
     ]
    }
   ],
   "source": [
    "with open('maha.txt', 'r') as f:\n",
    "    content = f.readlines()\n",
    "    print(content)"
   ]
  },
  {
   "cell_type": "code",
   "execution_count": 16,
   "id": "26f7b3ca-fd17-4260-b132-5c58b77ffcb3",
   "metadata": {},
   "outputs": [
    {
     "name": "stdout",
     "output_type": "stream",
     "text": [
      "['This is first line\\n', 'This is second line\\n', 'This is third line\\n', 'This is fourth line']\n"
     ]
    }
   ],
   "source": [
    "with open('test1.txt', 'r') as f:\n",
    "    content = f.readlines()\n",
    "    print(content)"
   ]
  },
  {
   "cell_type": "code",
   "execution_count": 17,
   "id": "fbc6b307-13d1-435b-b4b3-bd31002f5bf0",
   "metadata": {},
   "outputs": [
    {
     "name": "stdout",
     "output_type": "stream",
     "text": [
      "['This is first line\\n', 'This is second line\\n', 'This is third line\\n', 'This is fourth line']\n"
     ]
    }
   ],
   "source": [
    "with open('test1.txt', 'r') as f:\n",
    "    content = f.readlines()\n",
    "    print(content)"
   ]
  },
  {
   "cell_type": "code",
   "execution_count": 18,
   "id": "0afc738f-f4cf-41a9-9092-b163e5919132",
   "metadata": {},
   "outputs": [
    {
     "name": "stdout",
     "output_type": "stream",
     "text": [
      "This is first line\n",
      "\n"
     ]
    }
   ],
   "source": [
    "with open('test1.txt', 'r') as f:\n",
    "    content = f.readline()\n",
    "    print(content)"
   ]
  },
  {
   "cell_type": "code",
   "execution_count": 19,
   "id": "c82be44e-88eb-4844-8a3c-d09769f764f6",
   "metadata": {},
   "outputs": [
    {
     "name": "stdout",
     "output_type": "stream",
     "text": [
      "This is first line\n",
      "This is second line\n",
      "\n"
     ]
    }
   ],
   "source": [
    "with open('test1.txt', 'r') as f:\n",
    "    content = f.readline()\n",
    "    print(content, end = '')\n",
    "    content = f.readline()\n",
    "    print(content)"
   ]
  },
  {
   "cell_type": "code",
   "execution_count": 21,
   "id": "3a24617f-0b98-493b-88f8-dcf1132eed74",
   "metadata": {},
   "outputs": [
    {
     "name": "stdout",
     "output_type": "stream",
     "text": [
      "This is first line\n",
      "This is second line\n",
      "This is third line\n",
      "This is fourth line"
     ]
    }
   ],
   "source": [
    "with open('test1.txt', 'r') as f:\n",
    "    for line in f:\n",
    "        print(line, end = '')"
   ]
  },
  {
   "cell_type": "code",
   "execution_count": 22,
   "id": "bacb6553-807a-4584-9cb0-202fd43846b0",
   "metadata": {},
   "outputs": [
    {
     "name": "stdout",
     "output_type": "stream",
     "text": [
      "Thi\n"
     ]
    }
   ],
   "source": [
    "# read the 3 character\n",
    "\n",
    "with open('test1.txt', 'r') as f:\n",
    "    content = f.read(3)\n",
    "    print(content)"
   ]
  },
  {
   "cell_type": "code",
   "execution_count": 24,
   "id": "7ecbe9a9-cfc9-4936-8b4d-e89b6f8686d0",
   "metadata": {},
   "outputs": [
    {
     "name": "stdout",
     "output_type": "stream",
     "text": [
      "This *is fi*rst l*ine\n",
      "T*his i*s sec*ond l*ine\n",
      "T*his i*s thi*rd li*ne\n",
      "Th*is is* four*th li*ne*"
     ]
    }
   ],
   "source": [
    "# use while loop to read entire fie..\n",
    "with open('test1.txt','r') as f:\n",
    "    size = 5\n",
    "    content = f.read(size)\n",
    "    while len(content) > 0:\n",
    "        print(content, end = '*')\n",
    "        content = f.read(size)"
   ]
  },
  {
   "cell_type": "code",
   "execution_count": 25,
   "id": "5a550ff6-abe5-4055-a7b4-02bcb3c5fab5",
   "metadata": {},
   "outputs": [
    {
     "name": "stdout",
     "output_type": "stream",
     "text": [
      "This \n",
      "This \n"
     ]
    }
   ],
   "source": [
    "# in the 2nd phase start from the start again \n",
    "with open('test1.txt', 'r') as f:\n",
    "    size = 5\n",
    "    content = f.read(size)\n",
    "    print(content)\n",
    "    f.seek(0)\n",
    "    content = f.read(size)\n",
    "    print(content)"
   ]
  },
  {
   "cell_type": "code",
   "execution_count": 26,
   "id": "6a7aaecd-ebaf-47a4-bb01-d86affca819e",
   "metadata": {},
   "outputs": [],
   "source": [
    "# WRITE"
   ]
  },
  {
   "cell_type": "code",
   "execution_count": 27,
   "id": "bfa8c975-b562-471b-819f-fc2080e356f1",
   "metadata": {},
   "outputs": [],
   "source": [
    "with open('write.txt', 'w') as w:\n",
    "    pass"
   ]
  },
  {
   "cell_type": "code",
   "execution_count": 28,
   "id": "345d3363-8f34-490e-b71e-7b2165b29f64",
   "metadata": {},
   "outputs": [],
   "source": [
    "with open('write.txt', 'w') as w:\n",
    "    w.write('my name is mayuri')"
   ]
  },
  {
   "cell_type": "code",
   "execution_count": 29,
   "id": "f9dd0f8a-f39b-4474-b0cc-918e5f89d097",
   "metadata": {},
   "outputs": [],
   "source": [
    "with open('write.txt', 'w') as w:\n",
    "    w.write('my name is prajyot')\n",
    "    w.write('my name is pratiksha')\n",
    "    "
   ]
  },
  {
   "cell_type": "code",
   "execution_count": 30,
   "id": "9aa32fbe-390c-4950-b11e-9a1af7d38cfe",
   "metadata": {},
   "outputs": [],
   "source": [
    "with open('write.txt', 'w') as w:\n",
    "    w.write('my name is jay')\n",
    "    w.seek(0)\n",
    "    w.write('AAAA')"
   ]
  },
  {
   "cell_type": "code",
   "execution_count": 31,
   "id": "0df21c3b-c92e-4e67-828c-08b123eb69c4",
   "metadata": {},
   "outputs": [],
   "source": [
    "# create a new file which will be the copy\n",
    "with open('maha.txt', 'r') as rf:\n",
    "    with open('maha_copy.txt', 'w') as w:\n",
    "        for line in rf:\n",
    "            w.write(line)"
   ]
  }
 ],
 "metadata": {
  "kernelspec": {
   "display_name": "Python 3 (ipykernel)",
   "language": "python",
   "name": "python3"
  },
  "language_info": {
   "codemirror_mode": {
    "name": "ipython",
    "version": 3
   },
   "file_extension": ".py",
   "mimetype": "text/x-python",
   "name": "python",
   "nbconvert_exporter": "python",
   "pygments_lexer": "ipython3",
   "version": "3.11.7"
  }
 },
 "nbformat": 4,
 "nbformat_minor": 5
}
