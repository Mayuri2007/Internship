{
 "cells": [
  {
   "cell_type": "code",
   "execution_count": 3,
   "id": "b9575397-cf4d-4912-82b0-ed6076725bc0",
   "metadata": {},
   "outputs": [
    {
     "name": "stdout",
     "output_type": "stream",
     "text": [
      "pratiksha\n",
      "pratiksha\n",
      "pratiksha\n",
      "pratiksha\n",
      "pratiksha\n"
     ]
    }
   ],
   "source": [
    "count = 1\n",
    "while count <= 5:\n",
    "    print('pratiksha')\n",
    "    count = count + 1"
   ]
  },
  {
   "cell_type": "code",
   "execution_count": 5,
   "id": "ce5da56c-1602-4d1b-93e3-060b5c5cf62a",
   "metadata": {},
   "outputs": [
    {
     "name": "stdout",
     "output_type": "stream",
     "text": [
      "5 6 7 8 9 10 11 12 13 14 15 Goodbye!!!\n"
     ]
    }
   ],
   "source": [
    "# print numbers from 5 to 15\n",
    "\n",
    "count = 5\n",
    "\n",
    "while count <= 15:\n",
    "    print(count, end = ' ')\n",
    "    count += 1\n",
    "print('Goodbye!!!')"
   ]
  },
  {
   "cell_type": "code",
   "execution_count": 6,
   "id": "2d1c7eb9-f8f2-45de-9c83-da4c2cf4e18d",
   "metadata": {},
   "outputs": [
    {
     "name": "stdout",
     "output_type": "stream",
     "text": [
      "16\n"
     ]
    }
   ],
   "source": [
    "print(count)"
   ]
  },
  {
   "cell_type": "code",
   "execution_count": 7,
   "id": "927d6bdc-78d5-45bd-9b50-bc45b0ce887c",
   "metadata": {},
   "outputs": [
    {
     "name": "stdout",
     "output_type": "stream",
     "text": [
      "Addition is: 55\n"
     ]
    }
   ],
   "source": [
    "# print addition of numbers from 1 to 10\n",
    "\n",
    "count = 1\n",
    "add = 0\n",
    "while count <= 10:\n",
    "    add = add + count\n",
    "    count += 1\n",
    "print('Addition is:', add)"
   ]
  },
  {
   "cell_type": "code",
   "execution_count": 8,
   "id": "37d6ca95-374d-42dd-881d-783b7577323c",
   "metadata": {},
   "outputs": [
    {
     "name": "stdout",
     "output_type": "stream",
     "text": [
      "11\n"
     ]
    }
   ],
   "source": [
    "print(count)"
   ]
  },
  {
   "cell_type": "code",
   "execution_count": 9,
   "id": "370146a0-9a68-4a32-922b-5a6811459989",
   "metadata": {},
   "outputs": [
    {
     "name": "stdout",
     "output_type": "stream",
     "text": [
      "Addition is: 100\n"
     ]
    }
   ],
   "source": [
    "# print the addition of all odd numbers from 1 to 20\n",
    "\n",
    "count = 1\n",
    "add = 0\n",
    "while count <= 20:\n",
    "    add = add + count\n",
    "    count += 2\n",
    "print('Addition is:', add)"
   ]
  },
  {
   "cell_type": "code",
   "execution_count": 10,
   "id": "485dc3f6-044f-4d03-8a02-69aace6f3827",
   "metadata": {},
   "outputs": [
    {
     "name": "stdout",
     "output_type": "stream",
     "text": [
      "factorial is: 120\n"
     ]
    }
   ],
   "source": [
    "# factorial => 5! => 5*4*3*2*1 =120\n",
    "\n",
    "num = 1\n",
    "fact = 1\n",
    "while num <= 5:\n",
    "    fact = fact * num\n",
    "    num += 1\n",
    "print('factorial is:', fact)"
   ]
  },
  {
   "cell_type": "code",
   "execution_count": 11,
   "id": "ccb69c86-cfba-4b01-809a-d3dd36857ec6",
   "metadata": {},
   "outputs": [
    {
     "name": "stdin",
     "output_type": "stream",
     "text": [
      "enter the number 23\n"
     ]
    },
    {
     "name": "stdout",
     "output_type": "stream",
     "text": [
      "factorial is: 25852016738884976640000\n"
     ]
    }
   ],
   "source": [
    "num = int(input('enter the number'))\n",
    "fact = 1\n",
    "while num > 1:\n",
    "    fact = fact * num\n",
    "    num -= 1\n",
    "print('factorial is:', fact)"
   ]
  },
  {
   "cell_type": "code",
   "execution_count": 12,
   "id": "32eabd7e-20ce-4bee-9061-2bd3104f3228",
   "metadata": {},
   "outputs": [
    {
     "name": "stdin",
     "output_type": "stream",
     "text": [
      "enter the number 20\n"
     ]
    },
    {
     "name": "stdout",
     "output_type": "stream",
     "text": [
      "loop ended\n",
      "factorial is: 2432902008176640000\n"
     ]
    }
   ],
   "source": [
    "# else\n",
    "num = int(input('enter the number'))\n",
    "fact = 1\n",
    "while num > 1:\n",
    "    fact = fact * num\n",
    "    num -= 1\n",
    "else:\n",
    "    print('loop ended')\n",
    "print('factorial is:' , fact)"
   ]
  },
  {
   "cell_type": "code",
   "execution_count": 13,
   "id": "087be30c-e54f-408d-a0c9-751c0086fb7f",
   "metadata": {},
   "outputs": [],
   "source": [
    "'''# infinite loop\n",
    "num = 2\n",
    "while num > 1:\n",
    "print(num)\n",
    "num += 1''';"
   ]
  },
  {
   "cell_type": "code",
   "execution_count": 14,
   "id": "6c72c930-d668-476a-aec2-0caaf629a58d",
   "metadata": {},
   "outputs": [],
   "source": [
    "''' while True:\n",
    "    print('a')\n",
    "    ''';"
   ]
  },
  {
   "cell_type": "code",
   "execution_count": 15,
   "id": "0de4a545-d11f-46e1-b2fd-1c74ec483edd",
   "metadata": {},
   "outputs": [
    {
     "data": {
      "text/plain": [
       "4"
      ]
     },
     "execution_count": 15,
     "metadata": {},
     "output_type": "execute_result"
    }
   ],
   "source": [
    "num = 12345\n",
    "num % 10\n",
    "a = num //10\n",
    "a % 10"
   ]
  },
  {
   "cell_type": "code",
   "execution_count": 16,
   "id": "9882a5d5-84a2-481d-97bd-4a4045aaf327",
   "metadata": {},
   "outputs": [
    {
     "name": "stdin",
     "output_type": "stream",
     "text": [
      "enter the number 100\n"
     ]
    },
    {
     "name": "stdout",
     "output_type": "stream",
     "text": [
      "addition of digits is: 0\n",
      "addition of digits is: 0\n",
      "addition of digits is: 1\n"
     ]
    }
   ],
   "source": [
    "# find the sum of digits in a number \n",
    "# 12345 => 1 + 2 + 3 + 4 + 5 = 15\n",
    "\n",
    "num = int(input('enter the number'))\n",
    "add = 0\n",
    "while num > 0:\n",
    "    rem = num % 10\n",
    "    add = add + rem\n",
    "    num = num // 10\n",
    "    print('addition of digits is:', add)\n",
    "    "
   ]
  },
  {
   "cell_type": "code",
   "execution_count": null,
   "id": "3b566990-8c81-43d1-a157-70a959a15d19",
   "metadata": {},
   "outputs": [],
   "source": [
    " # for loop "
   ]
  },
  {
   "cell_type": "code",
   "execution_count": 17,
   "id": "54a59174-13fd-405c-9262-a870190eb3b6",
   "metadata": {},
   "outputs": [
    {
     "name": "stdout",
     "output_type": "stream",
     "text": [
      "12\n",
      "34\n",
      "45\n",
      "21\n"
     ]
    }
   ],
   "source": [
    "for n in 12 , 34 , 45 , 21:\n",
    "    print(n)"
   ]
  },
  {
   "cell_type": "code",
   "execution_count": 18,
   "id": "45478b57-eb94-42b3-9507-f776d6af00c2",
   "metadata": {},
   "outputs": [
    {
     "name": "stdout",
     "output_type": "stream",
     "text": [
      "12\n",
      "34\n",
      "45\n",
      "21\n",
      "Mayuu\n",
      "True\n"
     ]
    }
   ],
   "source": [
    "for n in 12, 34, 45, 21, 'Mayuu', True:\n",
    "    print(n)"
   ]
  },
  {
   "cell_type": "code",
   "execution_count": 19,
   "id": "85c4ec45-ddb3-46fa-9813-2f1e8b7c5f49",
   "metadata": {},
   "outputs": [
    {
     "name": "stdout",
     "output_type": "stream",
     "text": [
      "6.0\n",
      "17.0\n",
      "22.5\n",
      "10.5\n"
     ]
    }
   ],
   "source": [
    "for n in 12, 34, 45, 21:\n",
    "    print(n/2)"
   ]
  },
  {
   "cell_type": "code",
   "execution_count": null,
   "id": "bdc7863b-3328-4e26-ac6a-88658ad713d7",
   "metadata": {},
   "outputs": [],
   "source": [
    "# range function"
   ]
  },
  {
   "cell_type": "code",
   "execution_count": 20,
   "id": "87365c19-6e9b-43a3-8788-b1c8f6965400",
   "metadata": {},
   "outputs": [
    {
     "data": {
      "text/plain": [
       "[0, 1, 2, 3, 4]"
      ]
     },
     "execution_count": 20,
     "metadata": {},
     "output_type": "execute_result"
    }
   ],
   "source": [
    "list (range(5))"
   ]
  },
  {
   "cell_type": "code",
   "execution_count": 21,
   "id": "9940bff5-1808-46e9-ae01-f1be0e8d929a",
   "metadata": {},
   "outputs": [
    {
     "data": {
      "text/plain": [
       "[5, 6, 7, 8, 9, 10, 11, 12, 13, 14, 15, 16, 17, 18, 19]"
      ]
     },
     "execution_count": 21,
     "metadata": {},
     "output_type": "execute_result"
    }
   ],
   "source": [
    "list(range(5, 20))"
   ]
  },
  {
   "cell_type": "code",
   "execution_count": 22,
   "id": "e50af8a1-17f7-41ad-b201-44b7a67d4a34",
   "metadata": {},
   "outputs": [
    {
     "data": {
      "text/plain": [
       "[5, 7, 9, 11, 13, 15, 17, 19]"
      ]
     },
     "execution_count": 22,
     "metadata": {},
     "output_type": "execute_result"
    }
   ],
   "source": [
    "list(range(5,20,2))"
   ]
  },
  {
   "cell_type": "code",
   "execution_count": null,
   "id": "2981de28-9bec-4a74-81a5-cca79d0a6d26",
   "metadata": {},
   "outputs": [],
   "source": [
    "# range (start, end + 1,step)"
   ]
  },
  {
   "cell_type": "code",
   "execution_count": 23,
   "id": "de08e488-3cb0-4710-a153-71f8bc1d08b5",
   "metadata": {},
   "outputs": [
    {
     "name": "stdout",
     "output_type": "stream",
     "text": [
      "1 2 3 4 5 6 7 8 9 10 "
     ]
    }
   ],
   "source": [
    "for n in range(1,11):\n",
    "    print(n, end = ' ')"
   ]
  },
  {
   "cell_type": "code",
   "execution_count": 27,
   "id": "f8269d42-f035-476d-8bb7-631e424b0151",
   "metadata": {},
   "outputs": [
    {
     "name": "stdout",
     "output_type": "stream",
     "text": [
      "Addition 100\n"
     ]
    }
   ],
   "source": [
    "# addition of odd numbers from 1 to 20\n",
    "add = 0\n",
    "for n in range(1,21,2):\n",
    "    add = add + n\n",
    "print('Addition', add)"
   ]
  },
  {
   "cell_type": "code",
   "execution_count": 29,
   "id": "09dd9694-a79f-4f8a-b394-bbfdc5913bc4",
   "metadata": {},
   "outputs": [
    {
     "name": "stdout",
     "output_type": "stream",
     "text": [
      "Mayuri Mayuri Mayuri Mayuri Mayuri Mayuri Mayuri Mayuri Mayuri Mayuri "
     ]
    }
   ],
   "source": [
    "for n in range(10):\n",
    "    print('Mayuri', end = ' ')"
   ]
  },
  {
   "cell_type": "code",
   "execution_count": 32,
   "id": "4bfc3524-b951-4b81-827d-2ae3130a8809",
   "metadata": {},
   "outputs": [
    {
     "name": "stdout",
     "output_type": "stream",
     "text": [
      "MMM\n",
      "aaa\n",
      "yyy\n",
      "uuu\n",
      "rrr\n",
      "iii\n"
     ]
    }
   ],
   "source": [
    "for n in 'Mayuri':\n",
    "    print(n * 3)"
   ]
  },
  {
   "cell_type": "code",
   "execution_count": 33,
   "id": "c3d96993-bbf8-4a2c-b626-1b25065d5d9f",
   "metadata": {},
   "outputs": [
    {
     "name": "stdout",
     "output_type": "stream",
     "text": [
      "Mayuri\n",
      "prajyot\n"
     ]
    }
   ],
   "source": [
    "for n in 'Mayuri', 'prajyot':\n",
    "    print(n)"
   ]
  },
  {
   "cell_type": "code",
   "execution_count": 34,
   "id": "248b987d-cfaf-4d28-ac63-27e19c4ce439",
   "metadata": {},
   "outputs": [
    {
     "name": "stdout",
     "output_type": "stream",
     "text": [
      "23\n",
      "45\n",
      "32\n",
      "21\n",
      "67\n",
      "loop ended\n"
     ]
    }
   ],
   "source": [
    "l=[23,45,32,21,67]\n",
    "for n in l:\n",
    "    print(n)\n",
    "else:\n",
    "    print('loop ended')"
   ]
  },
  {
   "cell_type": "code",
   "execution_count": 35,
   "id": "482a4626-dbfd-4cc4-bdd5-e87904b76200",
   "metadata": {},
   "outputs": [
    {
     "name": "stdin",
     "output_type": "stream",
     "text": [
      "enter the number 5\n"
     ]
    },
    {
     "name": "stdout",
     "output_type": "stream",
     "text": [
      "factorial is: 120\n"
     ]
    }
   ],
   "source": [
    "# find factorial of a number.....take user input\n",
    "num = int(input('enter the number'))\n",
    "fact = 1\n",
    "for n in range(1, num + 1):\n",
    "    fact = fact * n\n",
    "print('factorial is:', fact)"
   ]
  },
  {
   "cell_type": "code",
   "execution_count": null,
   "id": "e7df963b-b30c-4ed9-9157-d286231c5a34",
   "metadata": {},
   "outputs": [],
   "source": [
    "# BREAK"
   ]
  },
  {
   "cell_type": "code",
   "execution_count": 36,
   "id": "db3ba2a0-ffc7-4191-852d-2b076f3336ab",
   "metadata": {},
   "outputs": [
    {
     "name": "stdout",
     "output_type": "stream",
     "text": [
      "1\n",
      "2\n",
      "3\n",
      "4\n"
     ]
    }
   ],
   "source": [
    "for n in range(1,10):\n",
    "    if n == 5:\n",
    "        break\n",
    "    print(n)"
   ]
  },
  {
   "cell_type": "code",
   "execution_count": 37,
   "id": "9f7261f0-7243-4837-9664-c4162e9c5147",
   "metadata": {},
   "outputs": [
    {
     "name": "stdout",
     "output_type": "stream",
     "text": [
      "0\n",
      "1\n",
      "2\n",
      "3\n",
      "4\n",
      "5\n"
     ]
    }
   ],
   "source": [
    "count = 0\n",
    "while count < 10:\n",
    "    print(count)\n",
    "    if count == 5:\n",
    "        break\n",
    "    count += 1"
   ]
  },
  {
   "cell_type": "code",
   "execution_count": null,
   "id": "50b95c88-dd73-46a1-a949-fa4f3015bfbc",
   "metadata": {},
   "outputs": [],
   "source": [
    "# CONTINUE"
   ]
  },
  {
   "cell_type": "code",
   "execution_count": 38,
   "id": "42818197-b048-48f1-99cb-62017bbaf82b",
   "metadata": {},
   "outputs": [
    {
     "name": "stdout",
     "output_type": "stream",
     "text": [
      "1\n",
      "2\n",
      "3\n",
      "4\n",
      "6\n",
      "7\n",
      "8\n",
      "9\n"
     ]
    }
   ],
   "source": [
    "for n in range(1,10):\n",
    "    if n == 5:\n",
    "        continue\n",
    "    print(n)"
   ]
  },
  {
   "cell_type": "code",
   "execution_count": 39,
   "id": "1bad7b6a-25c3-4007-98c1-cce9783910d5",
   "metadata": {},
   "outputs": [
    {
     "name": "stdout",
     "output_type": "stream",
     "text": [
      "1\n",
      "3\n",
      "5\n",
      "7\n",
      "9\n",
      "11\n"
     ]
    }
   ],
   "source": [
    "# print odd nmbers from 1 to 20 using continue\n",
    "for i in range(1,13):\n",
    "    if i % 2 == 0:\n",
    "        continue\n",
    "    print(i)"
   ]
  },
  {
   "cell_type": "code",
   "execution_count": 40,
   "id": "ab9931ba-58ef-4746-858c-4b3deb5c8764",
   "metadata": {},
   "outputs": [],
   "source": [
    "# PASS"
   ]
  },
  {
   "cell_type": "code",
   "execution_count": 41,
   "id": "961feb7c-9cde-41bb-8fda-c02201ec682e",
   "metadata": {},
   "outputs": [],
   "source": [
    "num = 5\n",
    "if num > 1:\n",
    "    pass"
   ]
  },
  {
   "cell_type": "code",
   "execution_count": 42,
   "id": "bc49b3cb-194b-4b88-b06c-2b05a8fd4985",
   "metadata": {},
   "outputs": [],
   "source": [
    "'''\n",
    "*\n",
    "**\n",
    "***\n",
    "''';"
   ]
  },
  {
   "cell_type": "code",
   "execution_count": 44,
   "id": "1be927da-1036-4205-9812-3055d0594296",
   "metadata": {},
   "outputs": [
    {
     "name": "stdin",
     "output_type": "stream",
     "text": [
      "enter the number of rows 5\n"
     ]
    },
    {
     "name": "stdout",
     "output_type": "stream",
     "text": [
      "* \n",
      "* * \n",
      "* * * \n",
      "* * * * \n",
      "* * * * * \n"
     ]
    }
   ],
   "source": [
    "row = int(input('enter the number of rows'))\n",
    "for i in range(1, row + 1):\n",
    "    for j in range(i):\n",
    "        print('*', end = ' ')\n",
    "    print()"
   ]
  },
  {
   "cell_type": "code",
   "execution_count": 1,
   "id": "e59ef5d0-f9b5-45fc-844c-ea4e1ca6ba73",
   "metadata": {},
   "outputs": [
    {
     "name": "stdout",
     "output_type": "stream",
     "text": [
      "pratiksha pratiksha pratiksha pratiksha pratiksha pratiksha pratiksha pratiksha pratiksha pratiksha pratiksha pratiksha pratiksha pratiksha pratiksha "
     ]
    }
   ],
   "source": [
    "# printing a name 15 times\n",
    "count = 1\n",
    "while count <= 15:\n",
    "    print('pratiksha', end = ' ')\n",
    "    count = count + 1\n"
   ]
  },
  {
   "cell_type": "code",
   "execution_count": 2,
   "id": "6acbce9f-c557-43dd-ace9-3f21fbc987a5",
   "metadata": {},
   "outputs": [
    {
     "name": "stdout",
     "output_type": "stream",
     "text": [
      "16\n"
     ]
    }
   ],
   "source": [
    "print(count)"
   ]
  },
  {
   "cell_type": "code",
   "execution_count": 3,
   "id": "b77b5d20-7895-4b0e-b90f-306518758297",
   "metadata": {},
   "outputs": [
    {
     "name": "stdout",
     "output_type": "stream",
     "text": [
      "1\n",
      "2\n",
      "3\n",
      "4\n",
      "5\n"
     ]
    }
   ],
   "source": [
    "# print numbers from 1 to 5\n",
    "count = 1\n",
    "while count <= 5:\n",
    "    print(count)\n",
    "    count += 1"
   ]
  },
  {
   "cell_type": "code",
   "execution_count": 4,
   "id": "87c2d2f5-3551-4660-9cb2-05bc9c8333bf",
   "metadata": {},
   "outputs": [
    {
     "name": "stdout",
     "output_type": "stream",
     "text": [
      "6\n",
      "7\n",
      "8\n",
      "9\n",
      "10\n",
      "11\n",
      "12\n",
      "13\n",
      "14\n",
      "15\n",
      "16\n",
      "17\n",
      "18\n",
      "19\n",
      "20\n"
     ]
    }
   ],
   "source": [
    "# print odd numbers from 1 to 20\n",
    "count + 1\n",
    "while count <= 20:\n",
    "    print(count)\n",
    "    count += 1"
   ]
  },
  {
   "cell_type": "code",
   "execution_count": 5,
   "id": "ad635a8b-fd3b-448e-814f-92f1b7147080",
   "metadata": {},
   "outputs": [
    {
     "name": "stdout",
     "output_type": "stream",
     "text": [
      "sanika\n",
      "dnyaneshwari\n"
     ]
    }
   ],
   "source": [
    "for n in 'sanika', 'dnyaneshwari':\n",
    "    print(n)"
   ]
  },
  {
   "cell_type": "code",
   "execution_count": null,
   "id": "73e1e1bc-d09d-4d65-a094-7b404b96bc01",
   "metadata": {},
   "outputs": [],
   "source": []
  }
 ],
 "metadata": {
  "kernelspec": {
   "display_name": "Python 3 (ipykernel)",
   "language": "python",
   "name": "python3"
  },
  "language_info": {
   "codemirror_mode": {
    "name": "ipython",
    "version": 3
   },
   "file_extension": ".py",
   "mimetype": "text/x-python",
   "name": "python",
   "nbconvert_exporter": "python",
   "pygments_lexer": "ipython3",
   "version": "3.11.7"
  }
 },
 "nbformat": 4,
 "nbformat_minor": 5
}
