{
 "cells": [
  {
   "cell_type": "code",
   "execution_count": null,
   "id": "b34a5dad-c60d-491e-b6d0-79976f02df71",
   "metadata": {},
   "outputs": [],
   "source": [
    "'''\n",
    "1. # write a program to convert specified days into years,weeks,and days take user input \n",
    "  # note:ignore lkeap year\n",
    "''';"
   ]
  },
  {
   "cell_type": "code",
   "execution_count": 3,
   "id": "99fd7241-c274-47cd-9d59-0a404fdf2d07",
   "metadata": {},
   "outputs": [
    {
     "name": "stdin",
     "output_type": "stream",
     "text": [
      "enter the number of days 45\n"
     ]
    },
    {
     "name": "stdout",
     "output_type": "stream",
     "text": [
      "total number of years:\n",
      "0\n",
      "total number of weeks:\n",
      "6\n",
      "total number of days:\n",
      "3\n"
     ]
    }
   ],
   "source": [
    "num = int (input('enter the number of days'))\n",
    "\n",
    "years = int(num / 365)\n",
    "weeks = int((num % 365) / 7)\n",
    "days = int((num % 365) % 7)\n",
    "\n",
    "print('total number of years:')\n",
    "print(years)\n",
    "print('total number of weeks:')\n",
    "print(weeks)\n",
    "print('total number of days:')\n",
    "print(days)"
   ]
  },
  {
   "cell_type": "code",
   "execution_count": null,
   "id": "e883afe9-6d84-4735-a149-3d09bd482522",
   "metadata": {},
   "outputs": [],
   "source": [
    "'''\n",
    "2.# write a python program to input basic python salary of an employee and calculate its gross salary\n",
    "according to following:\n",
    " basic salary<=10000:hra = 20%, da = 80%\n",
    " basic salary<=20000:hra = 30%, da = 90%\n",
    " basic salary<=20000:hra = 35%, da = 95%\n",
    "''';"
   ]
  },
  {
   "cell_type": "code",
   "execution_count": 5,
   "id": "d2192c17-038a-4a32-9b20-5ef77b4eaa47",
   "metadata": {},
   "outputs": [
    {
     "name": "stdin",
     "output_type": "stream",
     "text": [
      "enter the basic salary 10000\n"
     ]
    },
    {
     "name": "stdout",
     "output_type": "stream",
     "text": [
      "gross salary is : 20000.0\n"
     ]
    }
   ],
   "source": [
    "basic_salary = int(input('enter the basic salary'))\n",
    "#basic salary<=10000:hra = 20%, da = 80%\n",
    "if basic_salary <= 10000:\n",
    "    hra = .20 * basic_salary\n",
    "    da = .80 * basic_salary\n",
    "#basic salary<=20000:hra = 30%, da = 90%\n",
    "elif basic_salary <= 20000:\n",
    "    hra = .30 * basic_salary\n",
    "    da = .90 * basic_salary\n",
    "#basic salary<=20000:hra = 35%, da = 95%\n",
    "else:\n",
    "    hra = .35 * basic_salary\n",
    "    da = .95* basic_salary\n",
    "gross_salary = basic_salary + hra + da\n",
    "print('gross salary is :', gross_salary)"
   ]
  },
  {
   "cell_type": "code",
   "execution_count": null,
   "id": "1c69806f-2391-461c-ae8e-0f7b2be29957",
   "metadata": {},
   "outputs": [],
   "source": [
    "'''\n",
    "3. # write a python program to input electricity unit charge and calculate total electricity bill according to the given \n",
    "for first 50 units rs. 0.50/unit\n",
    "for next 100 units rs. 0.75/unit\n",
    "for next 150 units rs. 1.25/unit\n",
    "for unit above 50 units rs. 1.50/unit\n",
    "an additional surcharge of 17% is added to the bill\n",
    "''';"
   ]
  },
  {
   "cell_type": "code",
   "execution_count": 1,
   "id": "f8f08df6-3f82-4e58-81b7-5046f96245be",
   "metadata": {},
   "outputs": [
    {
     "name": "stdin",
     "output_type": "stream",
     "text": [
      "enter the units:- 45\n"
     ]
    },
    {
     "name": "stdout",
     "output_type": "stream",
     "text": [
      "enter the units:- 45\n",
      "22.67\n"
     ]
    }
   ],
   "source": [
    "electric_units = int(input(\"enter the units:-\"))\n",
    "print(\"enter the units:-\", electric_units)\n",
    "if electric_units <= 50:\n",
    "    t_bill = electric_units * 0.50 + 0.17\n",
    "    print(t_bill)\n",
    "elif electric_units <= 100:\n",
    "    t_bill = electric_units * 0.75 + 0.17\n",
    "    print(t_bill)\n",
    "elif electric_units <= 150:\n",
    "    t_bill = electric_units * 1.25 + 0.17\n",
    "    print(t_bill)\n",
    "else :\n",
    "    if  electric_units > 250:\n",
    "         t_bill = electric_units * 1.50 + 0.17\n",
    "         print(t_bill)"
   ]
  },
  {
   "cell_type": "code",
   "execution_count": null,
   "id": "a61d0033-d86b-49f2-8030-3892accedbdb",
   "metadata": {},
   "outputs": [],
   "source": [
    "4. # write a python program to print the given number patterns\n",
    "1\n",
    "22\n",
    "333\n",
    "4444\n",
    "55555"
   ]
  },
  {
   "cell_type": "code",
   "execution_count": 59,
   "id": "ef6fa77b-b73b-413e-ac29-b3bde3cc7edf",
   "metadata": {},
   "outputs": [
    {
     "name": "stdout",
     "output_type": "stream",
     "text": [
      "1  \n",
      "2  2  \n",
      "3  3  3  \n",
      "4  4  4  4  \n",
      "5  5  5  5  5  \n"
     ]
    }
   ],
   "source": [
    "row = 5\n",
    "for i in range(1 , row + 1):\n",
    "    for j in range(1 , i+1):\n",
    "        print(i,end = '  ')\n",
    "    print()"
   ]
  },
  {
   "cell_type": "code",
   "execution_count": null,
   "id": "75163603-43e0-4d70-9ae1-f40a8ba51e5d",
   "metadata": {},
   "outputs": [],
   "source": [
    "5. # write a python program to calculate product of digits of a number. read value of n from user."
   ]
  },
  {
   "cell_type": "code",
   "execution_count": 60,
   "id": "61ce3bb4-1dca-4eea-9497-357ce16e892f",
   "metadata": {},
   "outputs": [
    {
     "name": "stdin",
     "output_type": "stream",
     "text": [
      "enter the number 123456\n"
     ]
    },
    {
     "name": "stdout",
     "output_type": "stream",
     "text": [
      "product of digit is : 0 : 720\n"
     ]
    }
   ],
   "source": [
    "num = int(input('enter the number')) \n",
    "product = 1\n",
    "while num != 0:\n",
    "    product = product * (num % 10 )\n",
    "    num = int (num / 10)\n",
    "print ('product of digit is :',num,':',product)"
   ]
  },
  {
   "cell_type": "code",
   "execution_count": null,
   "id": "95b5a78e-a66f-4ee7-a23d-164ea73db797",
   "metadata": {},
   "outputs": [],
   "source": [
    "'''\n",
    "6. #create list of elements like : x = [ 45,67,12, 'hello', 23.45 , 'world'] and oerfrom following operation:\n",
    "    1. extract only string values from this list.\n",
    "    2. create new list with strings in upper case.\n",
    "    3. find the addition of integer values.\n",
    "    4. check that the values 56 is present in it or not.\n",
    "    5. print the list i reverse order.\n",
    "    6. delete the string 'hello' from it.\n",
    "    7. insert a new value of 36 at 5th position in list.\n",
    "    8. count total number of elements in list now.\n",
    "    9. extract the value from 2nd index to 5th index.\n",
    "    10. append[34,'pune']to this list.\n",
    "    11. delete the last element from list.\n",
    "''';"
   ]
  },
  {
   "cell_type": "code",
   "execution_count": 117,
   "id": "3ef1a4cb-b010-4cd5-adbf-9241b1dee43b",
   "metadata": {},
   "outputs": [],
   "source": [
    "x = [ 45,67,12, 'hello', 23.45 , 'world']"
   ]
  },
  {
   "cell_type": "code",
   "execution_count": 118,
   "id": "e51afb62-a0ed-40ee-86b7-a1178d748384",
   "metadata": {},
   "outputs": [
    {
     "data": {
      "text/plain": [
       "'hello'"
      ]
     },
     "execution_count": 118,
     "metadata": {},
     "output_type": "execute_result"
    }
   ],
   "source": [
    "# extract only string values from this list.\n",
    "x[3]"
   ]
  },
  {
   "cell_type": "code",
   "execution_count": 119,
   "id": "3c1af0fd-f5cc-4d8d-8925-2c84513c1bc9",
   "metadata": {},
   "outputs": [
    {
     "data": {
      "text/plain": [
       "'world'"
      ]
     },
     "execution_count": 119,
     "metadata": {},
     "output_type": "execute_result"
    }
   ],
   "source": [
    "x[5]"
   ]
  },
  {
   "cell_type": "code",
   "execution_count": 120,
   "id": "2baa2c63-6450-45f3-8d2e-c3d34a6a1433",
   "metadata": {},
   "outputs": [
    {
     "name": "stdout",
     "output_type": "stream",
     "text": [
      "['MAYURI', ' SHAMBHAVI', 'JYOTI']   "
     ]
    }
   ],
   "source": [
    " # create new list with strings in upper case.\n",
    "l = ['mayuri', ' shambhavi','jyoti']\n",
    "a = [ n.upper() for n in l]\n",
    "print(a, end = '   ')"
   ]
  },
  {
   "cell_type": "code",
   "execution_count": 123,
   "id": "71e4ec5f-43dc-453c-ba76-990422a1226a",
   "metadata": {},
   "outputs": [
    {
     "data": {
      "text/plain": [
       "147.45"
      ]
     },
     "execution_count": 123,
     "metadata": {},
     "output_type": "execute_result"
    }
   ],
   "source": [
    "# find the addition of integer values.\n",
    "sum(x)"
   ]
  },
  {
   "cell_type": "code",
   "execution_count": 124,
   "id": "08263c79-5f4f-40b9-88ac-76dbcb186616",
   "metadata": {},
   "outputs": [
    {
     "data": {
      "text/plain": [
       "False"
      ]
     },
     "execution_count": 124,
     "metadata": {},
     "output_type": "execute_result"
    }
   ],
   "source": [
    " # check that the values 56 is present in it or not.\n",
    "56 in x"
   ]
  },
  {
   "cell_type": "code",
   "execution_count": 125,
   "id": "bc50c73a-76df-428c-85e7-c11aaac13057",
   "metadata": {},
   "outputs": [
    {
     "data": {
      "text/plain": [
       "[67, 45, 23.45, 12]"
      ]
     },
     "execution_count": 125,
     "metadata": {},
     "output_type": "execute_result"
    }
   ],
   "source": [
    "# print the list i reverse order.\n",
    "sorted(x, reverse = True)"
   ]
  },
  {
   "cell_type": "code",
   "execution_count": 121,
   "id": "88218ceb-ea78-4c59-bdf4-3935dcf73a04",
   "metadata": {},
   "outputs": [
    {
     "data": {
      "text/plain": [
       "[45, 67, 12, 23.45, 'world']"
      ]
     },
     "execution_count": 121,
     "metadata": {},
     "output_type": "execute_result"
    }
   ],
   "source": [
    "# delete the string 'hello' from it.\n",
    "del x[3]\n",
    "x"
   ]
  },
  {
   "cell_type": "code",
   "execution_count": 86,
   "id": "02ec9dad-76e9-4583-bdf9-61413c9fcfb7",
   "metadata": {},
   "outputs": [
    {
     "data": {
      "text/plain": [
       "[45, 67, 12, 23.45, 'world', 36]"
      ]
     },
     "execution_count": 86,
     "metadata": {},
     "output_type": "execute_result"
    }
   ],
   "source": [
    " # insert a new value of 36 at 5th position in list.\n",
    "x.insert( 5 , 36)\n",
    "x"
   ]
  },
  {
   "cell_type": "code",
   "execution_count": 88,
   "id": "167cc581-0d2b-4183-8509-fc07d2b958ab",
   "metadata": {},
   "outputs": [
    {
     "data": {
      "text/plain": [
       "6"
      ]
     },
     "execution_count": 88,
     "metadata": {},
     "output_type": "execute_result"
    }
   ],
   "source": [
    "# count total number of elements in list now.\n",
    "len(x)"
   ]
  },
  {
   "cell_type": "code",
   "execution_count": 102,
   "id": "c21813f3-f9ac-4959-9b21-73b9e5fa530a",
   "metadata": {},
   "outputs": [
    {
     "data": {
      "text/plain": [
       "[12, 23.45, 'world']"
      ]
     },
     "execution_count": 102,
     "metadata": {},
     "output_type": "execute_result"
    }
   ],
   "source": [
    "# extract the value from 2nd index to 5th index.\n",
    "x[2:6]"
   ]
  },
  {
   "cell_type": "code",
   "execution_count": 95,
   "id": "29ba3f0e-68ba-4e8d-bfcb-3c6103c25d3c",
   "metadata": {},
   "outputs": [
    {
     "data": {
      "text/plain": [
       "[45, 67, 12, 'hello', 23.45, 'world', [34, 'pune']]"
      ]
     },
     "execution_count": 95,
     "metadata": {},
     "output_type": "execute_result"
    }
   ],
   "source": [
    "# append[34,'pune']to this list.\n",
    "x.append([34,'pune'])\n",
    "x"
   ]
  },
  {
   "cell_type": "code",
   "execution_count": 122,
   "id": "bda1bf06-592a-4652-b703-dfb5c1e15962",
   "metadata": {},
   "outputs": [
    {
     "data": {
      "text/plain": [
       "[45, 67, 12, 23.45]"
      ]
     },
     "execution_count": 122,
     "metadata": {},
     "output_type": "execute_result"
    }
   ],
   "source": [
    " # delete the last element from list.\n",
    "del x[-1]\n",
    "x"
   ]
  },
  {
   "cell_type": "code",
   "execution_count": null,
   "id": "1b9f4dbd-65b2-4930-9ba2-e13e0c01b127",
   "metadata": {},
   "outputs": [],
   "source": [
    "'''\n",
    "7. # create a tuple of elements with 5 float values in it and perform following operations.\n",
    "      1.print the data in sorted manner.\n",
    "      2. check to see that the element 50 is present in it.\n",
    "      3. convert this tuple in set.\n",
    "''';"
   ]
  },
  {
   "cell_type": "code",
   "execution_count": 57,
   "id": "1d10feba-dff5-4d5a-aaf0-af49528413e0",
   "metadata": {},
   "outputs": [
    {
     "data": {
      "text/plain": [
       "(23.33, 54.76, 67.44, 50.78, 90.32)"
      ]
     },
     "execution_count": 57,
     "metadata": {},
     "output_type": "execute_result"
    }
   ],
   "source": [
    "t = (23.33,54.76,67.44,50.78,90.32)\n",
    "t"
   ]
  },
  {
   "cell_type": "code",
   "execution_count": 54,
   "id": "59973bc6-7886-47ae-b6a5-334025019cf1",
   "metadata": {},
   "outputs": [
    {
     "data": {
      "text/plain": [
       "[23.33, 50.78, 54.76, 67.44, 90.32]"
      ]
     },
     "execution_count": 54,
     "metadata": {},
     "output_type": "execute_result"
    }
   ],
   "source": [
    "# print the data in sorted manner.\n",
    "sorted(t,reverse = False)"
   ]
  },
  {
   "cell_type": "code",
   "execution_count": 56,
   "id": "8b70f4ff-ef96-4ca1-b52b-96ecf8fe2bea",
   "metadata": {},
   "outputs": [
    {
     "data": {
      "text/plain": [
       "False"
      ]
     },
     "execution_count": 56,
     "metadata": {},
     "output_type": "execute_result"
    }
   ],
   "source": [
    "# check to see that the element 50 is present in it.\n",
    "50 in t"
   ]
  },
  {
   "cell_type": "code",
   "execution_count": 114,
   "id": "9832c2e4-f830-475d-8d2e-d3dba35346af",
   "metadata": {},
   "outputs": [
    {
     "name": "stdout",
     "output_type": "stream",
     "text": [
      "(1, 2, 3)\n"
     ]
    }
   ],
   "source": [
    "# convert this tuple in set.\n",
    "t = (1,2,3)\n",
    "s = set(t)\n",
    "print(t)"
   ]
  },
  {
   "cell_type": "code",
   "execution_count": null,
   "id": "af79bc4e-6f57-4b1c-857d-7802b9961c3a",
   "metadata": {},
   "outputs": [],
   "source": [
    "'''\n",
    "8. # create a dictionary of elements:{'a':'apple','b':'ball','c':'cat','d':'doll','k':'king'}and perfrom following operations\n",
    "    1. access the data at key 'k'\n",
    "    2. add a new values 'z':'zebra'\n",
    "    3. replace the contents of 'd'as'dog'\n",
    "    4. print all the values from this dictionary\n",
    "    5. find the length of this dictionary.\n",
    "''';"
   ]
  },
  {
   "cell_type": "code",
   "execution_count": 48,
   "id": "4968bad0-a7d3-4f09-b885-85d35362a47b",
   "metadata": {},
   "outputs": [],
   "source": [
    "d ={'a':'apple','b':'ball','c':'cat','d':'doll','k':'king'}"
   ]
  },
  {
   "cell_type": "code",
   "execution_count": 34,
   "id": "52f51b96-08ca-41dc-b514-4fb89aba4541",
   "metadata": {},
   "outputs": [
    {
     "data": {
      "text/plain": [
       "'king'"
      ]
     },
     "execution_count": 34,
     "metadata": {},
     "output_type": "execute_result"
    }
   ],
   "source": [
    "# access the data at key 'k'\n",
    "d['k']"
   ]
  },
  {
   "cell_type": "code",
   "execution_count": 39,
   "id": "3054bef6-c636-4bc7-9d31-e627f246b269",
   "metadata": {},
   "outputs": [
    {
     "data": {
      "text/plain": [
       "{'a': 'apple', 'b': 'ball', 'c': 'cat', 'd': 'doll', 'k': 'king', 'z': 'zebra'}"
      ]
     },
     "execution_count": 39,
     "metadata": {},
     "output_type": "execute_result"
    }
   ],
   "source": [
    " # add a new values 'z':'zebra'\n",
    "d['z'] = 'zebra'\n",
    "d"
   ]
  },
  {
   "cell_type": "code",
   "execution_count": 41,
   "id": "f43aebf7-daae-4a10-827f-baacb4a91b11",
   "metadata": {},
   "outputs": [
    {
     "data": {
      "text/plain": [
       "{'a': 'apple', 'b': 'ball', 'c': 'cat', 'd': 'dog', 'k': 'king'}"
      ]
     },
     "execution_count": 41,
     "metadata": {},
     "output_type": "execute_result"
    }
   ],
   "source": [
    " # replace the contents of 'd'as'dog'\n",
    "d['d'] = 'dog'\n",
    "d"
   ]
  },
  {
   "cell_type": "code",
   "execution_count": 45,
   "id": "2d090c51-6b65-4b0a-9517-f13c19bf1b80",
   "metadata": {},
   "outputs": [
    {
     "name": "stdout",
     "output_type": "stream",
     "text": [
      "{'a': 'apple', 'b': 'ball', 'c': 'cat', 'd': 'doll', 'k': 'king'}\n"
     ]
    }
   ],
   "source": [
    "  # print all the values from this dictionary\n",
    "print(d)"
   ]
  },
  {
   "cell_type": "code",
   "execution_count": 49,
   "id": "4560c897-648c-42fc-b875-939d40ec4e18",
   "metadata": {},
   "outputs": [
    {
     "data": {
      "text/plain": [
       "5"
      ]
     },
     "execution_count": 49,
     "metadata": {},
     "output_type": "execute_result"
    }
   ],
   "source": [
    " # find the length of this dictionary.\n",
    "len(d)"
   ]
  },
  {
   "cell_type": "code",
   "execution_count": null,
   "id": "dad0209b-997d-40ed-b114-79b719cb0496",
   "metadata": {},
   "outputs": [],
   "source": [
    " 9. # write a program to find the second largest element in a list."
   ]
  },
  {
   "cell_type": "code",
   "execution_count": 32,
   "id": "d1bbca88-9dae-4dd6-b4d8-62ef5790e8c9",
   "metadata": {},
   "outputs": [
    {
     "name": "stdin",
     "output_type": "stream",
     "text": [
      "enter the number of elements in list: 5\n",
      "enter the elements 10\n",
      "enter the elements 20\n",
      "enter the elements 30\n",
      "enter the elements 40\n",
      "enter the elements 50\n"
     ]
    },
    {
     "name": "stdout",
     "output_type": "stream",
     "text": [
      "second largest element is: 40\n"
     ]
    }
   ],
   "source": [
    "list_val = []\n",
    "num_list = int(input('enter the number of elements in list:'))\n",
    "for i in range(1, num_list + 1):\n",
    "  element = int(input('enter the elements'))\n",
    "  list_val.append(element)\n",
    "\n",
    "list_val.sort()\n",
    "\n",
    "print('second largest element is:',list_val[-2])"
   ]
  },
  {
   "cell_type": "code",
   "execution_count": null,
   "id": "7f0ad7d8-a611-4fdd-b3ab-c2fa44c5931f",
   "metadata": {},
   "outputs": [],
   "source": [
    "'''\n",
    "10. # this is a list of some metallic elements:\n",
    "metals=['silver','gold',....]\n",
    "make a new list that is almost identical to the metals list.the new contains the same items. in the same order,except that it does not contain the item \n",
    "'copper'"
   ]
  },
  {
   "cell_type": "code",
   "execution_count": 25,
   "id": "5edb92b2-c47e-4585-ac96-4db133fb3287",
   "metadata": {},
   "outputs": [],
   "source": [
    "metals = ['silver','gold','copper','zinc']\n",
    "metals1 = ['silver','gold','    ','zinc']"
   ]
  },
  {
   "cell_type": "code",
   "execution_count": 26,
   "id": "76bc6ab4-88a3-49cf-be04-1267573a3c93",
   "metadata": {},
   "outputs": [
    {
     "name": "stdout",
     "output_type": "stream",
     "text": [
      "['silver', 'gold', 'copper', 'zinc']\n"
     ]
    }
   ],
   "source": [
    "print(metals)"
   ]
  },
  {
   "cell_type": "code",
   "execution_count": 27,
   "id": "34a441b4-61fa-49e4-b379-7698961358ac",
   "metadata": {},
   "outputs": [
    {
     "name": "stdout",
     "output_type": "stream",
     "text": [
      "['silver', 'gold', '    ', 'zinc']\n"
     ]
    }
   ],
   "source": [
    "print(metals1)"
   ]
  },
  {
   "cell_type": "code",
   "execution_count": null,
   "id": "4129b531-6141-4eab-9749-345e6214a336",
   "metadata": {},
   "outputs": [],
   "source": []
  }
 ],
 "metadata": {
  "kernelspec": {
   "display_name": "Python 3 (ipykernel)",
   "language": "python",
   "name": "python3"
  },
  "language_info": {
   "codemirror_mode": {
    "name": "ipython",
    "version": 3
   },
   "file_extension": ".py",
   "mimetype": "text/x-python",
   "name": "python",
   "nbconvert_exporter": "python",
   "pygments_lexer": "ipython3",
   "version": "3.11.7"
  }
 },
 "nbformat": 4,
 "nbformat_minor": 5
}
