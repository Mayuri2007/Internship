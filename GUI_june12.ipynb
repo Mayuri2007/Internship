{
 "cells": [
  {
   "cell_type": "code",
   "execution_count": 33,
   "id": "2afb91b9-b610-47a9-89ea-7d78c2e7e7fd",
   "metadata": {},
   "outputs": [],
   "source": [
    "import tkinter as tk"
   ]
  },
  {
   "cell_type": "code",
   "execution_count": 37,
   "id": "af6d9ef1-d2b8-44f5-ae14-c8860696ac53",
   "metadata": {},
   "outputs": [],
   "source": [
    "top = tk.Tk()\n",
    "\n",
    "top.title('my application')\n",
    "top.geometry('500x400')\n",
    "\n",
    "b1 = tk.Button(top, text = 'click me!!!', bg = 'orange').grid(column=0, row=1)\n",
    "e1 = tk.Entry(top).grid(column=1, row=1)\n",
    "t1 = tk.Text(top).grid(column=2, row=2)\n",
    "l1 = tk.Label(top, text = 'welcome',font = ('ariel bold',50)).grid(column=2, row=3)\n",
    "top.mainloop()"
   ]
  },
  {
   "cell_type": "code",
   "execution_count": null,
   "id": "21d25cf4-ca9a-47be-81c0-a2c263fc6bb4",
   "metadata": {},
   "outputs": [],
   "source": []
  }
 ],
 "metadata": {
  "kernelspec": {
   "display_name": "Python 3 (ipykernel)",
   "language": "python",
   "name": "python3"
  },
  "language_info": {
   "codemirror_mode": {
    "name": "ipython",
    "version": 3
   },
   "file_extension": ".py",
   "mimetype": "text/x-python",
   "name": "python",
   "nbconvert_exporter": "python",
   "pygments_lexer": "ipython3",
   "version": "3.11.7"
  }
 },
 "nbformat": 4,
 "nbformat_minor": 5
}
