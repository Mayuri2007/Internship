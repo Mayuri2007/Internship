{
 "cells": [
  {
   "cell_type": "code",
   "execution_count": 1,
   "id": "f7de45cb-b36f-4399-a756-981335cafb25",
   "metadata": {},
   "outputs": [],
   "source": [
    "class Employee():\n",
    "    pass"
   ]
  },
  {
   "cell_type": "code",
   "execution_count": 2,
   "id": "668c3eca-2bc8-43a0-b755-5985b8268438",
   "metadata": {},
   "outputs": [],
   "source": [
    "emp1 = Employee()\n",
    "emp2 = Employee()"
   ]
  },
  {
   "cell_type": "code",
   "execution_count": 3,
   "id": "ffc5e679-f22d-4fca-9c17-0179cd2bd32f",
   "metadata": {},
   "outputs": [
    {
     "name": "stdout",
     "output_type": "stream",
     "text": [
      "<__main__.Employee object at 0x00000255386DC2D0>\n",
      "<__main__.Employee object at 0x00000255386DC690>\n"
     ]
    }
   ],
   "source": [
    "print(emp1)\n",
    "print(emp2)"
   ]
  },
  {
   "cell_type": "code",
   "execution_count": 4,
   "id": "7705b8b5-907a-47c4-ba31-6a74a61395c5",
   "metadata": {},
   "outputs": [],
   "source": [
    "# instance variables\n",
    "\n",
    "emp1.first = 'shambhavi'\n",
    "emp1.last = 'kalshetty'\n",
    "emp1.salary = 52000\n",
    "\n",
    "emp2.first = 'sakshi'\n",
    "emp2.last ='daphal'\n",
    "emp2.salary = 54000"
   ]
  },
  {
   "cell_type": "code",
   "execution_count": 5,
   "id": "af441272-9f05-4ad1-b995-5322e8f2153f",
   "metadata": {},
   "outputs": [
    {
     "name": "stdout",
     "output_type": "stream",
     "text": [
      "shambhavi\n"
     ]
    }
   ],
   "source": [
    "print(emp1.first)"
   ]
  },
  {
   "cell_type": "code",
   "execution_count": 6,
   "id": "2b80aed5-ef84-432e-a3cb-79fbda6225a7",
   "metadata": {},
   "outputs": [
    {
     "name": "stdout",
     "output_type": "stream",
     "text": [
      "52000\n"
     ]
    }
   ],
   "source": [
    "print(emp1.salary)"
   ]
  },
  {
   "cell_type": "code",
   "execution_count": 34,
   "id": "50e77410-b37b-4815-b6a9-47cd2f834a5f",
   "metadata": {},
   "outputs": [],
   "source": [
    "class Employee():\n",
    "    def __init__(self, first, last, salary):            #init method\n",
    "        self.first = first\n",
    "        self.last = last\n",
    "        self.salary = salary\n",
    "\n",
    "    def show(self):\n",
    "        print(self.first + ' ' +'ok')"
   ]
  },
  {
   "cell_type": "code",
   "execution_count": 35,
   "id": "a9fcbff8-7a3e-416b-b4b4-9031e8ff1426",
   "metadata": {},
   "outputs": [],
   "source": [
    "emp1 = Employee('raj','sharma',48000)"
   ]
  },
  {
   "cell_type": "code",
   "execution_count": 36,
   "id": "3bdb5441-8d18-4662-a21c-d0cd2807b5b1",
   "metadata": {},
   "outputs": [
    {
     "name": "stdout",
     "output_type": "stream",
     "text": [
      "raj\n"
     ]
    }
   ],
   "source": [
    "print(emp1.first)"
   ]
  },
  {
   "cell_type": "code",
   "execution_count": 37,
   "id": "001c4fcd-7f78-4052-a808-d4691fe90d27",
   "metadata": {},
   "outputs": [],
   "source": [
    "emp2 = Employee('mayuri','kokate',54000)"
   ]
  },
  {
   "cell_type": "code",
   "execution_count": 38,
   "id": "2a6550c3-b48b-4b76-8bbf-9bb1d2e5147d",
   "metadata": {},
   "outputs": [
    {
     "name": "stdout",
     "output_type": "stream",
     "text": [
      "kokate\n"
     ]
    }
   ],
   "source": [
    "print(emp2.last)"
   ]
  },
  {
   "cell_type": "code",
   "execution_count": 39,
   "id": "0ca84781-af23-416d-b9d2-0698275fab88",
   "metadata": {},
   "outputs": [
    {
     "name": "stdout",
     "output_type": "stream",
     "text": [
      "raj ok\n"
     ]
    }
   ],
   "source": [
    "emp1.show()"
   ]
  },
  {
   "cell_type": "code",
   "execution_count": 40,
   "id": "5fac567d-3a12-4c07-a1bb-ebcdef0fc094",
   "metadata": {},
   "outputs": [
    {
     "name": "stdout",
     "output_type": "stream",
     "text": [
      "jay ok\n"
     ]
    }
   ],
   "source": [
    "emp2.show()"
   ]
  },
  {
   "cell_type": "code",
   "execution_count": 59,
   "id": "a709a6f4-a9af-41ef-8e0b-eb73e336f955",
   "metadata": {},
   "outputs": [],
   "source": [
    "# Encapsulation\n",
    "\n",
    "class Employee1():\n",
    "    def __init__(self, first, last, salary):            #init method\n",
    "        self.first = first\n",
    "        self.last = last\n",
    "        self.__salary = salary                            # private variable\n",
    "\n",
    "    def show(self):\n",
    "        print(self.first + ' ' +'ok')\n",
    "        \n",
    "    def show(self):\n",
    "        print(self.__salary)"
   ]
  },
  {
   "cell_type": "code",
   "execution_count": 60,
   "id": "b4b604e9-2d2a-4802-9576-a4445a28ed81",
   "metadata": {},
   "outputs": [],
   "source": [
    "emp1 = Employee1('raj','sharma',48000)\n",
    "emp2 = Employee1('jay','kokate',54000)"
   ]
  },
  {
   "cell_type": "code",
   "execution_count": 61,
   "id": "5e876641-9047-4f42-a142-eac12eccf038",
   "metadata": {},
   "outputs": [
    {
     "data": {
      "text/plain": [
       "'raj'"
      ]
     },
     "execution_count": 61,
     "metadata": {},
     "output_type": "execute_result"
    }
   ],
   "source": [
    "emp1.first"
   ]
  },
  {
   "cell_type": "code",
   "execution_count": 63,
   "id": "5a01c2f2-4028-4ba9-8144-4356bdd3d245",
   "metadata": {},
   "outputs": [
    {
     "name": "stdout",
     "output_type": "stream",
     "text": [
      "48000\n"
     ]
    }
   ],
   "source": [
    "emp1.show()"
   ]
  },
  {
   "cell_type": "code",
   "execution_count": 65,
   "id": "bd9668c6-0c3e-48ca-a083-479a87b7780e",
   "metadata": {},
   "outputs": [],
   "source": [
    "# inheritance\n",
    "\n",
    "class Emp2(Employee1):       # Emp2 => subclass , Employee1 => superclass\n",
    "    pass"
   ]
  },
  {
   "cell_type": "code",
   "execution_count": 66,
   "id": "4eb2bc8a-2f05-4a63-a40c-2440647fced8",
   "metadata": {},
   "outputs": [],
   "source": [
    "emp3 = Emp2('neha','kulkarni',55000)"
   ]
  },
  {
   "cell_type": "code",
   "execution_count": 67,
   "id": "b2d82a1d-4f6e-4b3c-9370-a2df18bac0a1",
   "metadata": {},
   "outputs": [
    {
     "name": "stdout",
     "output_type": "stream",
     "text": [
      "55000\n"
     ]
    }
   ],
   "source": [
    "emp3.show()"
   ]
  },
  {
   "cell_type": "code",
   "execution_count": null,
   "id": "1e0bdfc4-5766-457b-b0f6-3ad1dcd1a9f5",
   "metadata": {},
   "outputs": [],
   "source": [
    "'''\n",
    "create a class called person \n",
    "attributes=> name,age,city..(make use of default parameters also)\n",
    "create a method which will show all the info of a person.\n",
    "''';\n"
   ]
  },
  {
   "cell_type": "code",
   "execution_count": 103,
   "id": "a504aa5b-7681-4399-b8e7-a5c3a2eeee4f",
   "metadata": {},
   "outputs": [],
   "source": [
    "class person():\n",
    "    def __init__(self, n , a = 25):            \n",
    "        self.name = n\n",
    "        self.age = a\n",
    "                               \n",
    "    def show(self):\n",
    "        print('name', self.name)\n",
    "        print('age', self.age)"
   ]
  },
  {
   "cell_type": "code",
   "execution_count": 104,
   "id": "0581f26b-7e66-48a1-92a2-ae577586acd0",
   "metadata": {},
   "outputs": [],
   "source": [
    "p1 = person('raj', 25)\n"
   ]
  },
  {
   "cell_type": "code",
   "execution_count": 105,
   "id": "f8214762-d5a1-433b-a551-645849fd5781",
   "metadata": {},
   "outputs": [],
   "source": [
    "p2 = person('jay', 24 )"
   ]
  },
  {
   "cell_type": "code",
   "execution_count": 106,
   "id": "654ee1fc-3269-4834-93f7-95ae8a3b3433",
   "metadata": {},
   "outputs": [
    {
     "name": "stdout",
     "output_type": "stream",
     "text": [
      "name raj\n",
      "age 25\n"
     ]
    }
   ],
   "source": [
    "p1.show()"
   ]
  },
  {
   "cell_type": "code",
   "execution_count": null,
   "id": "2a3ae235-e3b2-4485-b5c2-a6d97d38025f",
   "metadata": {},
   "outputs": [],
   "source": []
  },
  {
   "cell_type": "code",
   "execution_count": null,
   "id": "55d4b674-bdb2-4013-b70d-e6c64948bc95",
   "metadata": {},
   "outputs": [],
   "source": []
  }
 ],
 "metadata": {
  "kernelspec": {
   "display_name": "Python 3 (ipykernel)",
   "language": "python",
   "name": "python3"
  },
  "language_info": {
   "codemirror_mode": {
    "name": "ipython",
    "version": 3
   },
   "file_extension": ".py",
   "mimetype": "text/x-python",
   "name": "python",
   "nbconvert_exporter": "python",
   "pygments_lexer": "ipython3",
   "version": "3.11.7"
  }
 },
 "nbformat": 4,
 "nbformat_minor": 5
}
